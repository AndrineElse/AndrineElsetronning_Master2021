{
 "cells": [
  {
   "cell_type": "code",
   "execution_count": 1,
   "id": "popular-forwarding",
   "metadata": {},
   "outputs": [],
   "source": [
    "import numpy as np\n",
    "import pandas as pd\n",
    "import os\n",
    "import sys\n",
    "from scipy.stats import skew \n",
    "import librosa\n",
    "import time as time\n",
    "module_path = os.path.abspath(os.path.join('../..'))\n",
    "sys.path.insert(1, module_path + '/src')\n",
    "import utility\n",
    "from sktime.utils.data_io import load_from_tsfile_to_dataframe\n",
    "\n",
    "def get_entropy(timeseries):\n",
    "    timeseries_nz = timeseries[timeseries != 0]\n",
    "    return - np.sum(((timeseries_nz**2)*np.log(timeseries_nz**2)))\n",
    "    \n",
    "def get_energy(timeseries):  \n",
    "    N = len(timeseries)\n",
    "    return np.sum(np.abs(timeseries) ** 2) / N\n",
    "    \n",
    "def get_features(data, n_mfcc = 30):\n",
    "    sr = 4000\n",
    "    ft1 = librosa.feature.mfcc(data, sr = sr, n_mfcc=n_mfcc)\n",
    "    ft2 = librosa.feature.zero_crossing_rate(data)[0]\n",
    "    ft3 = librosa.feature.spectral_rolloff(data)[0]\n",
    "    ft4 = librosa.feature.spectral_centroid(data)[0]\n",
    "    ft5 = librosa.feature.spectral_contrast(data)[0]\n",
    "    ft6 = librosa.feature.spectral_bandwidth(data)[0]\n",
    "\n",
    "    ### Get HOS and simple features \n",
    "    ft0_trunc = np.hstack((np.mean(data) , np.std(data), skew(data), np.max(data), np.median(data), np.min(data), get_energy(data), get_entropy(data)))\n",
    "  \n",
    "    ### MFCC features\n",
    "    ft1_trunc = np.hstack((np.mean(ft1, axis=1), np.std(ft1, axis=1), skew(ft1, axis = 1), np.max(ft1, axis = 1), np.median(ft1, axis = 1), np.min(ft1, axis = 1)))\n",
    "    \n",
    "    ### Spectral Features \n",
    "    ft2_trunc = np.hstack((np.mean(ft2), np.std(ft2), skew(ft2), np.max(ft2), np.median(ft2), np.min(ft2)))\n",
    "    ft3_trunc = np.hstack((np.mean(ft3), np.std(ft3), skew(ft3), np.max(ft3), np.median(ft3), np.min(ft3)))\n",
    "    ft4_trunc = np.hstack((np.mean(ft4), np.std(ft4), skew(ft4), np.max(ft4), np.median(ft4), np.min(ft4)))\n",
    "    ft5_trunc = np.hstack((np.mean(ft5), np.std(ft5), skew(ft5), np.max(ft5), np.median(ft5), np.min(ft5)))\n",
    "    ft6_trunc = np.hstack((np.mean(ft6), np.std(ft6), skew(ft6), np.max(ft6), np.median(ft6), np.max(ft6)))\n",
    "    return pd.Series(np.hstack((ft0_trunc , ft1_trunc, ft2_trunc, ft3_trunc, ft4_trunc, ft5_trunc, ft6_trunc)))\n",
    "\n",
    "def get_new_X(X):\n",
    "    df = pd.DataFrame()\n",
    "    for i, row in X.iterrows():\n",
    "        new_row = get_features(row.values[0].to_numpy())\n",
    "        df = df.append(new_row,ignore_index=True)\n",
    "    return df\n",
    "\n",
    "def write_to_ts(filepath, X, y):\n",
    "    \n",
    "    w = open(filepath, 'w+')\n",
    "    \n",
    "    w.write('@problemName LungSoundsMiniROCKET \\n')\n",
    "    w.write('@timeStamps false \\n')\n",
    "    w.write('@missing false \\n')\n",
    "    w.write('@univariate true \\n')\n",
    "    w.write('@equalLength true \\n')\n",
    "    w.write(f'@seriesLength {str(len(X.columns))} \\n')\n",
    "    w.write('@classLabel true no_crackle crackle\\n')\n",
    "    w.write('@data \\n')\n",
    "    for (idx, row) in X.iterrows():\n",
    "        new_row = str((list(row)))[1:-1].replace(' ', '') + ':' + y[idx] + '\\n'\n",
    "        w.write(new_row)"
   ]
  },
  {
   "cell_type": "code",
   "execution_count": 2,
   "id": "going-saturn",
   "metadata": {},
   "outputs": [
    {
     "name": "stdout",
     "output_type": "stream",
     "text": [
      "Time to fetch X y:  43.39338731765747\n"
     ]
    }
   ],
   "source": [
    "start = time.time()\n",
    "X, y = load_from_tsfile_to_dataframe(module_path + '/data/ts_files/crackleNoCrackle_FULL.ts')\n",
    "print('Time to fetch X y: ', time.time() - start)"
   ]
  },
  {
   "cell_type": "code",
   "execution_count": 3,
   "id": "statutory-direction",
   "metadata": {
    "scrolled": true
   },
   "outputs": [
    {
     "name": "stderr",
     "output_type": "stream",
     "text": [
      "/home/andrine/anaconda3/lib/python3.7/site-packages/librosa/core/spectrum.py:224: UserWarning: n_fft=2048 is too small for input signal of length=1848\n",
      "  n_fft, y.shape[-1]\n",
      "/home/andrine/anaconda3/lib/python3.7/site-packages/librosa/core/spectrum.py:224: UserWarning: n_fft=2048 is too small for input signal of length=1772\n",
      "  n_fft, y.shape[-1]\n",
      "/home/andrine/anaconda3/lib/python3.7/site-packages/librosa/core/spectrum.py:224: UserWarning: n_fft=2048 is too small for input signal of length=1468\n",
      "  n_fft, y.shape[-1]\n",
      "/home/andrine/anaconda3/lib/python3.7/site-packages/librosa/core/spectrum.py:224: UserWarning: n_fft=2048 is too small for input signal of length=1200\n",
      "  n_fft, y.shape[-1]\n",
      "/home/andrine/anaconda3/lib/python3.7/site-packages/librosa/core/spectrum.py:224: UserWarning: n_fft=2048 is too small for input signal of length=1256\n",
      "  n_fft, y.shape[-1]\n",
      "/home/andrine/anaconda3/lib/python3.7/site-packages/librosa/core/spectrum.py:224: UserWarning: n_fft=2048 is too small for input signal of length=912\n",
      "  n_fft, y.shape[-1]\n",
      "/home/andrine/anaconda3/lib/python3.7/site-packages/librosa/core/spectrum.py:224: UserWarning: n_fft=2048 is too small for input signal of length=1712\n",
      "  n_fft, y.shape[-1]\n",
      "/home/andrine/anaconda3/lib/python3.7/site-packages/librosa/core/spectrum.py:224: UserWarning: n_fft=2048 is too small for input signal of length=2000\n",
      "  n_fft, y.shape[-1]\n",
      "/home/andrine/anaconda3/lib/python3.7/site-packages/librosa/core/spectrum.py:224: UserWarning: n_fft=2048 is too small for input signal of length=1716\n",
      "  n_fft, y.shape[-1]\n",
      "/home/andrine/anaconda3/lib/python3.7/site-packages/librosa/core/spectrum.py:224: UserWarning: n_fft=2048 is too small for input signal of length=1312\n",
      "  n_fft, y.shape[-1]\n",
      "/home/andrine/anaconda3/lib/python3.7/site-packages/librosa/core/spectrum.py:224: UserWarning: n_fft=2048 is too small for input signal of length=1656\n",
      "  n_fft, y.shape[-1]\n",
      "/home/andrine/anaconda3/lib/python3.7/site-packages/librosa/core/spectrum.py:224: UserWarning: n_fft=2048 is too small for input signal of length=1372\n",
      "  n_fft, y.shape[-1]\n",
      "/home/andrine/anaconda3/lib/python3.7/site-packages/librosa/core/spectrum.py:224: UserWarning: n_fft=2048 is too small for input signal of length=1316\n",
      "  n_fft, y.shape[-1]\n",
      "/home/andrine/anaconda3/lib/python3.7/site-packages/librosa/core/spectrum.py:224: UserWarning: n_fft=2048 is too small for input signal of length=1544\n",
      "  n_fft, y.shape[-1]\n",
      "/home/andrine/anaconda3/lib/python3.7/site-packages/librosa/core/spectrum.py:224: UserWarning: n_fft=2048 is too small for input signal of length=1808\n",
      "  n_fft, y.shape[-1]\n",
      "/home/andrine/anaconda3/lib/python3.7/site-packages/librosa/core/spectrum.py:224: UserWarning: n_fft=2048 is too small for input signal of length=1484\n",
      "  n_fft, y.shape[-1]\n",
      "/home/andrine/anaconda3/lib/python3.7/site-packages/librosa/core/spectrum.py:224: UserWarning: n_fft=2048 is too small for input signal of length=1368\n",
      "  n_fft, y.shape[-1]\n",
      "/home/andrine/anaconda3/lib/python3.7/site-packages/librosa/core/spectrum.py:224: UserWarning: n_fft=2048 is too small for input signal of length=1260\n",
      "  n_fft, y.shape[-1]\n",
      "/home/andrine/anaconda3/lib/python3.7/site-packages/librosa/core/spectrum.py:224: UserWarning: n_fft=2048 is too small for input signal of length=1480\n",
      "  n_fft, y.shape[-1]\n",
      "/home/andrine/anaconda3/lib/python3.7/site-packages/librosa/core/spectrum.py:224: UserWarning: n_fft=2048 is too small for input signal of length=1428\n",
      "  n_fft, y.shape[-1]\n",
      "/home/andrine/anaconda3/lib/python3.7/site-packages/librosa/core/spectrum.py:224: UserWarning: n_fft=2048 is too small for input signal of length=1832\n",
      "  n_fft, y.shape[-1]\n",
      "/home/andrine/anaconda3/lib/python3.7/site-packages/librosa/core/spectrum.py:224: UserWarning: n_fft=2048 is too small for input signal of length=1028\n",
      "  n_fft, y.shape[-1]\n",
      "/home/andrine/anaconda3/lib/python3.7/site-packages/librosa/core/spectrum.py:224: UserWarning: n_fft=2048 is too small for input signal of length=1888\n",
      "  n_fft, y.shape[-1]\n",
      "/home/andrine/anaconda3/lib/python3.7/site-packages/librosa/core/spectrum.py:224: UserWarning: n_fft=2048 is too small for input signal of length=1600\n",
      "  n_fft, y.shape[-1]\n",
      "/home/andrine/anaconda3/lib/python3.7/site-packages/librosa/core/spectrum.py:224: UserWarning: n_fft=2048 is too small for input signal of length=972\n",
      "  n_fft, y.shape[-1]\n",
      "/home/andrine/anaconda3/lib/python3.7/site-packages/librosa/core/spectrum.py:224: UserWarning: n_fft=2048 is too small for input signal of length=1944\n",
      "  n_fft, y.shape[-1]\n",
      "/home/andrine/anaconda3/lib/python3.7/site-packages/librosa/core/spectrum.py:224: UserWarning: n_fft=2048 is too small for input signal of length=1304\n",
      "  n_fft, y.shape[-1]\n",
      "/home/andrine/anaconda3/lib/python3.7/site-packages/librosa/core/spectrum.py:224: UserWarning: n_fft=2048 is too small for input signal of length=800\n",
      "  n_fft, y.shape[-1]\n",
      "/home/andrine/anaconda3/lib/python3.7/site-packages/librosa/core/spectrum.py:224: UserWarning: n_fft=2048 is too small for input signal of length=2040\n",
      "  n_fft, y.shape[-1]\n",
      "/home/andrine/anaconda3/lib/python3.7/site-packages/librosa/core/spectrum.py:224: UserWarning: n_fft=2048 is too small for input signal of length=1144\n",
      "  n_fft, y.shape[-1]\n"
     ]
    },
    {
     "name": "stdout",
     "output_type": "stream",
     "text": [
      "Time to extract features from pre project:  190.22970938682556\n"
     ]
    }
   ],
   "source": [
    "start = time.time()\n",
    "\n",
    "new_X = get_new_X(X)\n",
    "\n",
    "print('Time to extract features from pre project: ', str(time.time() - start))"
   ]
  },
  {
   "cell_type": "code",
   "execution_count": 4,
   "id": "attractive-jefferson",
   "metadata": {},
   "outputs": [],
   "source": [
    "from sklearn.model_selection import train_test_split\n",
    "from sklearn.preprocessing import MinMaxScaler\n",
    "\n",
    "kwargs = dict(test_size=0.2, random_state=1)\n",
    "X_train, X_test, y_train, y_test = train_test_split(new_X, y, **kwargs)\n",
    "\n",
    "scaler = MinMaxScaler()\n",
    "scaler.fit(X_train)\n",
    "X_train_norm = pd.DataFrame(scaler.transform(X_train))\n",
    "X_test_norm = pd.DataFrame(scaler.transform(X_test))"
   ]
  },
  {
   "cell_type": "code",
   "execution_count": 7,
   "id": "quantitative-fitting",
   "metadata": {},
   "outputs": [],
   "source": [
    "write_to_ts(module_path + '/features/extracted_features_ts_files/lungsound_preproject_TRAIN.ts', X_train_norm, y_train)\n",
    "write_to_ts(module_path + '/features/extracted_features_ts_files/lungsound_preproject_TEST.ts', X_test_norm, y_test)"
   ]
  }
 ],
 "metadata": {
  "kernelspec": {
   "display_name": "Python 3",
   "language": "python",
   "name": "python3"
  },
  "language_info": {
   "codemirror_mode": {
    "name": "ipython",
    "version": 3
   },
   "file_extension": ".py",
   "mimetype": "text/x-python",
   "name": "python",
   "nbconvert_exporter": "python",
   "pygments_lexer": "ipython3",
   "version": "3.7.9"
  }
 },
 "nbformat": 4,
 "nbformat_minor": 5
}
