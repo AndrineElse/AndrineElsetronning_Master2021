{
 "cells": [
  {
   "cell_type": "markdown",
   "id": "spoken-august",
   "metadata": {},
   "source": [
    "# Code for writing the lung sound data to .ts file\n",
    "\n",
    "Below are different approaches to loading the data to a .ts file, so that it can be utilised by sktime"
   ]
  },
  {
   "cell_type": "code",
   "execution_count": 10,
   "id": "increasing-notification",
   "metadata": {},
   "outputs": [],
   "source": [
    "import numpy as np\n",
    "import pandas as pd\n",
    "import os\n",
    "import sys\n",
    "module_path = os.path.abspath(os.path.join('../..'))\n",
    "sys.path.insert(1, module_path + '/src')\n",
    "\n",
    "import utility\n",
    "\n",
    "import librosa\n",
    "import sktime\n",
    "from sktime.utils.data_io import load_from_tsfile_to_dataframe\n",
    "from sklearn.model_selection import train_test_split\n",
    "\n",
    "from math import ceil\n",
    "\n",
    "def znorm(timeseries):\n",
    "    mean = np.mean(timeseries)\n",
    "    sd = np.std(timeseries)\n",
    "    return (timeseries - mean)/sd\n",
    "\n",
    "target_rate = 44100\n",
    "ds_target_rate = 4000\n",
    "AUTH = 'Litt3200'\n",
    "ESSUA = ['AKGC417L', 'LittC2SE', 'Meditron']"
   ]
  },
  {
   "cell_type": "markdown",
   "id": "separated-requirement",
   "metadata": {},
   "source": [
    "Firstly printing some information to get an understanding of what data is present"
   ]
  },
  {
   "cell_type": "code",
   "execution_count": 11,
   "id": "revolutionary-camel",
   "metadata": {},
   "outputs": [
    {
     "name": "stdout",
     "output_type": "stream",
     "text": [
      "Number of crackle files available: 1864 \n",
      "Number of wheeze files available: 886 \n",
      "Number of none files available 3642  \n",
      "Number of both files available 506\n",
      "Frame length for calculating rmf: 8\n",
      "Hop length for calculating rmf: 6\n"
     ]
    }
   ],
   "source": [
    "none_path = module_path + '/data/crackleWheeze/none/'\n",
    "crackle_path = module_path + '/data/crackleWheeze/crackle/'\n",
    "both_path = module_path + '/data/crackleWheeze/both/'\n",
    "wheeze_path = module_path + '/data/crackleWheeze/wheeze/'\n",
    "\n",
    "\n",
    "none = [file_name for file_name in os.listdir(none_path) if '.wav' in file_name]\n",
    "crackle = [file_name for file_name in os.listdir(crackle_path) if '.wav' in file_name]\n",
    "wheeze = [file_name for file_name in os.listdir(wheeze_path) if '.wav' in file_name]\n",
    "both= [file_name for file_name in os.listdir(both_path) if '.wav' in file_name]\n",
    "print(f'Number of crackle files available: {len(crackle)}',\n",
    "      f'\\nNumber of wheeze files available: {len(wheeze)}',\n",
    "      f'\\nNumber of none files available {len(none)}', \n",
    "      f' \\nNumber of both files available {len(both)}')\n",
    "\n",
    "class_lists = {'crackle' : crackle,\n",
    "    'wheeze': wheeze,\n",
    "    'none': none, \n",
    "    'both': both\n",
    "}\n",
    "\n",
    "class_paths = {'crackle' : crackle_path,\n",
    "    'wheeze': wheeze_path,\n",
    "    'none': none_path, \n",
    "    'both': both_path\n",
    "}\n",
    "\n",
    "frame_len = round(ds_target_rate*0.002)\n",
    "print(f'Frame length for calculating rmf: {frame_len}')\n",
    "hop_len = ceil(frame_len/1.5)\n",
    "print(f'Hop length for calculating rmf: {hop_len}')"
   ]
  },
  {
   "cell_type": "markdown",
   "id": "desirable-emphasis",
   "metadata": {},
   "source": [
    "# Zero padding to get equal lengths"
   ]
  },
  {
   "cell_type": "code",
   "execution_count": 7,
   "id": "contemporary-spanish",
   "metadata": {},
   "outputs": [
    {
     "name": "stdout",
     "output_type": "stream",
     "text": [
      "AKGC417L\n"
     ]
    },
    {
     "data": {
      "image/png": "[encoded data removed]",
      "text/plain": [
       "<Figure size 432x288 with 1 Axes>"
      ]
     },
     "metadata": {
      "needs_background": "light"
     },
     "output_type": "display_data"
    }
   ],
   "source": [
    "class_list =  ['crackle', 'wheeze', 'none', 'both']\n",
    "count = 0\n",
    "import matplotlib.pyplot as plt\n",
    "for class_ in class_list:\n",
    "    for name in class_lists[class_]: \n",
    "        rec_met = name[14:22]\n",
    "        print(rec_met)\n",
    "        if rec_met == AUTH:\n",
    "            count = count + 1\n",
    "        audio_file = class_paths[class_] + name\n",
    "        sr, audio = utility.read_wav_file(audio_file, target_rate)\n",
    "        audio = utility.denoise_audio(audio)\n",
    "        audio, sr = utility.downsample(audio, sr, 4000)\n",
    "        audio = znorm(audio)\n",
    "        audio = zero_pad(audio, 20000)\n",
    "        plt.plot(audio)\n",
    "        break\n",
    "    break\n",
    "        \n"
   ]
  },
  {
   "cell_type": "markdown",
   "id": "several-saying",
   "metadata": {},
   "source": [
    "# Creating the .ts file for the four class classification problem\n",
    "\n",
    "classes: \n",
    "   0: crackle\n",
    "   1: wheeze\n",
    "   2: none \n",
    "   3: both\n",
    "   \n",
    "Below the rms of frames are calculated, to compress the data. "
   ]
  },
  {
   "cell_type": "code",
   "execution_count": 160,
   "id": "golden-yield",
   "metadata": {},
   "outputs": [],
   "source": [
    "def write_class(writer, class_list, class_name, class_path, fixed= True, fixed_len = 2000):\n",
    "    classes = {\n",
    "    'crackle': '0',\n",
    "    'wheeze': '1',\n",
    "    'none': '2',\n",
    "    'both': '3'\n",
    "    }\n",
    "    for name in class_list: \n",
    "        audio_file = class_path + name\n",
    "        sr, audio = utility.read_wav_file(audio_file, target_rate)\n",
    "        audio = utility.denoise_audio(audio)\n",
    "        audio, sr = utility.downsample(audio, sr, 4000)\n",
    "        audio = znorm(audio)\n",
    "        rms_new = librosa.feature.rms(audio, frame_length = frame_len, hop_length = hop_len)[0]\n",
    "        \n",
    "        if fixed: \n",
    "            if len(rms_new) > fixed_len:\n",
    "                    rms_new = rms_new[0:fixed_len]\n",
    "            df_new = np.zeros(fixed_len)\n",
    "            df_new[0:len(rms_new)] = rms_new\n",
    "            new_row = str(list(df_new))[1:-1].replace(' ', '') + ':' + classes[class_name] + '\\n'\n",
    "        else: \n",
    "            new_row = str(list(rms_new))[1:-1].replace(' ', '') + ':' + classes[class_name] + '\\n'\n",
    "        writer.write(new_row)\n",
    "\n",
    "def write_ts(filename, fixed = True, fixed_len = 2000):\n",
    "    w = open(filename, 'w+')\n",
    "    row = w.read()\n",
    "\n",
    "    w.write('@problemName LungSounds \\n')\n",
    "    w.write('@timeStamps false \\n')\n",
    "    w.write('@missing false \\n')\n",
    "    w.write('@univariate true \\n')\n",
    "    if fixed: \n",
    "        w.write('@equalLength true \\n')\n",
    "        w.write(f'@seriesLength {str(fixed_len)} \\n')\n",
    "    else:\n",
    "        w.write('@equalLength false \\n')\n",
    "    w.write('@classLabel true crackle wheeze none both \\n')\n",
    "    w.write('@data \\n')\n",
    "\n",
    "    for class_name, class_list in class_lists.items():\n",
    "        if fixed:\n",
    "            write_class(w , class_list, class_name, class_paths[class_name], True, fixed_len)\n",
    "        else: \n",
    "            write_class(w , class_list, class_name, class_paths[class_name], False)\n",
    "    #os.close()"
   ]
  },
  {
   "cell_type": "code",
   "execution_count": 161,
   "id": "declared-pillow",
   "metadata": {},
   "outputs": [],
   "source": [
    "#write_ts(module_path + '/data/ts_files/crackleWheeze.ts', False)"
   ]
  },
  {
   "cell_type": "markdown",
   "id": "medium-monday",
   "metadata": {},
   "source": [
    "# Creating the .ts files for the two class classification problem\n",
    "Below the rms of frames are calculated, to compress the data. "
   ]
  },
  {
   "cell_type": "code",
   "execution_count": 11,
   "id": "infrared-failing",
   "metadata": {},
   "outputs": [],
   "source": [
    "def write_class2(writer, class_list, class_name, class_path, fixed= True, fixed_len = 2000):\n",
    "    classes = {\n",
    "    'crackle': '1',\n",
    "    'wheeze': '0',\n",
    "    'none': '0',\n",
    "    'both': '1'\n",
    "    }\n",
    "    for name in class_list: \n",
    "        audio_file = class_path + name\n",
    "        sr, audio = utility.read_wav_file(audio_file, target_rate)\n",
    "        audio = utility.denoise_audio(audio)\n",
    "        audio, sr = utility.downsample(audio, sr, 4000)\n",
    "        audio = znorm(audio)\n",
    "        rms_new = librosa.feature.rms(audio, frame_length = frame_len, hop_length = hop_len)[0]\n",
    "        \n",
    "        if fixed: \n",
    "            if len(rms_new) > fixed_len:\n",
    "                    rms_new = rms_new[0:fixed_len]\n",
    "            df_new = np.zeros(fixed_len)\n",
    "            df_new[0:len(rms_new)] = rms_new\n",
    "            new_row = str(list(df_new))[1:-1].replace(' ', '') + ':' + classes[class_name] + '\\n'\n",
    "        else: \n",
    "            new_row = str(list(rms_new))[1:-1].replace(' ', '') + ':' + classes[class_name] + '\\n'\n",
    "        writer.write(new_row)\n",
    "\n",
    "def write_ts2(filename, fixed = True, fixed_len = 2000):\n",
    "    w = open(filename, 'w+')\n",
    "    row = w.read()\n",
    "\n",
    "    w.write('@problemName LungSounds \\n')\n",
    "    w.write('@timeStamps false \\n')\n",
    "    w.write('@missing false \\n')\n",
    "    w.write('@univariate true \\n')\n",
    "    if fixed: \n",
    "        w.write('@equalLength true \\n')\n",
    "        w.write(f'@seriesLength {str(fixed_len)} \\n')\n",
    "    else:\n",
    "        w.write('@equalLength false \\n')\n",
    "    w.write('@classLabel true crackle no_crackle \\n')\n",
    "    w.write('@data \\n')\n",
    "\n",
    "    for class_name, class_list in class_lists.items():\n",
    "        if fixed:\n",
    "            write_class2(w , class_list, class_name, class_paths[class_name], True, fixed_len)\n",
    "        else: \n",
    "            write_class2(w , class_list, class_name, class_paths[class_name], False)\n",
    "    #os.close()"
   ]
  },
  {
   "cell_type": "code",
   "execution_count": 12,
   "id": "dense-placement",
   "metadata": {},
   "outputs": [],
   "source": [
    "write_ts2(module_path + '/data/ts_files/crackleNoCrackleSamleLength3000.ts', True, 3000)"
   ]
  },
  {
   "cell_type": "markdown",
   "id": "available-retail",
   "metadata": {},
   "source": [
    "# Creating the .ts file based on the entire timeseries (no rms compression)\n",
    "\n",
    "Below the entire timeseries is written to the .ts file. The timeseries that are longer than 5 seconds are discarded to begin with. \n",
    "Zero padding is utilised to make catch22 happy"
   ]
  },
  {
   "cell_type": "code",
   "execution_count": 12,
   "id": "faced-thinking",
   "metadata": {},
   "outputs": [],
   "source": [
    "def zero_pad(ts, fixed_len):\n",
    "    df_new = np.zeros(fixed_len)\n",
    "    len_ts = len(ts)\n",
    "    pad = (fixed_len - len_ts)//2\n",
    "    df_new[pad:pad + len_ts] = ts\n",
    "    return df_new\n",
    "\n",
    "\n",
    "\n",
    "def write_class2(writer, class_list, class_name, class_path, fixed_len = 20000):\n",
    "    classes = {\n",
    "    'crackle': '1',\n",
    "    'wheeze': '0',\n",
    "    'none': '0',\n",
    "    'both': '1'\n",
    "    }\n",
    "    for name in class_list: \n",
    "        audio_file = class_path + name\n",
    "        sr, audio = utility.read_wav_file(audio_file, target_rate)\n",
    "        audio = utility.denoise_audio(audio)\n",
    "        audio, sr = utility.downsample(audio, sr, 4000)\n",
    "        #audio = znorm(audio)\n",
    "        if len(audio) > fixed_len:\n",
    "                continue\n",
    "        else: \n",
    "            df_new = zero_pad(audio, fixed_len)\n",
    "            new_row = str(list(df_new))[1:-1].replace(' ', '') + ':' + classes[class_name] + '\\n'\n",
    "            writer.write(new_row)\n",
    "\n",
    "def write_ts2(filename, fixed_len = 20000):\n",
    "    w = open(filename, 'w+')\n",
    "    row = w.read()\n",
    "\n",
    "    w.write('@problemName LungSounds \\n')\n",
    "    w.write('@timeStamps false \\n')\n",
    "    w.write('@missing false \\n')\n",
    "    w.write('@univariate true \\n')\n",
    "    w.write('@equalLength true \\n')\n",
    "    w.write(f'@seriesLength {str(fixed_len)} \\n')\n",
    "    w.write('@classLabel true no_crackle crackle\\n')\n",
    "    w.write('@data \\n')\n",
    "\n",
    "    for class_name, class_list in class_lists.items():\n",
    "        write_class2(w , class_list, class_name, class_paths[class_name])"
   ]
  },
  {
   "cell_type": "code",
   "execution_count": 13,
   "id": "advanced-torture",
   "metadata": {},
   "outputs": [],
   "source": [
    "write_ts2(module_path + '/data/ts_files/crackleNoCrackle_no_rms.ts', fixed_len = 20000)"
   ]
  },
  {
   "cell_type": "markdown",
   "id": "negative-banks",
   "metadata": {},
   "source": [
    "No zero-padding inequal length "
   ]
  },
  {
   "cell_type": "code",
   "execution_count": 9,
   "id": "amazing-sally",
   "metadata": {},
   "outputs": [],
   "source": [
    "def write_class2(writer, class_list, class_name, class_path):\n",
    "    classes = {\n",
    "    'crackle': '1',\n",
    "    'wheeze': '0',\n",
    "    'none': '0',\n",
    "    'both': '1'\n",
    "    }\n",
    "    for name in class_list: \n",
    "        audio_file = class_path + name\n",
    "        sr, audio = utility.read_wav_file(audio_file, target_rate)\n",
    "        audio = utility.denoise_audio(audio)\n",
    "        audio, sr = utility.downsample(audio, sr, 4000)\n",
    "    \n",
    "        #df_new = zero_pad(audio, fixed_len)\n",
    "        new_row = str(list(audio))[1:-1].replace(' ', '') + ':' + classes[class_name] + '\\n'\n",
    "        writer.write(new_row)\n",
    "\n",
    "def write_ts2(filename):\n",
    "    w = open(filename, 'w+')\n",
    "    row = w.read()\n",
    "\n",
    "    w.write('@problemName LungSounds \\n')\n",
    "    w.write('@timeStamps false \\n')\n",
    "    w.write('@missing false \\n')\n",
    "    w.write('@univariate true \\n')\n",
    "    w.write('@equalLength false \\n')\n",
    "    w.write('@classLabel true no_crackle crackle\\n')\n",
    "    w.write('@data \\n')\n",
    "\n",
    "    for class_name, class_list in class_lists.items():\n",
    "        write_class2(w , class_list, class_name, class_paths[class_name])\n",
    "        \n",
    "write_ts2(module_path + '/data/ts_files/crackleNoCrackle_FULL.ts')"
   ]
  },
  {
   "cell_type": "markdown",
   "id": "driven-watson",
   "metadata": {},
   "source": [
    "# Creating .ts file for two class problem\n",
    "\n",
    "with seperate train and test set based on the recording institution\n",
    "\n",
    "Below the rms of frames are calculated, to compress the data. "
   ]
  },
  {
   "cell_type": "code",
   "execution_count": 8,
   "id": "plain-citation",
   "metadata": {},
   "outputs": [],
   "source": [
    "AUTH = 'Litt3200'\n",
    "ESSUA = ['AKGC417L', 'LittC2SE', 'Meditron']\n",
    "\n",
    "def write_class_separate_loc(writer, class_list, class_name, class_path, fixed= True, fixed_len = 2000):\n",
    "    classes = {\n",
    "    'crackle': '1',\n",
    "    'wheeze': '0',\n",
    "    'none': '0',\n",
    "    'both': '1'\n",
    "    }\n",
    "    for name in class_list: \n",
    "        rec_met = name[14:22]\n",
    "        if rec_met == AUTH:\n",
    "            audio_file = class_path + name\n",
    "            sr, audio = utility.read_wav_file(audio_file, target_rate)\n",
    "            audio = utility.denoise_audio(audio)\n",
    "            audio, sr = utility.downsample(audio, sr, 4000)\n",
    "            audio = znorm(audio)\n",
    "            rms_new = librosa.feature.rms(audio, frame_length = frame_len, hop_length = hop_len)[0]\n",
    "\n",
    "            if fixed: \n",
    "                if len(rms_new) > fixed_len:\n",
    "                        rms_new = rms_new[0:fixed_len]\n",
    "                df_new = np.zeros(fixed_len)\n",
    "                df_new[0:len(rms_new)] = rms_new\n",
    "                new_row = str(list(df_new))[1:-1].replace(' ', '') + ':' + classes[class_name] + '\\n'\n",
    "            else: \n",
    "                new_row = str(list(rms_new))[1:-1].replace(' ', '') + ':' + classes[class_name] + '\\n'\n",
    "            writer.write(new_row)\n",
    "\n",
    "def write_ts_separate_loc(filename, fixed = True, fixed_len = 2000):\n",
    "    w = open(filename, 'w+')\n",
    "    row = w.read()\n",
    "\n",
    "    w.write('@problemName LungSounds \\n')\n",
    "    w.write('@timeStamps false \\n')\n",
    "    w.write('@missing false \\n')\n",
    "    w.write('@univariate true \\n')\n",
    "    if fixed: \n",
    "        w.write('@equalLength true \\n')\n",
    "        w.write(f'@seriesLength {str(fixed_len)} \\n')\n",
    "    else:\n",
    "        w.write('@equalLength false \\n')\n",
    "    w.write('@classLabel true crackle no_crackle \\n')\n",
    "    w.write('@data \\n')\n",
    "\n",
    "    for class_name, class_list in class_lists.items():\n",
    "        if fixed:\n",
    "            write_class2(w , class_list, class_name, class_paths[class_name], True, fixed_len)\n",
    "        else: \n",
    "            write_class2(w , class_list, class_name, class_paths[class_name], False)\n",
    "    #os.close()\n",
    "    \n",
    "write_ts_separate_loc(module_path + '/data/ts_files/crackleNoCrackle_3000_same_AUTH.ts', True, 3000)"
   ]
  }
 ],
 "metadata": {
  "kernelspec": {
   "display_name": "Python 3",
   "language": "python",
   "name": "python3"
  },
  "language_info": {
   "codemirror_mode": {
    "name": "ipython",
    "version": 3
   },
   "file_extension": ".py",
   "mimetype": "text/x-python",
   "name": "python",
   "nbconvert_exporter": "python",
   "pygments_lexer": "ipython3",
   "version": "3.7.9"
  }
 },
 "nbformat": 4,
 "nbformat_minor": 5
}
