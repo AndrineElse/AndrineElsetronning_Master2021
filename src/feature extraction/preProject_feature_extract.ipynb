{
 "cells": [
  {
   "cell_type": "code",
   "execution_count": 62,
   "id": "manufactured-oxford",
   "metadata": {},
   "outputs": [],
   "source": [
    "import numpy as np\n",
    "import pandas as pd\n",
    "import os\n",
    "import sys\n",
    "from scipy.stats import skew \n",
    "import librosa\n",
    "import time as time\n",
    "module_path = os.path.abspath(os.path.join('../..'))\n",
    "sys.path.insert(1, module_path + '/src')\n",
    "import utility\n",
    "from sktime.utils.data_io import load_from_tsfile_to_dataframe,load_from_arff_to_dataframe\n",
    "from sktime.datasets import load_UCR_UEA_dataset\n",
    "\n",
    "def get_entropy(timeseries):\n",
    "    timeseries_nz = timeseries[timeseries != 0]\n",
    "    return - np.sum(((timeseries_nz**2)*np.log(timeseries_nz**2)))\n",
    "    \n",
    "def get_energy(timeseries):  \n",
    "    N = len(timeseries)\n",
    "    return np.sum(np.abs(timeseries) ** 2) / N\n",
    "    \n",
    "def get_features(data, n_mfcc = 30):\n",
    "    if isinstance(data, pd.Series):\n",
    "        data = data.to_numpy()\n",
    "    sr = 4000\n",
    "    ft1 = librosa.feature.mfcc(data, sr = sr, n_mfcc=n_mfcc)\n",
    "    ft2 = librosa.feature.zero_crossing_rate(data)[0]\n",
    "    ft3 = librosa.feature.spectral_rolloff(data)[0]\n",
    "    ft4 = librosa.feature.spectral_centroid(data)[0]\n",
    "    ft5 = librosa.feature.spectral_contrast(data)[0]\n",
    "    ft6 = librosa.feature.spectral_bandwidth(data)[0]\n",
    "\n",
    "    ### Get HOS and simple features \n",
    "    ft0_trunc = np.hstack((np.mean(data) , np.std(data), skew(data), np.max(data), np.median(data), np.min(data), get_energy(data), get_entropy(data)))\n",
    "  \n",
    "    ### MFCC features\n",
    "    ft1_trunc = np.hstack((np.mean(ft1, axis=1), np.std(ft1, axis=1), skew(ft1, axis = 1), np.max(ft1, axis = 1), np.median(ft1, axis = 1), np.min(ft1, axis = 1)))\n",
    "    \n",
    "    ### Spectral Features \n",
    "    ft2_trunc = np.hstack((np.mean(ft2), np.std(ft2), skew(ft2), np.max(ft2), np.median(ft2), np.min(ft2)))\n",
    "    ft3_trunc = np.hstack((np.mean(ft3), np.std(ft3), skew(ft3), np.max(ft3), np.median(ft3), np.min(ft3)))\n",
    "    ft4_trunc = np.hstack((np.mean(ft4), np.std(ft4), skew(ft4), np.max(ft4), np.median(ft4), np.min(ft4)))\n",
    "    ft5_trunc = np.hstack((np.mean(ft5), np.std(ft5), skew(ft5), np.max(ft5), np.median(ft5), np.min(ft5)))\n",
    "    ft6_trunc = np.hstack((np.mean(ft6), np.std(ft6), skew(ft6), np.max(ft6), np.median(ft6), np.max(ft6)))\n",
    "    \n",
    "    return pd.Series(np.hstack((ft0_trunc , ft1_trunc, ft2_trunc, ft3_trunc, ft4_trunc, ft5_trunc, ft6_trunc)))\n",
    "\n",
    "def get_new_X(X):\n",
    "    df = X.copy()\n",
    "    \n",
    "    df= df['dim_0'].apply(lambda x: get_features(x))\n",
    "    #for i, row in X.iterrows():\n",
    "    #    new_row = get_features(row.values[0].to_numpy())\n",
    "    #    df = df.append(new_row,ignore_index=True)\n",
    "    return df\n",
    "\n",
    "def write_to_ts(filepath, X, y):\n",
    "    \n",
    "    w = open(filepath, 'w+')\n",
    "    \n",
    "    w.write('@problemName LungSoundsMiniROCKET \\n')\n",
    "    w.write('@timeStamps false \\n')\n",
    "    w.write('@missing false \\n')\n",
    "    w.write('@univariate true \\n')\n",
    "    w.write('@equalLength true \\n')\n",
    "    w.write(f'@seriesLength {str(len(X.columns))} \\n')\n",
    "    w.write('@classLabel true no_crackle crackle\\n')\n",
    "    w.write('@data \\n')\n",
    "    for (idx, row) in X.iterrows():\n",
    "        new_row = str((list(row)))[1:-1].replace(' ', '') + ':' + y[idx] + '\\n'\n",
    "        w.write(new_row)\n",
    "        \n",
    "def convert_arff_to_ts(filepath, filename):\n",
    "    X, y = load_from_arff_to_dataframe(filepath + '/' + filename)\n",
    "    new_filename = filename[:-4] + 'ts'\n",
    "    print(new_filename)\n",
    "    dataset = filename.split('_')[0]\n",
    "    print(dataset)\n",
    "    \n",
    "    labels = np.unique(y).astype(str)\n",
    "    label_str = ''\n",
    "    for label in labels:\n",
    "        label_str = label_str + label + ' '\n",
    "    print(label_str)\n",
    "    w = open(filepath + '/' + new_filename, 'w+')\n",
    "    \n",
    "    w.write(f'@problemName {dataset} \\n')\n",
    "    w.write('@timeStamps false \\n')\n",
    "    w.write('@univariate true \\n')\n",
    "    w.write(f'@classLabel true {label_str} \\n')\n",
    "    w.write('@data \\n')\n",
    "    for (idx, row) in X.iterrows():\n",
    "        new_row = (list(row)[0]).tolist()\n",
    "        new_row = str(new_row)[1:-1].replace(' ', '') + ':' + y[idx] + '\\n'\n",
    "        w.write(new_row)\n"
   ]
  },
  {
   "cell_type": "code",
   "execution_count": 23,
   "id": "sunset-commonwealth",
   "metadata": {
    "scrolled": true
   },
   "outputs": [
    {
     "name": "stdout",
     "output_type": "stream",
     "text": [
      "Time to fetch X y:  98.97856712341309\n"
     ]
    }
   ],
   "source": [
    "start = time.time()\n",
    "X, y = load_from_tsfile_to_dataframe(module_path + '/data/ts_files/crackleNoCrackle_FULL.ts')\n",
    "print('Time to fetch X y: ', time.time() - start)"
   ]
  },
  {
   "cell_type": "code",
   "execution_count": 17,
   "id": "mounted-guide",
   "metadata": {},
   "outputs": [
    {
     "name": "stdout",
     "output_type": "stream",
     "text": [
      "BinaryHeartbeat_TEST.ts\n",
      "BinaryHeartbeat\n",
      "Abnormal Normal \n",
      "BinaryHeartbeat_TRAIN.ts\n",
      "BinaryHeartbeat\n",
      "Abnormal Normal \n"
     ]
    }
   ],
   "source": [
    "\n",
    "name_UCR = 'BinaryHeartbeat'\n",
    "\n",
    "# Code below is to fix the issue that this dataset does not have .ts files yet \n",
    "filepath = f'/home/andrine/anaconda3/lib/python3.7/site-packages/sktime/datasets/data/{name_UCR}'\n",
    "filename  = f'{name_UCR}_TEST.arff'\n",
    "convert_arff_to_ts(filepath, filename)\n",
    "filename  = f'{name_UCR}_TRAIN.arff'\n",
    "convert_arff_to_ts(filepath, filename)\n",
    "\n"
   ]
  },
  {
   "cell_type": "code",
   "execution_count": 16,
   "id": "environmental-hungary",
   "metadata": {},
   "outputs": [],
   "source": [
    "name_UCR = 'BinaryHeartbeat'\n",
    "\n",
    "# Code below is to fix the issue that this dataset does not have .ts files yet \n",
    "filepath = f'/home/andrine/anaconda3/lib/python3.7/site-packages/sktime/datasets/data/{name_UCR}/{name_UCR}'\n",
    "\n",
    "X_train, y_train = load_from_tsfile_to_dataframe(filepath + '_TRAIN.ts')\n",
    "X_test, y_test = load_from_tsfile_to_dataframe(filepath + '_TEST.ts')\n",
    "X = pd.concat([X_train, X_test])\n",
    "y = np.concatenate([y_train, y_test])"
   ]
  },
  {
   "cell_type": "code",
   "execution_count": null,
   "id": "casual-coordination",
   "metadata": {},
   "outputs": [],
   "source": [
    "start = time.time()\n",
    "X, y = load_from_tsfile_to_dataframe(module_path + '/data/ts_files/crackleNoCrackle_FULL.ts')\n",
    "print('Time to fetch X y: ', time.time() - start)"
   ]
  },
  {
   "cell_type": "code",
   "execution_count": 63,
   "id": "plastic-panama",
   "metadata": {
    "scrolled": true
   },
   "outputs": [
    {
     "name": "stderr",
     "output_type": "stream",
     "text": [
      "/home/andrine/anaconda3/lib/python3.7/site-packages/librosa/core/spectrum.py:224: UserWarning: n_fft=2048 is too small for input signal of length=1824\n",
      "  n_fft, y.shape[-1]\n",
      "/home/andrine/anaconda3/lib/python3.7/site-packages/librosa/core/spectrum.py:224: UserWarning: n_fft=2048 is too small for input signal of length=1944\n",
      "  n_fft, y.shape[-1]\n",
      "/home/andrine/anaconda3/lib/python3.7/site-packages/librosa/core/spectrum.py:224: UserWarning: n_fft=2048 is too small for input signal of length=1600\n",
      "  n_fft, y.shape[-1]\n"
     ]
    },
    {
     "name": "stdout",
     "output_type": "stream",
     "text": [
      "Time to extract features from pre project:  258.0599992275238\n"
     ]
    }
   ],
   "source": [
    "start = time.time()\n",
    "\n",
    "new_X = get_new_X(X)\n",
    "\n",
    "print('Time to extract features from pre project: ', str(time.time() - start))"
   ]
  },
  {
   "cell_type": "code",
   "execution_count": 64,
   "id": "complete-honolulu",
   "metadata": {
    "scrolled": true
   },
   "outputs": [],
   "source": [
    "from sklearn.model_selection import train_test_split\n",
    "from sklearn.preprocessing import MinMaxScaler\n",
    "\n",
    "kwargs = dict(test_size=0.2, random_state=1)\n",
    "X_train, X_test, y_train, y_test = train_test_split(new_X, y, **kwargs)\n",
    "\n",
    "scaler = MinMaxScaler()\n",
    "scaler.fit(X_train)\n",
    "X_train = pd.DataFrame(scaler.transform(X_train))\n",
    "X_test = pd.DataFrame(scaler.transform(X_test))"
   ]
  },
  {
   "cell_type": "code",
   "execution_count": 65,
   "id": "curious-petroleum",
   "metadata": {},
   "outputs": [
    {
     "data": {
      "text/plain": [
       "0.813768115942029"
      ]
     },
     "execution_count": 65,
     "metadata": {},
     "output_type": "execute_result"
    },
    {
     "data": {
      "image/png": "[encoded data removed]",
      "text/plain": [
       "<Figure size 360x360 with 2 Axes>"
      ]
     },
     "metadata": {
      "needs_background": "light"
     },
     "output_type": "display_data"
    }
   ],
   "source": [
    "from sklearn.neighbors import KNeighborsClassifier\n",
    "from sklearn.metrics import accuracy_score, confusion_matrix\n",
    "\n",
    "clf =KNeighborsClassifier(leaf_size=1, n_neighbors=1, p=1).fit(X_train,y_train)\n",
    "\n",
    "pred = clf.predict(X_test)\n",
    "#cf_matrix = confusion_matrix(y_test, pred)\n",
    "utility.plot_cm(y_test, pred, module_path = module_path)\n",
    "\n",
    "#plot_confusion_matrix(clf, X_test, y_test)\n",
    "accuracy_score(y_test, pred )"
   ]
  },
  {
   "cell_type": "code",
   "execution_count": 21,
   "id": "printable-croatia",
   "metadata": {
    "scrolled": true
   },
   "outputs": [
    {
     "data": {
      "text/plain": [
       "numpy.ndarray"
      ]
     },
     "execution_count": 21,
     "metadata": {},
     "output_type": "execute_result"
    }
   ],
   "source": [
    "type(y_train)"
   ]
  },
  {
   "cell_type": "code",
   "execution_count": 29,
   "id": "quality-story",
   "metadata": {},
   "outputs": [],
   "source": [
    "write_to_ts(module_path + '/features/extracted_features_ts_files/binaryheart_preproject_TRAIN.ts', X_train_norm, y_train)\n",
    "write_to_ts(module_path + '/features/extracted_features_ts_files/binaryheart_preproject_TEST.ts', X_test_norm, y_test)"
   ]
  }
 ],
 "metadata": {
  "kernelspec": {
   "display_name": "Python 3",
   "language": "python",
   "name": "python3"
  },
  "language_info": {
   "codemirror_mode": {
    "name": "ipython",
    "version": 3
   },
   "file_extension": ".py",
   "mimetype": "text/x-python",
   "name": "python",
   "nbconvert_exporter": "python",
   "pygments_lexer": "ipython3",
   "version": "3.7.9"
  }
 },
 "nbformat": 4,
 "nbformat_minor": 5
}
