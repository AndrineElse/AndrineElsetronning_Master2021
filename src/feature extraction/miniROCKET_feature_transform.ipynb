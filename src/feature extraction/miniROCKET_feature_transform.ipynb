{
 "cells": [
  {
   "cell_type": "markdown",
   "id": "duplicate-miniature",
   "metadata": {},
   "source": [
    "# Extract MiniROCKET features, and write to ts file\n",
    "\n",
    "The purpose of this notebook is to extract the MiniROCKET feature set, and write it to train and test .ts files for later exploration"
   ]
  },
  {
   "cell_type": "code",
   "execution_count": 1,
   "id": "fiscal-transaction",
   "metadata": {},
   "outputs": [],
   "source": [
    "import numpy as np\n",
    "import pandas as pd\n",
    "import os\n",
    "import sys\n",
    "import time as time\n",
    "module_path = os.path.abspath(os.path.join('../..'))\n",
    "from sktime.utils.data_io import load_from_tsfile_to_dataframe\n",
    "\n",
    "from sklearn.model_selection import train_test_split\n",
    "from sktime.transformations.panel.rocket import MiniRocket"
   ]
  },
  {
   "cell_type": "markdown",
   "id": "earned-rally",
   "metadata": {},
   "source": [
    "UCR archive dataset"
   ]
  },
  {
   "cell_type": "code",
   "execution_count": 12,
   "id": "urban-steel",
   "metadata": {},
   "outputs": [],
   "source": [
    "name_UCR = 'Heartbeat'\n",
    "\n",
    "# Code below is to fix the issue that this dataset does not have .ts files yet \n",
    "filepath = f'/home/andrine/anaconda3/lib/python3.7/site-packages/sktime/datasets/data/{name_UCR}/{name_UCR}'\n",
    "\n",
    "X_train, y_train = load_from_tsfile_to_dataframe(filepath + '_TRAIN.ts')\n",
    "X_test, y_test = load_from_tsfile_to_dataframe(filepath + '_TEST.ts')\n",
    "X = pd.concat([X_train, X_test])\n",
    "y = np.concatenate([y_train, y_test])"
   ]
  },
  {
   "cell_type": "markdown",
   "id": "interstate-scholarship",
   "metadata": {},
   "source": [
    "Lung sound datasets ( Kaggle or Tromsø)"
   ]
  },
  {
   "cell_type": "code",
   "execution_count": 2,
   "id": "willing-apparel",
   "metadata": {},
   "outputs": [
    {
     "name": "stdout",
     "output_type": "stream",
     "text": [
      "Time to fetch X y without compression:  37.23524594306946\n"
     ]
    }
   ],
   "source": [
    "start = time.time()\n",
    "X, y = load_from_tsfile_to_dataframe(module_path + '/data/ts_files/UiT_compressed_rms.ts')\n",
    "print('Time to fetch X y without compression: ', time.time() - start)\n",
    "\n",
    "X_train, X_test, y_train, y_test = train_test_split(X, y, random_state=0)"
   ]
  },
  {
   "cell_type": "markdown",
   "id": "variable-running",
   "metadata": {},
   "source": [
    "Using MiniROCKET to transform the features"
   ]
  },
  {
   "cell_type": "code",
   "execution_count": 3,
   "id": "indie-insert",
   "metadata": {},
   "outputs": [
    {
     "name": "stdout",
     "output_type": "stream",
     "text": [
      "Time to fit MiniROCKET:  1.511939287185669\n",
      "Time to transform X_train:  28.37428641319275\n",
      "Time to transform X_test:  8.864571332931519\n"
     ]
    }
   ],
   "source": [
    "start = time.time()\n",
    "minirocket = MiniRocket()  # by default, MiniRocket uses ~10,000 kernels\n",
    "minirocket.fit(X_train)\n",
    "print('Time to fit MiniROCKET: ', time.time() - start)\n",
    "start = time.time()\n",
    "X_train_transform = minirocket.transform(X_train)\n",
    "print('Time to transform X_train: ', time.time() - start)\n",
    "start = time.time()\n",
    "X_test_transform = minirocket.transform(X_test)\n",
    "print('Time to transform X_test: ', time.time() - start)"
   ]
  },
  {
   "cell_type": "markdown",
   "id": "proof-syntax",
   "metadata": {},
   "source": [
    "Writing the transformed data to train and test files"
   ]
  },
  {
   "cell_type": "code",
   "execution_count": 9,
   "id": "union-proof",
   "metadata": {},
   "outputs": [],
   "source": [
    "def write_to_ts(filepath, X, y):\n",
    "    \n",
    "    w = open(filepath, 'w+')\n",
    "    \n",
    "    w.write('@problemName LungSoundsMiniROCKET \\n')\n",
    "    w.write('@timeStamps false \\n')\n",
    "    w.write('@missing false \\n')\n",
    "    w.write('@univariate true \\n')\n",
    "    w.write('@equalLength true \\n')\n",
    "    w.write(f'@seriesLength {str(len(X.columns))} \\n')\n",
    "    w.write('@classLabel true normal crackle wheeze\\n')\n",
    "    w.write('@data \\n')\n",
    "    \n",
    "    for (idx, row) in X.iterrows():\n",
    "        new_row = str((list(row)))[1:-1].replace(' ', '') + ':' + y[idx] + '\\n'\n",
    "        print(y[idx])\n",
    "        w.write(new_row)\n",
    "        "
   ]
  },
  {
   "cell_type": "code",
   "execution_count": 6,
   "id": "responsible-broad",
   "metadata": {},
   "outputs": [],
   "source": [
    "write_to_ts(module_path + '/features/extracted_features_ts_files/uit_MiniROCKET_TRAIN.ts', X_train_transform, y_train )\n",
    "write_to_ts(module_path + '/features/extracted_features_ts_files/uit_MiniROCKET_TEST.ts', X_test_transform, y_test )"
   ]
  }
 ],
 "metadata": {
  "kernelspec": {
   "display_name": "Python 3",
   "language": "python",
   "name": "python3"
  },
  "language_info": {
   "codemirror_mode": {
    "name": "ipython",
    "version": 3
   },
   "file_extension": ".py",
   "mimetype": "text/x-python",
   "name": "python",
   "nbconvert_exporter": "python",
   "pygments_lexer": "ipython3",
   "version": "3.7.9"
  }
 },
 "nbformat": 4,
 "nbformat_minor": 5
}
