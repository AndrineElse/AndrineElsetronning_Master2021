{
 "cells": [
  {
   "cell_type": "markdown",
   "id": "greenhouse-spanking",
   "metadata": {},
   "source": [
    "# Extract MiniROCKET features, and write to ts file\n",
    "\n",
    "The purpose of this notebook is to extract the MiniROCKET feature set, and write it to train and test .ts files for later exploration"
   ]
  },
  {
   "cell_type": "code",
   "execution_count": 1,
   "id": "activated-bandwidth",
   "metadata": {},
   "outputs": [],
   "source": [
    "import numpy as np\n",
    "import pandas as pd\n",
    "import os\n",
    "import sys\n",
    "import time as time\n",
    "module_path = os.path.abspath(os.path.join('../..'))\n",
    "from sktime.utils.data_io import load_from_tsfile_to_dataframe\n",
    "\n",
    "from sklearn.model_selection import train_test_split\n",
    "from sktime.transformations.panel.rocket import MiniRocket"
   ]
  },
  {
   "cell_type": "code",
   "execution_count": 12,
   "id": "liked-paint",
   "metadata": {},
   "outputs": [],
   "source": [
    "name_UCR = 'Heartbeat'\n",
    "\n",
    "# Code below is to fix the issue that this dataset does not have .ts files yet \n",
    "filepath = f'/home/andrine/anaconda3/lib/python3.7/site-packages/sktime/datasets/data/{name_UCR}/{name_UCR}'\n",
    "\n",
    "X_train, y_train = load_from_tsfile_to_dataframe(filepath + '_TRAIN.ts')\n",
    "X_test, y_test = load_from_tsfile_to_dataframe(filepath + '_TEST.ts')\n",
    "X = pd.concat([X_train, X_test])\n",
    "y = np.concatenate([y_train, y_test])"
   ]
  },
  {
   "cell_type": "code",
   "execution_count": 4,
   "id": "partial-juvenile",
   "metadata": {},
   "outputs": [
    {
     "name": "stdout",
     "output_type": "stream",
     "text": [
      "Time to fetch X y without compression:  129.99236798286438\n"
     ]
    }
   ],
   "source": [
    "start = time.time()\n",
    "X, y = load_from_tsfile_to_dataframe(module_path + '/data/ts_files/crackleNoCrackle_no_rms.ts')\n",
    "print('Time to fetch X y without compression: ', time.time() - start)"
   ]
  },
  {
   "cell_type": "markdown",
   "id": "developed-browser",
   "metadata": {},
   "source": [
    "Splitting into training and testing set, with a splitting criteria of 0.2 , 0.8"
   ]
  },
  {
   "cell_type": "code",
   "execution_count": 13,
   "id": "hourly-steel",
   "metadata": {},
   "outputs": [],
   "source": [
    "X_train, X_test, y_train, y_test = train_test_split(X, y, random_state=0)"
   ]
  },
  {
   "cell_type": "markdown",
   "id": "alert-solomon",
   "metadata": {},
   "source": [
    "Using MiniROCKET to transform the features"
   ]
  },
  {
   "cell_type": "code",
   "execution_count": 14,
   "id": "resident-afternoon",
   "metadata": {},
   "outputs": [
    {
     "ename": "ValueError",
     "evalue": "X must be univariate with X.shape[1] == 1, but found: X.shape[1] == 61.",
     "output_type": "error",
     "traceback": [
      "\u001b[0;31m---------------------------------------------------------------------------\u001b[0m",
      "\u001b[0;31mValueError\u001b[0m                                Traceback (most recent call last)",
      "\u001b[0;32m<ipython-input-14-fc83e5150d2c>\u001b[0m in \u001b[0;36m<module>\u001b[0;34m\u001b[0m\n\u001b[1;32m      1\u001b[0m \u001b[0mstart\u001b[0m \u001b[0;34m=\u001b[0m \u001b[0mtime\u001b[0m\u001b[0;34m.\u001b[0m\u001b[0mtime\u001b[0m\u001b[0;34m(\u001b[0m\u001b[0;34m)\u001b[0m\u001b[0;34m\u001b[0m\u001b[0;34m\u001b[0m\u001b[0m\n\u001b[1;32m      2\u001b[0m \u001b[0mminirocket\u001b[0m \u001b[0;34m=\u001b[0m \u001b[0mMiniRocket\u001b[0m\u001b[0;34m(\u001b[0m\u001b[0;34m)\u001b[0m  \u001b[0;31m# by default, MiniRocket uses ~10,000 kernels\u001b[0m\u001b[0;34m\u001b[0m\u001b[0;34m\u001b[0m\u001b[0m\n\u001b[0;32m----> 3\u001b[0;31m \u001b[0mminirocket\u001b[0m\u001b[0;34m.\u001b[0m\u001b[0mfit\u001b[0m\u001b[0;34m(\u001b[0m\u001b[0mX_train\u001b[0m\u001b[0;34m)\u001b[0m\u001b[0;34m\u001b[0m\u001b[0;34m\u001b[0m\u001b[0m\n\u001b[0m\u001b[1;32m      4\u001b[0m \u001b[0mprint\u001b[0m\u001b[0;34m(\u001b[0m\u001b[0;34m'Time to fit MiniROCKET: '\u001b[0m\u001b[0;34m,\u001b[0m \u001b[0mtime\u001b[0m\u001b[0;34m.\u001b[0m\u001b[0mtime\u001b[0m\u001b[0;34m(\u001b[0m\u001b[0;34m)\u001b[0m \u001b[0;34m-\u001b[0m \u001b[0mstart\u001b[0m\u001b[0;34m)\u001b[0m\u001b[0;34m\u001b[0m\u001b[0;34m\u001b[0m\u001b[0m\n\u001b[1;32m      5\u001b[0m \u001b[0mstart\u001b[0m \u001b[0;34m=\u001b[0m \u001b[0mtime\u001b[0m\u001b[0;34m.\u001b[0m\u001b[0mtime\u001b[0m\u001b[0;34m(\u001b[0m\u001b[0;34m)\u001b[0m\u001b[0;34m\u001b[0m\u001b[0;34m\u001b[0m\u001b[0m\n",
      "\u001b[0;32m~/anaconda3/lib/python3.7/site-packages/sktime/transformations/panel/rocket/_minirocket.py\u001b[0m in \u001b[0;36mfit\u001b[0;34m(self, X, y)\u001b[0m\n\u001b[1;32m     62\u001b[0m         \u001b[0mself\u001b[0m\u001b[0;34m\u001b[0m\u001b[0;34m\u001b[0m\u001b[0m\n\u001b[1;32m     63\u001b[0m         \"\"\"\n\u001b[0;32m---> 64\u001b[0;31m         \u001b[0mX\u001b[0m \u001b[0;34m=\u001b[0m \u001b[0mcheck_X\u001b[0m\u001b[0;34m(\u001b[0m\u001b[0mX\u001b[0m\u001b[0;34m,\u001b[0m \u001b[0menforce_univariate\u001b[0m\u001b[0;34m=\u001b[0m\u001b[0;32mTrue\u001b[0m\u001b[0;34m,\u001b[0m \u001b[0mcoerce_to_numpy\u001b[0m\u001b[0;34m=\u001b[0m\u001b[0;32mTrue\u001b[0m\u001b[0;34m)\u001b[0m\u001b[0;34m\u001b[0m\u001b[0;34m\u001b[0m\u001b[0m\n\u001b[0m\u001b[1;32m     65\u001b[0m         \u001b[0mX\u001b[0m \u001b[0;34m=\u001b[0m \u001b[0mX\u001b[0m\u001b[0;34m[\u001b[0m\u001b[0;34m:\u001b[0m\u001b[0;34m,\u001b[0m \u001b[0;36m0\u001b[0m\u001b[0;34m,\u001b[0m \u001b[0;34m:\u001b[0m\u001b[0;34m]\u001b[0m\u001b[0;34m.\u001b[0m\u001b[0mastype\u001b[0m\u001b[0;34m(\u001b[0m\u001b[0mnp\u001b[0m\u001b[0;34m.\u001b[0m\u001b[0mfloat32\u001b[0m\u001b[0;34m)\u001b[0m\u001b[0;34m\u001b[0m\u001b[0;34m\u001b[0m\u001b[0m\n\u001b[1;32m     66\u001b[0m         \u001b[0m_\u001b[0m\u001b[0;34m,\u001b[0m \u001b[0mn_timepoints\u001b[0m \u001b[0;34m=\u001b[0m \u001b[0mX\u001b[0m\u001b[0;34m.\u001b[0m\u001b[0mshape\u001b[0m\u001b[0;34m\u001b[0m\u001b[0;34m\u001b[0m\u001b[0m\n",
      "\u001b[0;32m~/anaconda3/lib/python3.7/site-packages/sktime/utils/validation/panel.py\u001b[0m in \u001b[0;36mcheck_X\u001b[0;34m(X, enforce_univariate, enforce_min_instances, enforce_min_columns, coerce_to_numpy, coerce_to_pandas)\u001b[0m\n\u001b[1;32m     85\u001b[0m     \u001b[0;32mif\u001b[0m \u001b[0menforce_univariate\u001b[0m \u001b[0;32mand\u001b[0m \u001b[0mn_columns\u001b[0m \u001b[0;34m>\u001b[0m \u001b[0;36m1\u001b[0m\u001b[0;34m:\u001b[0m\u001b[0;34m\u001b[0m\u001b[0;34m\u001b[0m\u001b[0m\n\u001b[1;32m     86\u001b[0m         raise ValueError(\n\u001b[0;32m---> 87\u001b[0;31m             \u001b[0;34mf\"X must be univariate with X.shape[1] == 1, but found: \"\u001b[0m\u001b[0;34m\u001b[0m\u001b[0;34m\u001b[0m\u001b[0m\n\u001b[0m\u001b[1;32m     88\u001b[0m             \u001b[0;34mf\"X.shape[1] == {n_columns}.\"\u001b[0m\u001b[0;34m\u001b[0m\u001b[0;34m\u001b[0m\u001b[0m\n\u001b[1;32m     89\u001b[0m         )\n",
      "\u001b[0;31mValueError\u001b[0m: X must be univariate with X.shape[1] == 1, but found: X.shape[1] == 61."
     ]
    }
   ],
   "source": [
    "start = time.time()\n",
    "minirocket = MiniRocket()  # by default, MiniRocket uses ~10,000 kernels\n",
    "minirocket.fit(X_train)\n",
    "print('Time to fit MiniROCKET: ', time.time() - start)\n",
    "start = time.time()\n",
    "X_train_transform = minirocket.transform(X_train)\n",
    "print('Time to transform X_train: ', time.time() - start)\n",
    "start = time.time()\n",
    "X_test_transform = minirocket.transform(X_test)\n",
    "print('Time to transform X_test: ', time.time() - start)"
   ]
  },
  {
   "cell_type": "markdown",
   "id": "recent-constant",
   "metadata": {},
   "source": [
    "Writing the transformed data to train and test files"
   ]
  },
  {
   "cell_type": "code",
   "execution_count": 6,
   "id": "stuck-mystery",
   "metadata": {},
   "outputs": [],
   "source": [
    "def write_to_ts(filepath, X, y):\n",
    "    \n",
    "    w = open(filepath, 'w+')\n",
    "    \n",
    "    w.write('@problemName LungSoundsMiniROCKET \\n')\n",
    "    w.write('@timeStamps false \\n')\n",
    "    w.write('@missing false \\n')\n",
    "    w.write('@univariate true \\n')\n",
    "    w.write('@equalLength true \\n')\n",
    "    w.write(f'@seriesLength {str(len(X.columns))} \\n')\n",
    "    w.write('@classLabel true no_crackle crackle\\n')\n",
    "    w.write('@data \\n')\n",
    "    for (idx, row) in X.iterrows():\n",
    "        new_row = str((list(row)))[1:-1].replace(' ', '') + ':' + y[idx] + '\\n'\n",
    "        w.write(new_row)\n"
   ]
  },
  {
   "cell_type": "code",
   "execution_count": 11,
   "id": "peaceful-project",
   "metadata": {},
   "outputs": [],
   "source": [
    "write_to_ts(module_path + '/features/extracted_features_ts_files/binaryheart_MiniROCKET_TRAIN.ts', X_train_transform, y_train )\n",
    "write_to_ts(module_path + '/features/extracted_features_ts_files/binaryheart_MiniROCKET_TEST.ts', X_test_transform, y_test )"
   ]
  }
 ],
 "metadata": {
  "kernelspec": {
   "display_name": "Python 3",
   "language": "python",
   "name": "python3"
  },
  "language_info": {
   "codemirror_mode": {
    "name": "ipython",
    "version": 3
   },
   "file_extension": ".py",
   "mimetype": "text/x-python",
   "name": "python",
   "nbconvert_exporter": "python",
   "pygments_lexer": "ipython3",
   "version": "3.7.9"
  }
 },
 "nbformat": 4,
 "nbformat_minor": 5
}
