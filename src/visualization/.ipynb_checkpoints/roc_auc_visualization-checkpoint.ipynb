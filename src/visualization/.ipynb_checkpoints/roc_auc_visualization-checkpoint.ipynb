{
 "cells": [
  {
   "cell_type": "code",
   "execution_count": 17,
   "metadata": {},
   "outputs": [],
   "source": [
    "import os\n",
    "\n",
    "import numpy as np\n",
    "import pandas as pd\n",
    "module_path = os.path.abspath(os.path.join('../..'))\n",
    "\n",
    "from matplotlib.font_manager import FontProperties\n",
    "import matplotlib.pyplot as plt\n",
    "import seaborn as sns\n",
    "from sklearn import metrics\n",
    "import matplotlib\n",
    "from matplotlib.colors import LinearSegmentedColormap\n",
    "from sklearn.linear_model import LinearRegression\n",
    "font = FontProperties(fname = module_path + '/src/visualization/CharterRegular.ttf', size = 10, weight = 1000)\n",
    "font_small = FontProperties(fname = module_path + '/src/visualization/CharterRegular.ttf', size = 8, weight = 1000)"
   ]
  },
  {
   "cell_type": "code",
   "execution_count": 36,
   "metadata": {},
   "outputs": [
    {
     "data": {
      "image/png": "[encoded data removed]",
      "text/plain": [
       "<Figure size 216x144 with 1 Axes>"
      ]
     },
     "metadata": {
      "needs_background": "light"
     },
     "output_type": "display_data"
    }
   ],
   "source": [
    "colors = ['#F9414466', '#90BE6D66', '#57759066','#F3722C66', '#F8961E66',\n",
    "          '#F9844A66', '#F9C74F66', '#43AA8B66', '#4D908E66', '#277DA166']\n",
    "\n",
    "f, ax = plt.subplots(1,1) # 1 x 1 array , can also be any other size\n",
    "f.set_size_inches(3, 2)\n",
    "\n",
    "\n",
    "mu, sigma = 1, 2 # mean and standard deviation\n",
    "s1 = np.random.normal(mu, sigma, 2000)\n",
    "\n",
    "\n",
    "count, bins, ignored = plt.hist(s1, 30, density=True, color = colors[1], label = 'class 1', linewidth = 1)\n",
    "\n",
    "\n",
    "\n",
    "mu, sigma = 1, 2 # mean and standard deviation\n",
    "s2 = np.random.normal(mu, sigma, 2000)\n",
    "\n",
    "\n",
    "count, bins, ignored = plt.hist(s2, 30, density=True, color = \n",
    "                                colors[5], label = 'class 2', linewidth = 1)\n",
    "\n",
    "y1_bin = np.zeros(s1.shape)\n",
    "y2_bin = np.ones(s2.shape)\n",
    "X = pd.DataFrame(data = np.hstack([s1, s2]))\n",
    "y = pd.DataFrame(data = np.hstack([y1_bin,y2_bin]))\n",
    "\n",
    "reg = LinearRegression().fit(X, y)\n",
    "pred = reg.predict(X)\n",
    "\n",
    "ax.get_xaxis().set_visible(False)\n",
    "ax.get_yaxis().set_visible(False)\n",
    "\n",
    "for child in ax.get_children():\n",
    "    if isinstance(child, matplotlib.spines.Spine):\n",
    "        child.set_linewidth(0.5)\n",
    "\n",
    "\n",
    "ax.legend(prop = font)\n",
    "\n",
    "\n",
    "\n",
    "fpr, tpr, thresholds = metrics.roc_curve(y, pred)\n",
    "plt.savefig(module_path + '/figures/ex_overlap.pdf',bbox_inches='tight')"
   ]
  },
  {
   "cell_type": "code",
   "execution_count": 37,
   "metadata": {},
   "outputs": [
    {
     "data": {
      "image/png": "[encoded data removed]",
      "text/plain": [
       "<Figure size 216x144 with 1 Axes>"
      ]
     },
     "metadata": {
      "needs_background": "light"
     },
     "output_type": "display_data"
    }
   ],
   "source": [
    "colors = ['#F94144', '#F3722C', '#F8961E', '#F9844A', '#F9C74F', '#90BE6D', '#43AA8B', '#4D908E', '#577590', '#277DA1']\n",
    "\n",
    "\n",
    "f, ax = plt.subplots(1,1) # 1 x 1 array , can also be any other size\n",
    "f.set_size_inches(3, 2)\n",
    "\n",
    "ax.plot(fpr, tpr, c = colors[7], linewidth = 1.5)\n",
    "\n",
    "ax.set_ylabel('TPR', fontproperties = font)\n",
    "ax.set_xlabel('FPR', fontproperties = font)\n",
    "\n",
    "\n",
    "for label in ax.get_yticklabels() :\n",
    "    label.set_fontproperties(font_small)\n",
    "for label in ax.get_xticklabels() :\n",
    "    label.set_fontproperties(font_small)\n",
    "    \n",
    "for child in ax.get_children():\n",
    "    if isinstance(child, matplotlib.spines.Spine):\n",
    "        child.set_linewidth(0.5)\n",
    "\n",
    "\n",
    "plt.savefig(module_path + '/figures/ROC_overlap.pdf',bbox_inches='tight')"
   ]
  },
  {
   "cell_type": "code",
   "execution_count": 100,
   "metadata": {},
   "outputs": [
    {
     "name": "stdout",
     "output_type": "stream",
     "text": [
      "0.9999985\n"
     ]
    }
   ],
   "source": [
    "print(metrics.roc_auc_score(y, pred))"
   ]
  }
 ],
 "metadata": {
  "kernelspec": {
   "display_name": "Python 3",
   "language": "python",
   "name": "python3"
  },
  "language_info": {
   "codemirror_mode": {
    "name": "ipython",
    "version": 3
   },
   "file_extension": ".py",
   "mimetype": "text/x-python",
   "name": "python",
   "nbconvert_exporter": "python",
   "pygments_lexer": "ipython3",
   "version": "3.8.5"
  }
 },
 "nbformat": 4,
 "nbformat_minor": 5
}
