{
 "cells": [
  {
   "cell_type": "markdown",
   "id": "adult-graduate",
   "metadata": {},
   "source": [
    "# Notebook for plotting results of filtering with noise"
   ]
  },
  {
   "cell_type": "code",
   "execution_count": 93,
   "id": "compressed-toolbox",
   "metadata": {},
   "outputs": [],
   "source": [
    "import sys\n",
    "import os\n",
    "import matplotlib.pyplot as plt\n",
    "import pandas as pd\n",
    "import numpy as np\n",
    "\n",
    "module_path = os.path.abspath(os.path.join('../..'))\n",
    "import matplotlib\n",
    "from matplotlib.font_manager import FontProperties\n",
    "from matplotlib.colors import LinearSegmentedColormap\n",
    "font = FontProperties(fname = module_path + '/src/visualization/CharterRegular.ttf', size = 11, weight = 1000)\n",
    "font_small = FontProperties(fname = module_path + '/src/visualization/CharterRegular.ttf', size = 8, weight = 1000)\n",
    "\n",
    "figure_path = module_path + '/figures/'\n",
    "\n",
    "def get_plotable_arrays(result_dict):\n",
    "    noise = []\n",
    "    clf_dict = {k : [] for k in result_dict[list(result_dict.keys())[0]].keys()}\n",
    "    for n, subdict in result_dict.items():\n",
    "        noise.append(n)\n",
    "        for clf, res in subdict.items():\n",
    "            clf_dict[clf].append(res)\n",
    "    return noise, clf_dict"
   ]
  },
  {
   "cell_type": "markdown",
   "id": "protected-burns",
   "metadata": {},
   "source": [
    "# Plotting AUC score simulated data"
   ]
  },
  {
   "cell_type": "code",
   "execution_count": 94,
   "id": "explicit-banking",
   "metadata": {},
   "outputs": [],
   "source": [
    "simulated_data_lr_amount = {2: {'knnOptimal': 0.6822019103673592, 'nb': 0.6872495828462376},\n",
    " 3: {'knnOptimal': 0.7088178364040434, 'nb': 0.7180383683988357},\n",
    " 4: {'knnOptimal': 0.7188006979093329, 'nb': 0.7276267407857785},\n",
    " 5: {'knnOptimal': 0.7268428739016973, 'nb': 0.7345459314768779},\n",
    " 7: {'knnOptimal': 0.7424606462303232, 'nb': 0.7440799854351258},\n",
    " 10: {'knnOptimal': 0.755892255892256, 'nb': 0.7600658125218959},\n",
    " 12: {'knnOptimal': 0.75414241518536, 'nb': 0.759649523229864}}\n",
    "\n",
    "\n",
    "simulated_data_lr_amplitude = {5: {'knnOptimal': 0.7518487422094489, 'nb': 0.7645613262910799},\n",
    " 10: {'knnOptimal': 0.7349013299854841, 'nb': 0.746090219304505},\n",
    " 15: {'knnOptimal': 0.7188006979093329, 'nb': 0.7276267407857785},\n",
    " 20: {'knnOptimal': 0.7027675470116181, 'nb': 0.7109465704464225},\n",
    " 25: {'knnOptimal': 0.6965808809954583, 'nb': 0.7013023702573664},\n",
    " 30: {'knnOptimal': 0.6934935405451059, 'nb': 0.6949493700065782},\n",
    " 35: {'knnOptimal': 0.687720008837175, 'nb': 0.6944500402900886},\n",
    " 40: {'knnOptimal': 0.6820652173913043, 'nb': 0.6928778260385344}}\n",
    "\n",
    "simulated_data_original_amount = {2: {'knnOptimal': 0.6817294971706819, 'nb': 0.6906482418205467},\n",
    " 3: {'knnOptimal': 0.7032523262665228, 'nb': 0.7188413691898922},\n",
    " 4: {'knnOptimal': 0.7056175028626697, 'nb': 0.719577881290925},\n",
    " 5: {'knnOptimal': 0.7172127046947783, 'nb': 0.7279157541328056},\n",
    " 7: {'knnOptimal': 0.7254727573901346, 'nb': 0.7362536269746862},\n",
    " 10: {'knnOptimal': 0.737843381396538, 'nb': 0.7504085557692521},\n",
    " 12: {'knnOptimal': 0.7378044713232761, 'nb': 0.7503696456959901}}\n",
    "\n",
    "simulated_data_original_amplitude = {5: {'knnOptimal': 0.736214716901424, 'nb': 0.7519983101911041},\n",
    " 10: {'knnOptimal': 0.7198502518037597, 'nb': 0.7336549899389667},\n",
    " 15: {'knnOptimal': 0.7056175028626697, 'nb': 0.719577881290925},\n",
    " 20: {'knnOptimal': 0.6955342353058888, 'nb': 0.7079048593122922},\n",
    " 25: {'knnOptimal': 0.6921990861691365, 'nb': 0.7003813187179686},\n",
    " 30: {'knnOptimal': 0.6906093317472846, 'nb': 0.6961929272603973},\n",
    " 35: {'knnOptimal': 0.6847922757945992, 'nb': 0.6953785950128404},\n",
    " 40: {'knnOptimal': 0.6840168536203043, 'nb': 0.6953785950128404}}\n",
    "\n",
    "simulated_data_clustering_amount = {2: {'knnOptimal': 0.6513908758543951, 'nb': 0.6908304127029541},\n",
    " 3: {'knnOptimal': 0.6704931972789114, 'nb': 0.7167011732229124},\n",
    " 4: {'knnOptimal': 0.6626762445281481, 'nb': 0.7142178512132372},\n",
    " 5: {'knnOptimal': 0.6742190150744026, 'nb': 0.7181655016058947},\n",
    " 7: {'knnOptimal': 0.6807585612047462, 'nb': 0.7259921341193426},\n",
    " 10: {'knnOptimal': 0.6866633767195115, 'nb': 0.7353693395516774},\n",
    " 12: {'knnOptimal': 0.6862745098039216, 'nb': 0.7361861657618889}}\n",
    "\n",
    "simulated_data_clustering_amplitude = {5: {'knnOptimal': 0.6741202056148674, 'nb': 0.7335892490198302},\n",
    " 10: {'knnOptimal': 0.6658102969890043, 'nb': 0.7230100406095153},\n",
    " 15: {'knnOptimal': 0.6626762445281481, 'nb': 0.7142178512132372},\n",
    " 20: {'knnOptimal': 0.6592369210474578, 'nb': 0.7085570437740031},\n",
    " 25: {'knnOptimal': 0.6494070719453248, 'nb': 0.7008860153256705},\n",
    " 30: {'knnOptimal': 0.6490109556652738, 'nb': 0.7047484334417936},\n",
    " 35: {'knnOptimal': 0.6480187789910039, 'nb': 0.7015675963044384},\n",
    " 40: {'knnOptimal': 0.6437483116703626, 'nb': 0.7033203125}}\n",
    "\n",
    "results_amplitude = {\n",
    "    'Cluster filter' : simulated_data_clustering_amplitude,\n",
    "    'Original': simulated_data_original_amplitude,\n",
    "    'LR filter': simulated_data_lr_amplitude\n",
    "}\n",
    "\n",
    "results_amount = {\n",
    "    'Cluster filter' : simulated_data_clustering_amount,\n",
    "    'Original': simulated_data_original_amount,\n",
    "    'LR filter': simulated_data_lr_amount\n",
    "}"
   ]
  },
  {
   "cell_type": "markdown",
   "id": "preliminary-louis",
   "metadata": {},
   "source": [
    "## Plotting results of adding noise with a higher amplitude"
   ]
  },
  {
   "cell_type": "code",
   "execution_count": 95,
   "id": "ahead-carpet",
   "metadata": {},
   "outputs": [
    {
     "data": {
      "image/png": "[encoded data removed]",
      "text/plain": [
       "<Figure size 216x144 with 1 Axes>"
      ]
     },
     "metadata": {
      "needs_background": "light"
     },
     "output_type": "display_data"
    }
   ],
   "source": [
    "f, ax = plt.subplots() # 1 x 1 array , can also be any other size\n",
    "f.set_size_inches(3, 2)\n",
    "\n",
    "colors = ['#F94144', '#90BE6D', '#577590','#F3722C', '#F8961E', '#F9844A', '#F9C74F', '#43AA8B', '#4D908E', '#277DA1']\n",
    "color_idx = 0\n",
    "for label, result_dict in results_amplitude.items():\n",
    "    n, c = get_plotable_arrays(result_dict)\n",
    "    ax.plot(n, c['knnOptimal'], label = label, c = colors[color_idx])\n",
    "    color_idx = color_idx + 2\n",
    "\n",
    "ax.set_ylabel(f'AUC score', fontproperties = font)\n",
    "ax.set_xlabel('Amplitude of added noise', fontproperties = font)\n",
    "for label in ax.get_yticklabels() :\n",
    "    label.set_fontproperties(font_small)\n",
    "for label in ax.get_xticklabels() :\n",
    "    label.set_fontproperties(font_small)\n",
    "    \n",
    "for child in ax.get_children():\n",
    "    if isinstance(child, matplotlib.text.Text):\n",
    "        child.set_fontproperties(font_small)\n",
    "ax.legend(loc='center left', bbox_to_anchor=(1, 0.5), prop = font)\n",
    "\n",
    "f.savefig(figure_path + 'simulated_data_higher_amplitude_noise.pdf', bbox_inches='tight')"
   ]
  },
  {
   "cell_type": "markdown",
   "id": "lyric-chrome",
   "metadata": {},
   "source": [
    "## Plotting results of adding more noise"
   ]
  },
  {
   "cell_type": "code",
   "execution_count": 96,
   "id": "fleet-contents",
   "metadata": {
    "scrolled": true
   },
   "outputs": [
    {
     "data": {
      "image/png": "[encoded data removed]",
      "text/plain": [
       "<Figure size 216x144 with 1 Axes>"
      ]
     },
     "metadata": {
      "needs_background": "light"
     },
     "output_type": "display_data"
    }
   ],
   "source": [
    "f, ax = plt.subplots() # 1 x 1 array , can also be any other size\n",
    "f.set_size_inches(3, 2)\n",
    "\n",
    "colors = ['#F94144', '#90BE6D', '#577590','#F3722C', '#F8961E', '#F9844A', '#F9C74F', '#43AA8B', '#4D908E', '#277DA1']\n",
    "color_idx = 0\n",
    "for label, result_dict in results_amount.items():\n",
    "    n, c = get_plotable_arrays(result_dict)\n",
    "    n = 1.0/(np.array(n).astype(float))\n",
    "    ax.plot(n, c['knnOptimal'], label = label, c = colors[color_idx])\n",
    "    color_idx = color_idx + 2\n",
    "\n",
    "ax.set_ylabel(f'AUC score', fontproperties = font)\n",
    "ax.set_xlabel('Percentage of dataset contaminated with noise [%]', fontproperties = font)\n",
    "for label in ax.get_yticklabels() :\n",
    "    label.set_fontproperties(font_small)\n",
    "for label in ax.get_xticklabels() :\n",
    "    label.set_fontproperties(font_small)\n",
    "    \n",
    "for child in ax.get_children():\n",
    "    if isinstance(child, matplotlib.text.Text):\n",
    "        child.set_fontproperties(font_small)\n",
    "ax.legend(loc='center left', bbox_to_anchor=(1, 0.5), prop = font)\n",
    "\n",
    "f.savefig(figure_path + 'simulated_data_more_noise.pdf', bbox_inches='tight')"
   ]
  },
  {
   "cell_type": "markdown",
   "id": "nuclear-lobby",
   "metadata": {},
   "source": [
    "# Lung sound dataset"
   ]
  },
  {
   "cell_type": "code",
   "execution_count": 97,
   "id": "revised-sperm",
   "metadata": {},
   "outputs": [],
   "source": [
    "lung_lr_amount = {2: {'knnOptimal': 0.5932476763258612, 'nb': 0.5434842062081225},\n",
    " 3: {'knnOptimal': 0.6467558810357998, 'nb': 0.5675567423230975},\n",
    " 4: {'knnOptimal': 0.6713486084955013, 'nb': 0.5669134786781845},\n",
    " 5: {'knnOptimal': 0.6770963704630788, 'nb': 0.5824371598859808},\n",
    " 7: {'knnOptimal': 0.6914301474275398, 'nb': 0.5926916221033868},\n",
    " 10: {'knnOptimal': 0.6961269729566704, 'nb': 0.6044181483023131},\n",
    " 12: {'knnOptimal': 0.7005813953488372, 'nb': 0.6147186147186148}}\n",
    "\n",
    "\n",
    "lung_lr_amplitude = {5: {'knnOptimal': 0.6713486084955013, 'nb': 0.5714285714285714},\n",
    " 10: {'knnOptimal': 0.6713486084955013, 'nb': 0.5707013574660633},\n",
    " 15: {'knnOptimal': 0.6713486084955013, 'nb': 0.5669134786781845},\n",
    " 20: {'knnOptimal': 0.6713486084955013, 'nb': 0.5669134786781845},\n",
    " 25: {'knnOptimal': 0.6713486084955013, 'nb': 0.5638353996307044},\n",
    " 30: {'knnOptimal': 0.6713486084955013, 'nb': 0.5640756302521008},\n",
    " 35: {'knnOptimal': 0.6713486084955013, 'nb': 0.5640756302521008},\n",
    " 40: {'knnOptimal': 0.6713486084955013, 'nb': 0.5640756302521008}}\n",
    "\n",
    "lung_original_amount = {2: {'knnOptimal': 0.6186781421833909, 'nb': 0.5696210326516123},\n",
    " 3: {'knnOptimal': 0.6690465323509596, 'nb': 0.5773909137669978},\n",
    " 4: {'knnOptimal': 0.6860026225612716, 'nb': 0.58024530365927},\n",
    " 5: {'knnOptimal': 0.7024769439192078, 'nb': 0.5845413777864714},\n",
    " 7: {'knnOptimal': 0.7200850521252165, 'nb': 0.6005701535140148},\n",
    " 10: {'knnOptimal': 0.7264929400940355, 'nb': 0.6023233574579993},\n",
    " 12: {'knnOptimal': 0.7327631798193186, 'nb': 0.6054675331261365}}\n",
    "\n",
    "lung_original_amplitude = {5: {'knnOptimal': 0.687549354139952, 'nb': 0.58024530365927},\n",
    " 10: {'knnOptimal': 0.6860714466830395, 'nb': 0.58024530365927},\n",
    " 15: {'knnOptimal': 0.6860026225612716, 'nb': 0.58024530365927},\n",
    " 20: {'knnOptimal': 0.6860026225612716, 'nb': 0.58024530365927},\n",
    " 25: {'knnOptimal': 0.6860026225612716, 'nb': 0.58024530365927},\n",
    " 30: {'knnOptimal': 0.6860026225612716, 'nb': 0.58024530365927},\n",
    " 35: {'knnOptimal': 0.6860026225612716, 'nb': 0.58024530365927},\n",
    " 40: {'knnOptimal': 0.6860026225612716, 'nb': 0.58024530365927}}\n",
    "\n",
    "lung_clustering_amount = {2: {'knnOptimal': 0.6469778108782258, 'nb': 0.575145223087381},\n",
    " 3: {'knnOptimal': 0.6928871595330741, 'nb': 0.567737119623912},\n",
    " 4: {'knnOptimal': 0.7091619318181819, 'nb': 0.5723318470733327},\n",
    " 5: {'knnOptimal': 0.7217021548692372, 'nb': 0.5726478009290217},\n",
    " 7: {'knnOptimal': 0.7323988039154501, 'nb': 0.5711265620595698},\n",
    " 10: {'knnOptimal': 0.7358404348754956, 'nb': 0.5700406302338565},\n",
    " 12: {'knnOptimal': 0.7401354067491802, 'nb': 0.5748715313463515}}\n",
    "\n",
    "lung_clustering_amplitude = {5: {'knnOptimal': 0.7127808941131784, 'nb': 0.5685965900174468},\n",
    " 10: {'knnOptimal': 0.7090469142372486, 'nb': 0.570558998758601},\n",
    " 15: {'knnOptimal': 0.7091619318181819, 'nb': 0.5723318470733327},\n",
    " 20: {'knnOptimal': 0.7094372506659952, 'nb': 0.572576560430141},\n",
    " 25: {'knnOptimal': 0.7087442569708492, 'nb': 0.5721024390243903},\n",
    " 30: {'knnOptimal': 0.7088838343881856, 'nb': 0.5721024390243903},\n",
    " 35: {'knnOptimal': 0.7088838343881856, 'nb': 0.5734128351830151},\n",
    " 40: {'knnOptimal': 0.7088838343881856, 'nb': 0.5729341329177599}}\n",
    "\n",
    "results_amplitude = {\n",
    "    'Cluster filter' : lung_clustering_amplitude,\n",
    "    'Original': lung_original_amplitude,\n",
    "    'LR filter': lung_lr_amplitude\n",
    "}\n",
    "\n",
    "results_amount = {\n",
    "    'Cluster filter' : lung_clustering_amount,\n",
    "    'Original': lung_original_amount,\n",
    "    'LR filter': lung_lr_amount\n",
    "}"
   ]
  },
  {
   "cell_type": "code",
   "execution_count": 98,
   "id": "conceptual-bangkok",
   "metadata": {},
   "outputs": [
    {
     "data": {
      "image/png": "[encoded data removed]",
      "text/plain": [
       "<Figure size 216x144 with 1 Axes>"
      ]
     },
     "metadata": {
      "needs_background": "light"
     },
     "output_type": "display_data"
    }
   ],
   "source": [
    "f, ax = plt.subplots() # 1 x 1 array , can also be any other size\n",
    "f.set_size_inches(3, 2)\n",
    "\n",
    "colors = ['#F94144', '#90BE6D', '#577590','#F3722C', '#F8961E', '#F9844A', '#F9C74F', '#43AA8B', '#4D908E', '#277DA1']\n",
    "color_idx = 0\n",
    "for label, result_dict in results_amplitude.items():\n",
    "    n, c = get_plotable_arrays(result_dict)\n",
    "    ax.plot(n, c['knnOptimal'], label = label, c = colors[color_idx])\n",
    "    color_idx = color_idx + 2\n",
    "\n",
    "ax.set_ylabel(f'AUC score', fontproperties = font)\n",
    "ax.set_xlabel('Amplitude of added noise', fontproperties = font)\n",
    "for label in ax.get_yticklabels() :\n",
    "    label.set_fontproperties(font_small)\n",
    "for label in ax.get_xticklabels() :\n",
    "    label.set_fontproperties(font_small)\n",
    "    \n",
    "for child in ax.get_children():\n",
    "    if isinstance(child, matplotlib.text.Text):\n",
    "        child.set_fontproperties(font_small)\n",
    "ax.legend(loc='center left', bbox_to_anchor=(1, 0.5), prop = font)\n",
    "f.savefig(figure_path + 'lung_data_higher_amplitude_noise.pdf', bbox_inches='tight')"
   ]
  },
  {
   "cell_type": "code",
   "execution_count": 99,
   "id": "arctic-subscriber",
   "metadata": {},
   "outputs": [
    {
     "data": {
      "image/png": "[encoded data removed]",
      "text/plain": [
       "<Figure size 216x144 with 1 Axes>"
      ]
     },
     "metadata": {
      "needs_background": "light"
     },
     "output_type": "display_data"
    }
   ],
   "source": [
    "f, ax = plt.subplots() # 1 x 1 array , can also be any other size\n",
    "f.set_size_inches(3, 2)\n",
    "\n",
    "colors = ['#F94144', '#90BE6D', '#577590','#F3722C', '#F8961E', '#F9844A', '#F9C74F', '#43AA8B', '#4D908E', '#277DA1']\n",
    "color_idx = 0\n",
    "for label, result_dict in results_amount.items():\n",
    "    n, c = get_plotable_arrays(result_dict)\n",
    "    n = 1.0/(np.array(n).astype(float))\n",
    "    ax.plot(n, c['knnOptimal'], label = label, c = colors[color_idx])\n",
    "    color_idx = color_idx + 2\n",
    "\n",
    "ax.set_ylabel(f'AUC score', fontproperties = font)\n",
    "ax.set_xlabel('Percentage of dataset contaminated with noise [%]', fontproperties = font)\n",
    "for label in ax.get_yticklabels() :\n",
    "    label.set_fontproperties(font_small)\n",
    "for label in ax.get_xticklabels() :\n",
    "    label.set_fontproperties(font_small)\n",
    "    \n",
    "for child in ax.get_children():\n",
    "    if isinstance(child, matplotlib.text.Text):\n",
    "        child.set_fontproperties(font_small)\n",
    "\n",
    "ax.legend(loc='center left', bbox_to_anchor=(1, 0.5), prop = font)\n",
    "\n",
    "f.savefig(figure_path + 'lung_data_more_noise.pdf', bbox_inches='tight')"
   ]
  }
 ],
 "metadata": {
  "kernelspec": {
   "display_name": "Python 3",
   "language": "python",
   "name": "python3"
  },
  "language_info": {
   "codemirror_mode": {
    "name": "ipython",
    "version": 3
   },
   "file_extension": ".py",
   "mimetype": "text/x-python",
   "name": "python",
   "nbconvert_exporter": "python",
   "pygments_lexer": "ipython3",
   "version": "3.7.9"
  }
 },
 "nbformat": 4,
 "nbformat_minor": 5
}
