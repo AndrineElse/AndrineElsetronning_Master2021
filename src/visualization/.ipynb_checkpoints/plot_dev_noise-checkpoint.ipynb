{
 "cells": [
  {
   "cell_type": "markdown",
   "id": "speaking-young",
   "metadata": {},
   "source": [
    "# Notebook for plotting results of filtering with noise"
   ]
  },
  {
   "cell_type": "code",
   "execution_count": 2,
   "id": "sensitive-edwards",
   "metadata": {},
   "outputs": [],
   "source": [
    "import sys\n",
    "import os\n",
    "import matplotlib.pyplot as plt\n",
    "import pandas as pd\n",
    "import numpy as np\n",
    "import pickle\n",
    "\n",
    "module_path = os.path.abspath(os.path.join('../..'))\n",
    "import matplotlib\n",
    "from matplotlib.font_manager import FontProperties\n",
    "from matplotlib.colors import LinearSegmentedColormap\n",
    "font = FontProperties(fname = module_path + '/src/visualization/CharterRegular.ttf', size = 11, weight = 1000)\n",
    "font_small = FontProperties(fname = module_path + '/src/visualization/CharterRegular.ttf', size = 8, weight = 1000)\n",
    "\n",
    "figure_path = module_path + '/figures/'\n",
    "\n",
    "def get_plotable_arrays(result_dict):\n",
    "    noise = []\n",
    "    clf_dict = {k : [] for k in result_dict[list(result_dict.keys())[0]].keys()}\n",
    "    for n, subdict in result_dict.items():\n",
    "        noise.append(n)\n",
    "        for clf, res in subdict.items():\n",
    "            clf_dict[clf].append(res)\n",
    "    return noise, clf_dict"
   ]
  },
  {
   "cell_type": "markdown",
   "id": "alpha-holly",
   "metadata": {},
   "source": [
    "# Plotting AUC score simulated data"
   ]
  },
  {
   "cell_type": "code",
   "execution_count": null,
   "id": "honest-papua",
   "metadata": {},
   "outputs": [],
   "source": [
    "a_file = open(module_path + '/src/models/dictionaries_filter_results/lung_data_lr_amplitude.pkl', 'rb')\n",
    "simulated_data_original_amplitude = pickle.load(a_file)\n",
    "simulated_data_lr_amplitude = pickle.load(a_file)\n",
    "simulated_data_lr_amplitude_removed = pickle.load(a_file)\n",
    "\n",
    "a_file = open(module_path + '/src/models/dictionaries_filter_results/lung_data_lr_amount.pkl', 'rb')\n",
    "simulated_data_original_amount = pickle.load(a_file)\n",
    "simulated_data_lr_amount = pickle.load(a_file)\n",
    "simulated_data_lr_amount_removed = pickle.load(a_file)\n",
    "\n",
    "a_file = open(module_path + '/src/models/dictionaries_filter_results/simulated_cluster_amplitude.pkl', 'rb')\n",
    "_ = pickle.load(a_file)\n",
    "simulated_data_clustering_amplitude = pickle.load(a_file)\n",
    "simulated_data_clustering_amplitude_removed = pickle.load(a_file)\n",
    "\n",
    "a_file = open(module_path + '/src/models/dictionaries_filter_results/simulated_cluster_amount.pkl', 'rb')\n",
    "_ = pickle.load(a_file)\n",
    "simulated_data_clustering_amount = pickle.load(a_file)\n",
    "simulated_data_clustering_amount_removed = pickle.load(a_file)"
   ]
  },
  {
   "cell_type": "code",
   "execution_count": 94,
   "id": "reduced-france",
   "metadata": {},
   "outputs": [],
   "source": [
    "simulated_data_lr_amount = {2: {'knnOptimal': 0.6822019103673592, 'nb': 0.6872495828462376},\n",
    " 3: {'knnOptimal': 0.7088178364040434, 'nb': 0.7180383683988357},\n",
    " 4: {'knnOptimal': 0.7188006979093329, 'nb': 0.7276267407857785},\n",
    " 5: {'knnOptimal': 0.7268428739016973, 'nb': 0.7345459314768779},\n",
    " 7: {'knnOptimal': 0.7424606462303232, 'nb': 0.7440799854351258},\n",
    " 10: {'knnOptimal': 0.755892255892256, 'nb': 0.7600658125218959},\n",
    " 12: {'knnOptimal': 0.75414241518536, 'nb': 0.759649523229864}}\n",
    "\n",
    "\n",
    "simulated_data_lr_amplitude = {5: {'knnOptimal': 0.7518487422094489, 'nb': 0.7645613262910799},\n",
    " 10: {'knnOptimal': 0.7349013299854841, 'nb': 0.746090219304505},\n",
    " 15: {'knnOptimal': 0.7188006979093329, 'nb': 0.7276267407857785},\n",
    " 20: {'knnOptimal': 0.7027675470116181, 'nb': 0.7109465704464225},\n",
    " 25: {'knnOptimal': 0.6965808809954583, 'nb': 0.7013023702573664},\n",
    " 30: {'knnOptimal': 0.6934935405451059, 'nb': 0.6949493700065782},\n",
    " 35: {'knnOptimal': 0.687720008837175, 'nb': 0.6944500402900886},\n",
    " 40: {'knnOptimal': 0.6820652173913043, 'nb': 0.6928778260385344}}\n",
    "\n",
    "simulated_data_original_amount = {2: {'knnOptimal': 0.6817294971706819, 'nb': 0.6906482418205467},\n",
    " 3: {'knnOptimal': 0.7032523262665228, 'nb': 0.7188413691898922},\n",
    " 4: {'knnOptimal': 0.7056175028626697, 'nb': 0.719577881290925},\n",
    " 5: {'knnOptimal': 0.7172127046947783, 'nb': 0.7279157541328056},\n",
    " 7: {'knnOptimal': 0.7254727573901346, 'nb': 0.7362536269746862},\n",
    " 10: {'knnOptimal': 0.737843381396538, 'nb': 0.7504085557692521},\n",
    " 12: {'knnOptimal': 0.7378044713232761, 'nb': 0.7503696456959901}}\n",
    "\n",
    "simulated_data_original_amplitude = {5: {'knnOptimal': 0.736214716901424, 'nb': 0.7519983101911041},\n",
    " 10: {'knnOptimal': 0.7198502518037597, 'nb': 0.7336549899389667},\n",
    " 15: {'knnOptimal': 0.7056175028626697, 'nb': 0.719577881290925},\n",
    " 20: {'knnOptimal': 0.6955342353058888, 'nb': 0.7079048593122922},\n",
    " 25: {'knnOptimal': 0.6921990861691365, 'nb': 0.7003813187179686},\n",
    " 30: {'knnOptimal': 0.6906093317472846, 'nb': 0.6961929272603973},\n",
    " 35: {'knnOptimal': 0.6847922757945992, 'nb': 0.6953785950128404},\n",
    " 40: {'knnOptimal': 0.6840168536203043, 'nb': 0.6953785950128404}}\n",
    "\n",
    "simulated_data_clustering_amount = {2: {'knnOptimal': 0.6513908758543951, 'nb': 0.6908304127029541},\n",
    " 3: {'knnOptimal': 0.6704931972789114, 'nb': 0.7167011732229124},\n",
    " 4: {'knnOptimal': 0.6626762445281481, 'nb': 0.7142178512132372},\n",
    " 5: {'knnOptimal': 0.6742190150744026, 'nb': 0.7181655016058947},\n",
    " 7: {'knnOptimal': 0.6807585612047462, 'nb': 0.7259921341193426},\n",
    " 10: {'knnOptimal': 0.6866633767195115, 'nb': 0.7353693395516774},\n",
    " 12: {'knnOptimal': 0.6862745098039216, 'nb': 0.7361861657618889}}\n",
    "\n",
    "simulated_data_clustering_amplitude = {5: {'knnOptimal': 0.6741202056148674, 'nb': 0.7335892490198302},\n",
    " 10: {'knnOptimal': 0.6658102969890043, 'nb': 0.7230100406095153},\n",
    " 15: {'knnOptimal': 0.6626762445281481, 'nb': 0.7142178512132372},\n",
    " 20: {'knnOptimal': 0.6592369210474578, 'nb': 0.7085570437740031},\n",
    " 25: {'knnOptimal': 0.6494070719453248, 'nb': 0.7008860153256705},\n",
    " 30: {'knnOptimal': 0.6490109556652738, 'nb': 0.7047484334417936},\n",
    " 35: {'knnOptimal': 0.6480187789910039, 'nb': 0.7015675963044384},\n",
    " 40: {'knnOptimal': 0.6437483116703626, 'nb': 0.7033203125}}\n",
    "\n",
    "results_amplitude = {\n",
    "    'Cluster filter' : simulated_data_clustering_amplitude,\n",
    "    'Original': simulated_data_original_amplitude,\n",
    "    'LR filter': simulated_data_lr_amplitude\n",
    "}\n",
    "\n",
    "results_amount = {\n",
    "    'Cluster filter' : simulated_data_clustering_amount,\n",
    "    'Original': simulated_data_original_amount,\n",
    "    'LR filter': simulated_data_lr_amount\n",
    "}"
   ]
  },
  {
   "cell_type": "code",
   "execution_count": null,
   "id": "surgical-secondary",
   "metadata": {},
   "outputs": [],
   "source": [
    "simulated_data_clustering_amount_removed = \n",
    "\n",
    "simulated_data_clustering_amplitude_removed = \n",
    "\n",
    "simulated_data_lr_amount = \n",
    "\n",
    "simulated_data_lr_amplitude = \n",
    "\n",
    "\n",
    "results_removed_amount_of_data_amplitude_noise = {\n",
    "    'Cluster filter' :  simulated_data_clustering_amplitude_removed, \n",
    "    'LR filter' : simulated_data_lr_amplitude\n",
    "}\n",
    "\n",
    "\n",
    "results_removed_amount_of_data_amount_noise = {\n",
    "    'Cluster filter' : simulated_data_clustering_amount_removed,\n",
    "    'LR filter' : simulated_data_lr_amount\n",
    "}"
   ]
  },
  {
   "cell_type": "markdown",
   "id": "intermediate-hurricane",
   "metadata": {},
   "source": [
    "## Plotting results of adding noise with a higher amplitude"
   ]
  },
  {
   "cell_type": "code",
   "execution_count": 95,
   "id": "foster-recycling",
   "metadata": {},
   "outputs": [
    {
     "data": {
      "image/png": "[encoded data removed]",
      "text/plain": [
       "<Figure size 216x144 with 1 Axes>"
      ]
     },
     "metadata": {
      "needs_background": "light"
     },
     "output_type": "display_data"
    }
   ],
   "source": [
    "f, ax = plt.subplots() # 1 x 1 array , can also be any other size\n",
    "f.set_size_inches(3, 2)\n",
    "\n",
    "colors = ['#F94144', '#90BE6D', '#577590','#F3722C', '#F8961E', '#F9844A', '#F9C74F', '#43AA8B', '#4D908E', '#277DA1']\n",
    "color_idx = 0\n",
    "for label, result_dict in results_amplitude.items():\n",
    "    n, c = get_plotable_arrays(result_dict)\n",
    "    ax.plot(n, c['knnOptimal'], label = label, c = colors[color_idx])\n",
    "    color_idx = color_idx + 2\n",
    "\n",
    "ax.set_ylabel(f'AUC score', fontproperties = font)\n",
    "ax.set_xlabel('Amplitude of added noise', fontproperties = font)\n",
    "for label in ax.get_yticklabels() :\n",
    "    label.set_fontproperties(font_small)\n",
    "for label in ax.get_xticklabels() :\n",
    "    label.set_fontproperties(font_small)\n",
    "    \n",
    "for child in ax.get_children():\n",
    "    if isinstance(child, matplotlib.text.Text):\n",
    "        child.set_fontproperties(font_small)\n",
    "ax.legend(loc='center left', bbox_to_anchor=(1, 0.5), prop = font)\n",
    "\n",
    "f.savefig(figure_path + 'simulated_data_higher_amplitude_noise.pdf', bbox_inches='tight')"
   ]
  },
  {
   "cell_type": "markdown",
   "id": "quiet-visitor",
   "metadata": {},
   "source": [
    "## Plotting results of adding more noise"
   ]
  },
  {
   "cell_type": "code",
   "execution_count": 96,
   "id": "respected-salad",
   "metadata": {
    "scrolled": true
   },
   "outputs": [
    {
     "data": {
      "image/png": "[encoded data removed]",
      "text/plain": [
       "<Figure size 216x144 with 1 Axes>"
      ]
     },
     "metadata": {
      "needs_background": "light"
     },
     "output_type": "display_data"
    }
   ],
   "source": [
    "f, ax = plt.subplots() # 1 x 1 array , can also be any other size\n",
    "f.set_size_inches(3, 2)\n",
    "\n",
    "colors = ['#F94144', '#90BE6D', '#577590','#F3722C', '#F8961E', '#F9844A', '#F9C74F', '#43AA8B', '#4D908E', '#277DA1']\n",
    "color_idx = 0\n",
    "for label, result_dict in results_amount.items():\n",
    "    n, c = get_plotable_arrays(result_dict)\n",
    "    n = 1.0/(np.array(n).astype(float))\n",
    "    ax.plot(n, c['knnOptimal'], label = label, c = colors[color_idx])\n",
    "    color_idx = color_idx + 2\n",
    "\n",
    "ax.set_ylabel(f'AUC score', fontproperties = font)\n",
    "ax.set_xlabel('Percentage of dataset contaminated with noise [%]', fontproperties = font)\n",
    "for label in ax.get_yticklabels() :\n",
    "    label.set_fontproperties(font_small)\n",
    "for label in ax.get_xticklabels() :\n",
    "    label.set_fontproperties(font_small)\n",
    "    \n",
    "for child in ax.get_children():\n",
    "    if isinstance(child, matplotlib.text.Text):\n",
    "        child.set_fontproperties(font_small)\n",
    "ax.legend(loc='center left', bbox_to_anchor=(1, 0.5), prop = font)\n",
    "\n",
    "f.savefig(figure_path + 'simulated_data_more_noise.pdf', bbox_inches='tight')"
   ]
  },
  {
   "cell_type": "markdown",
   "id": "swedish-acrylic",
   "metadata": {},
   "source": [
    "# Lung sound dataset"
   ]
  },
  {
   "cell_type": "code",
   "execution_count": 16,
   "id": "south-sessions",
   "metadata": {},
   "outputs": [],
   "source": [
    "a_file = open(module_path + '/src/models/dictionaries_filter_results/lung_data_lr_amplitude.pkl', 'rb')\n",
    "lung_original_amplitude = pickle.load(a_file)\n",
    "lung_lr_amplitude = pickle.load(a_file)\n",
    "lung_lr_amplitude_removed = pickle.load(a_file)\n",
    "\n",
    "a_file = open(module_path + '/src/models/dictionaries_filter_results/lung_data_lr_amount.pkl', 'rb')\n",
    "lung_original_amount = pickle.load(a_file)\n",
    "lung_lr_amount = pickle.load(a_file)\n",
    "lung_lr_amount_removed = pickle.load(a_file)\n",
    "\n",
    "a_file = open(module_path + '/src/models/dictionaries_filter_results/lung_data_cluster_amplitude.pkl', 'rb')\n",
    "_ = pickle.load(a_file)\n",
    "lung_cluster_amplitude = pickle.load(a_file)\n",
    "lung_cluster_amplitude_removed = pickle.load(a_file)\n",
    "\n",
    "a_file = open(module_path + '/src/models/dictionaries_filter_results/lung_data_cluster_amount.pkl', 'rb')\n",
    "_ = pickle.load(a_file)\n",
    "lung_cluster_amount = pickle.load(a_file)\n",
    "lung_cluster_amount_removed = pickle.load(a_file)\n",
    "\n",
    "\n",
    "results_amplitude = {\n",
    "    'Cluster filter' : lung_cluster_amplitude,\n",
    "    'Original': lung_original_amplitude,\n",
    "    'LR filter': lung_lr_amplitude\n",
    "}\n",
    "\n",
    "results_amount = {\n",
    "    'Cluster filter' : lung_cluster_amount,\n",
    "    'Original': lung_original_amount,\n",
    "    'LR filter': lung_lr_amount\n",
    "}\n",
    "\n",
    "results_removed_amount_of_data_amplitude_noise = {\n",
    "    'Cluster filter' :  lung_cluster_amplitude_removed, \n",
    "    'LR filter' : lung_lr_amplitude_removed\n",
    "}\n",
    "\n",
    "\n",
    "results_removed_amount_of_data_amount_noise = {\n",
    "    'Cluster filter' : lung_cluster_amount_removed,\n",
    "    'LR filter' : lung_lr_amount_removed\n",
    "}"
   ]
  },
  {
   "cell_type": "code",
   "execution_count": 32,
   "id": "dietary-navigator",
   "metadata": {},
   "outputs": [
    {
     "data": {
      "image/png": "[encoded data removed]",
      "text/plain": [
       "<Figure size 216x144 with 1 Axes>"
      ]
     },
     "metadata": {
      "needs_background": "light"
     },
     "output_type": "display_data"
    }
   ],
   "source": [
    "f, ax = plt.subplots() # 1 x 1 array , can also be any other size\n",
    "f.set_size_inches(3, 2)\n",
    "\n",
    "colors = ['#F94144', '#90BE6D', '#577590','#F3722C', '#F8961E', '#F9844A', '#F9C74F', '#43AA8B', '#4D908E', '#277DA1']\n",
    "color_idx = 0\n",
    "for label, result_dict in results_removed_amount_of_data_amount_noise.items():\n",
    "    n, c = get_plotable_arrays(result_dict)\n",
    "    ax.plot(n, c['knnOptimal'], label = label, c = colors[color_idx])\n",
    "    color_idx = color_idx + 2\n",
    "\n",
    "ax.set_ylabel(f'Amount of test data removed [%]', fontproperties = font)\n",
    "ax.set_xlabel('Percentage of dataset \\n contaminated with noise [%]', fontproperties = font)\n",
    "for label in ax.get_yticklabels() :\n",
    "    label.set_fontproperties(font_small)\n",
    "for label in ax.get_xticklabels() :\n",
    "    label.set_fontproperties(font_small)\n",
    "    \n",
    "for child in ax.get_children():\n",
    "    if isinstance(child, matplotlib.text.Text):\n",
    "        child.set_fontproperties(font_small)\n",
    "ax.legend(loc='upper center', bbox_to_anchor=(0.5, 1.3),\n",
    "          ncol=3, fancybox=True, prop = font)\n",
    "f.savefig(figure_path + 'lung_data_higher_amount_noise_removed.pdf', bbox_inches='tight')"
   ]
  },
  {
   "cell_type": "code",
   "execution_count": 28,
   "id": "recent-detroit",
   "metadata": {},
   "outputs": [
    {
     "data": {
      "image/png": "[encoded data removed]",
      "text/plain": [
       "<Figure size 216x144 with 1 Axes>"
      ]
     },
     "metadata": {
      "needs_background": "light"
     },
     "output_type": "display_data"
    }
   ],
   "source": [
    "f, ax = plt.subplots() # 1 x 1 array , can also be any other size\n",
    "f.set_size_inches(3, 2)\n",
    "\n",
    "colors = ['#F94144', '#90BE6D', '#577590','#F3722C', '#F8961E', '#F9844A', '#F9C74F', '#43AA8B', '#4D908E', '#277DA1']\n",
    "color_idx = 0\n",
    "for label, result_dict in results_removed_amount_of_data_amplitude_noise.items():\n",
    "    n, c = get_plotable_arrays(result_dict)\n",
    "    ax.plot(n, c['knnOptimal'], label = label, c = colors[color_idx])\n",
    "    color_idx = color_idx + 2\n",
    "\n",
    "ax.set_ylabel(f'Amount of test data removed [%]', fontproperties = font)\n",
    "ax.set_xlabel('Amplitude of added noise', fontproperties = font)\n",
    "for label in ax.get_yticklabels() :\n",
    "    label.set_fontproperties(font_small)\n",
    "for label in ax.get_xticklabels() :\n",
    "    label.set_fontproperties(font_small)\n",
    "    \n",
    "for child in ax.get_children():\n",
    "    if isinstance(child, matplotlib.text.Text):\n",
    "        child.set_fontproperties(font_small)\n",
    "ax.legend(loc='upper center', bbox_to_anchor=(0.5, 1.3),\n",
    "          ncol=3, fancybox=True, prop = font)\n",
    "f.savefig(figure_path + 'lung_data_higher_amplitude_noise_removed.pdf', bbox_inches='tight')"
   ]
  },
  {
   "cell_type": "code",
   "execution_count": 29,
   "id": "happy-payday",
   "metadata": {},
   "outputs": [
    {
     "data": {
      "image/png": "[encoded data removed]",
      "text/plain": [
       "<Figure size 216x144 with 1 Axes>"
      ]
     },
     "metadata": {
      "needs_background": "light"
     },
     "output_type": "display_data"
    }
   ],
   "source": [
    "f, ax = plt.subplots() # 1 x 1 array , can also be any other size\n",
    "f.set_size_inches(3, 2)\n",
    "\n",
    "colors = ['#F94144', '#90BE6D', '#577590','#F3722C', '#F8961E', '#F9844A', '#F9C74F', '#43AA8B', '#4D908E', '#277DA1']\n",
    "color_idx = 0\n",
    "for label, result_dict in results_amplitude.items():\n",
    "    n, c = get_plotable_arrays(result_dict)\n",
    "    ax.plot(n, c['knnOptimal'], label = label, c = colors[color_idx])\n",
    "    color_idx = color_idx + 2\n",
    "\n",
    "ax.set_ylabel(f'AUC score', fontproperties = font)\n",
    "ax.set_xlabel('Amplitude of added noise', fontproperties = font)\n",
    "for label in ax.get_yticklabels() :\n",
    "    label.set_fontproperties(font_small)\n",
    "for label in ax.get_xticklabels() :\n",
    "    label.set_fontproperties(font_small)\n",
    "    \n",
    "for child in ax.get_children():\n",
    "    if isinstance(child, matplotlib.text.Text):\n",
    "        child.set_fontproperties(font_small)\n",
    "ax.legend(loc='upper center', bbox_to_anchor=(0.5, 1.3),\n",
    "          ncol=3, fancybox=True, prop = font)\n",
    "f.savefig(figure_path + 'lung_data_higher_amplitude_noise.pdf', bbox_inches='tight')"
   ]
  },
  {
   "cell_type": "code",
   "execution_count": 30,
   "id": "italian-alias",
   "metadata": {},
   "outputs": [
    {
     "data": {
      "image/png": "[encoded data removed]",
      "text/plain": [
       "<Figure size 216x144 with 1 Axes>"
      ]
     },
     "metadata": {
      "needs_background": "light"
     },
     "output_type": "display_data"
    }
   ],
   "source": [
    "f, ax = plt.subplots() # 1 x 1 array , can also be any other size\n",
    "f.set_size_inches(3, 2)\n",
    "\n",
    "colors = ['#F94144', '#90BE6D', '#577590','#F3722C', '#F8961E', '#F9844A', '#F9C74F', '#43AA8B', '#4D908E', '#277DA1']\n",
    "color_idx = 0\n",
    "for label, result_dict in results_amount.items():\n",
    "    n, c = get_plotable_arrays(result_dict)\n",
    "    n = 1.0/(np.array(n).astype(float))\n",
    "    ax.plot(n, c['knnOptimal'], label = label, c = colors[color_idx])\n",
    "    color_idx = color_idx + 2\n",
    "\n",
    "ax.set_ylabel(f'AUC score', fontproperties = font)\n",
    "ax.set_xlabel('Percentage of dataset contaminated with noise [%]', fontproperties = font)\n",
    "for label in ax.get_yticklabels() :\n",
    "    label.set_fontproperties(font_small)\n",
    "for label in ax.get_xticklabels() :\n",
    "    label.set_fontproperties(font_small)\n",
    "    \n",
    "for child in ax.get_children():\n",
    "    if isinstance(child, matplotlib.text.Text):\n",
    "        child.set_fontproperties(font_small)\n",
    "\n",
    "ax.legend(loc='upper center', bbox_to_anchor=(0.5, 1.3),\n",
    "          ncol=3, fancybox=True, prop = font)\n",
    "\n",
    "f.savefig(figure_path + 'lung_data_more_noise.pdf', bbox_inches='tight')"
   ]
  }
 ],
 "metadata": {
  "kernelspec": {
   "display_name": "Python 3",
   "language": "python",
   "name": "python3"
  },
  "language_info": {
   "codemirror_mode": {
    "name": "ipython",
    "version": 3
   },
   "file_extension": ".py",
   "mimetype": "text/x-python",
   "name": "python",
   "nbconvert_exporter": "python",
   "pygments_lexer": "ipython3",
   "version": "3.7.9"
  }
 },
 "nbformat": 4,
 "nbformat_minor": 5
}
