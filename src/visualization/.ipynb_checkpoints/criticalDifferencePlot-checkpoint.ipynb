{
 "cells": [
  {
   "cell_type": "markdown",
   "id": "endless-victoria",
   "metadata": {},
   "source": [
    "# Making critical difference plot to compare models\n",
    "\n",
    "https://medium.com/@catur.supriyanto/how-to-visualize-the-nemenyi-and-bonferroni-dunn-diagrams-in-python-aa6a311f1cee\n",
    "\n",
    "Used for inspiration\n",
    "\n",
    "\n",
    "TO DO: \n",
    "\n",
    "Find 10 interesting datasets --> lung sound, ECG, arrow head ...\n",
    "Test Catch22 / Some other type of feature extraction together with K-NN, K-NN + double classifier, Logistic Regression, Logistic regression with double classifier, Random forest, random forest with double classifier. Do grid search to find parameters. Maybe try ROCKET??\n",
    "\n",
    "Functions needed: \n",
    "\n",
    "def get_initial_classifier(full_train_X,full_train_y, clf, param_grid):\n",
    "    return clf \n",
    "    \n",
    "def get_helping_classifier(X_train, y_train, X_val, y_val, clf, param_grid): \n",
    "    return clf_help\n",
    "    \n",
    "def filter_test_set(clf_help, X_test, y_test)\n",
    "    return X_test, y_test"
   ]
  },
  {
   "cell_type": "code",
   "execution_count": 6,
   "id": "printable-prague",
   "metadata": {},
   "outputs": [
    {
     "name": "stdout",
     "output_type": "stream",
     "text": [
      "cd= 1.1681523873193944\n"
     ]
    },
    {
     "data": {
      "image/png": "[encoded data removed]",
      "text/plain": [
       "<Figure size 360x93.6 with 1 Axes>"
      ]
     },
     "metadata": {},
     "output_type": "display_data"
    }
   ],
   "source": [
    "import Orange \n",
    "import matplotlib.pyplot as plt\n",
    "names = ['C4.5', '4.5+m', '4.5+cf', 'C4.5+m+cf']\n",
    "avranks = [3.143,2.000,2.893,1.964]\n",
    "cd = Orange.evaluation.compute_CD(avranks, 14,alpha='0.05', test='bonferroni-dunn') #tested on 14 datasets \n",
    "print('cd=',cd)\n",
    "Orange.evaluation.graph_ranks(avranks, names, cd=cd, width=5, textspace=1.5, cdmethod=0)\n",
    "plt.show();"
   ]
  }
 ],
 "metadata": {
  "kernelspec": {
   "display_name": "Python 3",
   "language": "python",
   "name": "python3"
  },
  "language_info": {
   "codemirror_mode": {
    "name": "ipython",
    "version": 3
   },
   "file_extension": ".py",
   "mimetype": "text/x-python",
   "name": "python",
   "nbconvert_exporter": "python",
   "pygments_lexer": "ipython3",
   "version": "3.7.9"
  }
 },
 "nbformat": 4,
 "nbformat_minor": 5
}
