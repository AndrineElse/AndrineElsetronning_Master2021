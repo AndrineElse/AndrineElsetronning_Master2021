{
 "cells": [
  {
   "cell_type": "markdown",
   "id": "humanitarian-sender",
   "metadata": {},
   "source": [
    "# Making critical difference plot to compare models\n",
    "\n",
    "https://medium.com/@catur.supriyanto/how-to-visualize-the-nemenyi-and-bonferroni-dunn-diagrams-in-python-aa6a311f1cee\n",
    "\n",
    "Used for inspiration\n",
    "\n",
    "\n",
    "TO DO: \n",
    "\n",
    "Find 10 interesting datasets --> lung sound, ECG, arrow head ...\n",
    "Test Catch22 / Some other type of feature extraction together with K-NN, K-NN + double classifier, Logistic Regression, Logistic regression with double classifier, Random forest, random forest with double classifier. Do grid search to find parameters. Maybe try ROCKET??\n",
    "\n",
    "Functions needed: \n",
    "\n",
    "def get_initial_classifier(full_train_X,full_train_y, clf, param_grid):\n",
    "    return clf \n",
    "    \n",
    "def get_helping_classifier(X_train, y_train, X_val, y_val, clf, param_grid): \n",
    "    return clf_help\n",
    "    \n",
    "def filter_test_set(clf_help, X_test, y_test)\n",
    "    return X_test, y_test"
   ]
  },
  {
   "cell_type": "code",
   "execution_count": 11,
   "id": "central-findings",
   "metadata": {},
   "outputs": [],
   "source": [
    "import Orange \n",
    "import matplotlib.pyplot as plt\n",
    "import pandas as pd\n",
    "import numpy as np\n",
    "\n",
    "\n",
    "accuracy_problems = {\n",
    "    'lung_sound_data': {\n",
    "        'K-NN' : 0.7933753943217665,\n",
    "        'K-NN, double' : 0.792604501607717,\n",
    "        'Logistic regression': 0.6971608832807571 ,\n",
    "        'Logistic regression, double' : 0.6971608832807571 \n",
    "    },\n",
    "    'arrowhead': {\n",
    "        'K-NN' : 0.8837209302325582,\n",
    "        'K-NN, double' : 0.9142857142857143 ,\n",
    "        'Logistic regression': 0.6976744186046512,\n",
    "        'Logistic regression, double' : 0.7142857142857143\n",
    "    },\n",
    "    'gunpoint': {\n",
    "        'K-NN' : 0.825 ,\n",
    "        'K-NN, double' : 0.8285714285714286,\n",
    "        'Logistic regression': 0.95,\n",
    "        'Logistic regression, double' : 0.9444444444444444\n",
    "    },\n",
    "    'osuleaf': {\n",
    "        'K-NN' : 0.6404494382022472,\n",
    "        'K-NN, double' : 0.6666666666666666 ,\n",
    "        'Logistic regression': 0.5617977528089888 ,\n",
    "        'Logistic regression, double' : 0.6222222222222222\n",
    "    },\n",
    "    'ECG5000': {\n",
    "        'K-NN' : 0.929,\n",
    "        'K-NN, double' : 0.9394250513347022 ,\n",
    "        'Logistic regression': 0.893 ,\n",
    "        'Logistic regression, double' : 0.8994871794871795\n",
    "    },\n",
    "    'ECG200': {\n",
    "        'K-NN' : 0.725,\n",
    "        'K-NN, double' : 0.7058823529411765 ,\n",
    "        'Logistic regression': 0.75 ,\n",
    "        'Logistic regression, double' : 0.76\n",
    "    }\n",
    "}"
   ]
  },
  {
   "cell_type": "code",
   "execution_count": 12,
   "id": "silver-anaheim",
   "metadata": {},
   "outputs": [
    {
     "name": "stdout",
     "output_type": "stream",
     "text": [
      "cd= 1.1681523873193944\n"
     ]
    },
    {
     "data": {
      "image/png": "[encoded data removed]",
      "text/plain": [
       "<Figure size 360x93.6 with 1 Axes>"
      ]
     },
     "metadata": {},
     "output_type": "display_data"
    }
   ],
   "source": [
    "df = pd.DataFrame(data = accuracy_problems).T\n",
    "df.head()\n",
    "\n",
    "rank = df.rank(axis = 1, ascending = False)\n",
    "rank.head()\n",
    "\n",
    "av_rank = rank.mean(axis = 0)\n",
    "\n",
    "\n",
    "avranks = av_rank.values\n",
    "names = rank.columns.to_list()\n",
    "\n",
    "cd = Orange.evaluation.compute_CD(avranks, 14,alpha='0.05', test='bonferroni-dunn') #tested on 14 datasets \n",
    "print('cd=',cd)\n",
    "Orange.evaluation.graph_ranks(avranks, names, cd=cd, width=5, textspace=1.5, cdmethod=0, reverse = True)\n",
    "plt.show();"
   ]
  }
 ],
 "metadata": {
  "kernelspec": {
   "display_name": "Python 3",
   "language": "python",
   "name": "python3"
  },
  "language_info": {
   "codemirror_mode": {
    "name": "ipython",
    "version": 3
   },
   "file_extension": ".py",
   "mimetype": "text/x-python",
   "name": "python",
   "nbconvert_exporter": "python",
   "pygments_lexer": "ipython3",
   "version": "3.7.9"
  }
 },
 "nbformat": 4,
 "nbformat_minor": 5
}
