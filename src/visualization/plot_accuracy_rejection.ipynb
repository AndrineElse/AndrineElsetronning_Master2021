{
 "cells": [
  {
   "cell_type": "code",
   "execution_count": 1,
   "id": "decreased-emergency",
   "metadata": {},
   "outputs": [],
   "source": [
    "import sys\n",
    "import os\n",
    "import pandas as pd\n",
    "import numpy as np\n",
    "\n",
    "module_path = os.path.abspath(os.path.join('../..'))\n",
    "\n",
    "sys.path.insert(1, module_path + '/src')\n",
    "import audio_time_series_classification as preproject\n",
    "import utility\n",
    "\n",
    "sys.path.insert(1, module_path + '/src/models/')\n",
    "import helper\n",
    "\n",
    "from sklearn.decomposition import PCA\n",
    "from sktime.utils.data_io import load_from_tsfile_to_dataframe\n",
    "from sklearn.feature_selection import SelectKBest, chi2\n",
    "from sktime.utils.data_processing import from_nested_to_2d_array\n",
    "from sklearn.model_selection import train_test_split\n",
    "from sklearn import preprocessing\n",
    "from sklearn.gaussian_process import GaussianProcessClassifier\n",
    "from sklearn.gaussian_process.kernels import RBF\n",
    "import matplotlib.pyplot as plt\n",
    "from sklearn.cross_decomposition import PLSRegression\n",
    "from sklearn.svm import SVC\n",
    "\n",
    "figure_path = module_path + '/figures/'"
   ]
  },
  {
   "cell_type": "code",
   "execution_count": 2,
   "id": "statutory-tulsa",
   "metadata": {},
   "outputs": [],
   "source": [
    "ts_path = module_path + '/data/ts_files/crackleNoCrackle_FULL.ts'\n",
    "#NB ! This file has already been downsampled and denoised before saving\n",
    "kwargs_ls = {\n",
    "    'ts_file_path': ts_path,\n",
    "    'sr' : 8000,\n",
    "    'UCR_file': False,\n",
    "    'n_mfcc' : 30,\n",
    "    'denoise' : False,\n",
    "    'downsample' : False,\n",
    "    'downsample_new_sr' : 8000,\n",
    "    'update' : False,\n",
    "    'name' : 'lungsound',\n",
    "    'module_path' : module_path\n",
    "}\n",
    "\n",
    "ls = preproject.overproduced_audio_time_series_features(**kwargs_ls)\n",
    "X_train, X_test, y_train, y_test = ls.get_X_y_transformed(train_test_split = True)\n",
    "\n",
    "pca = PCA(n_components = 100)\n",
    "\n",
    "pca.fit(X_train)\n",
    "X_train = pca.transform(X_train)\n",
    "X_test = pca.transform(X_test)"
   ]
  },
  {
   "cell_type": "code",
   "execution_count": 12,
   "id": "behavioral-treasure",
   "metadata": {},
   "outputs": [],
   "source": [
    "from sklearn.metrics import accuracy_score, f1_score\n",
    "\n",
    "def get_accuracy_accuracy_rejection_curve(y_test, y_pred, prob):  \n",
    "    tot = len(y_test)\n",
    "    def is_in_range(l, u, x):\n",
    "        return (x < u) & (x > l)\n",
    "    \n",
    "    lower = np.linspace(0.5, 0, 101)[:-1]\n",
    "    upper = np.linspace(0.5, 1, 101)[:-1]\n",
    "    \n",
    "    \n",
    "    acc = []\n",
    "    re = []\n",
    "    \n",
    "\n",
    "    for r in zip(lower, upper):\n",
    "        temp_true = y_test.copy()\n",
    "        temp_pred = y_pred.copy()\n",
    "        \n",
    "        reject_samples = is_in_range(r[0], r[1], prob)\n",
    "        \n",
    "        if np.any(reject_samples):\n",
    "            keep_indices = np.where(reject_samples !=  True)[0]\n",
    "            keep_indices = np.unique(keep_indices)\n",
    "\n",
    "            temp_true = temp_true[keep_indices]\n",
    "            temp_pred = temp_pred[keep_indices]\n",
    "            \n",
    "        #if len(acc)%10 == 0:\n",
    "        #    f, ax = utility.plot_cm(temp_true, temp_pred, module_path = module_path)\n",
    "            \n",
    "        acc.append(accuracy_score(temp_true, temp_pred))\n",
    "        re.append(1 - len(temp_true)/tot)\n",
    "        \n",
    "    return acc, re  "
   ]
  },
  {
   "cell_type": "code",
   "execution_count": 18,
   "id": "distributed-importance",
   "metadata": {},
   "outputs": [],
   "source": [
    "indices_0 = np.where(y_train.astype(int) == 0)[0]\n",
    "indices_1 = np.where(y_train.astype(int) == 1)[0]\n",
    "indices = np.concatenate((indices_0[0:1929], indices_1))"
   ]
  },
  {
   "cell_type": "markdown",
   "id": "bored-planning",
   "metadata": {},
   "source": [
    "### SVM"
   ]
  },
  {
   "cell_type": "code",
   "execution_count": 23,
   "id": "mighty-telling",
   "metadata": {},
   "outputs": [
    {
     "name": "stderr",
     "output_type": "stream",
     "text": [
      "/home/andrine/anaconda3/lib/python3.7/site-packages/numpy/lib/function_base.py:380: RuntimeWarning: Mean of empty slice.\n",
      "  avg = a.mean(axis)\n",
      "/home/andrine/anaconda3/lib/python3.7/site-packages/numpy/core/_methods.py:170: RuntimeWarning: invalid value encountered in double_scalars\n",
      "  ret = ret.dtype.type(ret / rcount)\n"
     ]
    }
   ],
   "source": [
    "clf = SVC(**{'C': 10, 'gamma': 1, 'kernel': 'rbf', 'probability' : True}).fit(X_train[indices], y_train[indices])\n",
    "\n",
    "y_pred = clf.predict(X_test)\n",
    "prob = clf.predict_proba(X_test)\n",
    "\n",
    "a_svm, r_svm = get_accuracy_accuracy_rejection_curve(y_test, y_pred, prob)"
   ]
  },
  {
   "cell_type": "markdown",
   "id": "indie-command",
   "metadata": {},
   "source": [
    "### Gaussian Process classifier"
   ]
  },
  {
   "cell_type": "code",
   "execution_count": 21,
   "id": "manual-membrane",
   "metadata": {},
   "outputs": [
    {
     "name": "stderr",
     "output_type": "stream",
     "text": [
      "/home/andrine/anaconda3/lib/python3.7/site-packages/numpy/lib/function_base.py:380: RuntimeWarning: Mean of empty slice.\n",
      "  avg = a.mean(axis)\n",
      "/home/andrine/anaconda3/lib/python3.7/site-packages/numpy/core/_methods.py:170: RuntimeWarning: invalid value encountered in double_scalars\n",
      "  ret = ret.dtype.type(ret / rcount)\n"
     ]
    }
   ],
   "source": [
    "from sklearn.gaussian_process import GaussianProcessClassifier\n",
    "from sklearn.gaussian_process.kernels import RBF\n",
    "\n",
    "X_train, X_test, y_train, y_test = ls.get_X_y_transformed(train_test_split = True)\n",
    "\n",
    "pca = PCA(n_components = 10)\n",
    "\n",
    "pca.fit(X_train)\n",
    "X_train = pca.transform(X_train)\n",
    "X_test = pca.transform(X_test)\n",
    "\n",
    "kernel = 1.0 * RBF(1.0)\n",
    "gpc = GaussianProcessClassifier(kernel=kernel,random_state=0).fit(X_train[indices], y_train[indices])\n",
    "\n",
    "y_pred = gpc.predict(X_test)\n",
    "prob = gpc.predict_proba(X_test)\n",
    "\n",
    "a_gp, r_gp = get_accuracy_accuracy_rejection_curve(y_test, y_pred, prob)"
   ]
  },
  {
   "cell_type": "markdown",
   "id": "chemical-homework",
   "metadata": {},
   "source": [
    "### Logistic Regression Classifier"
   ]
  },
  {
   "cell_type": "code",
   "execution_count": 24,
   "id": "educated-keeping",
   "metadata": {},
   "outputs": [],
   "source": [
    "from sklearn.linear_model import LogisticRegression\n",
    "\n",
    "X_train, X_test, y_train, y_test = ls.get_X_y_transformed(train_test_split = True)\n",
    "\n",
    "pca = PCA(n_components = 100)\n",
    "\n",
    "pca.fit(X_train)\n",
    "X_train = pca.transform(X_train)\n",
    "X_test = pca.transform(X_test)\n",
    "\n",
    "clf = LogisticRegression(random_state=0).fit(X_train[indices], y_train[indices])\n",
    "\n",
    "y_pred = clf.predict(X_test)\n",
    "prob = clf.predict_proba(X_test)\n",
    "\n",
    "a_lr, r_lr = get_accuracy_accuracy_rejection_curve(y_test, y_pred, prob)"
   ]
  },
  {
   "cell_type": "code",
   "execution_count": 30,
   "id": "determined-spyware",
   "metadata": {},
   "outputs": [
    {
     "data": {
      "image/png": "[encoded data removed]",
      "text/plain": [
       "<Figure size 432x216 with 1 Axes>"
      ]
     },
     "metadata": {
      "needs_background": "light"
     },
     "output_type": "display_data"
    }
   ],
   "source": [
    "from matplotlib.font_manager import FontProperties\n",
    "\n",
    "figure_path = module_path + '/figures/'\n",
    "font = FontProperties(fname = module_path + '/src/visualization/CharterRegular.ttf', size = 10, weight = 1000)\n",
    "font_small = FontProperties(fname = module_path + '/src/visualization/CharterRegular.ttf', size = 8, weight = 1000)\n",
    "colors = ['#F94144', '#90BE6D', '#577590','#F3722C', '#F8961E', '#F9844A', '#F9C74F', '#43AA8B', '#4D908E', '#277DA1']\n",
    "colors_opa = ['#F9414466', '#90BE6D66', '#57759066','#F3722C66', '#F8961E66',\n",
    "              '#F9844A66', '#F9C74F66', '#43AA8B66', '#4D908E66', '#277DA166']\n",
    "\n",
    "f, ax = plt.subplots(1,1)\n",
    "f.set_size_inches(6, 3)\n",
    "ax.plot(r_svm, a_svm, c = colors[2], label = 'SVM')\n",
    "ax.plot(r_gp, a_gp, c = colors[0], label = 'Gaussian Process Classifier')\n",
    "ax.plot(r_lr, a_lr, c = colors[1], label = 'Logistic Regression')\n",
    "ax.set_ylabel('Accuracy', fontproperties = font)\n",
    "ax.set_xlabel('Reject', fontproperties = font)\n",
    "for label in ax.get_yticklabels() :\n",
    "    label.set_fontproperties(font_small)\n",
    "for label in ax.get_xticklabels() :\n",
    "    label.set_fontproperties(font_small)\n",
    "for axis in ['top','bottom','left','right']:\n",
    "    ax.spines[axis].set_linewidth(0.5)\n",
    "    \n",
    "ax.legend(prop = font)\n",
    "\n",
    "plt.savefig(figure_path + 'accuracy_rejection_ex.pdf', bbox_inches='tight')"
   ]
  }
 ],
 "metadata": {
  "kernelspec": {
   "display_name": "Python 3",
   "language": "python",
   "name": "python3"
  },
  "language_info": {
   "codemirror_mode": {
    "name": "ipython",
    "version": 3
   },
   "file_extension": ".py",
   "mimetype": "text/x-python",
   "name": "python",
   "nbconvert_exporter": "python",
   "pygments_lexer": "ipython3",
   "version": "3.7.9"
  }
 },
 "nbformat": 4,
 "nbformat_minor": 5
}
