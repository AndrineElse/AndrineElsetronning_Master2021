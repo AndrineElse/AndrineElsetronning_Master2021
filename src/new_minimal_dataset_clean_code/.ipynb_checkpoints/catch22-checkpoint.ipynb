{
 "cells": [
  {
   "cell_type": "code",
   "execution_count": 2,
   "metadata": {},
   "outputs": [],
   "source": [
    "import numpy as np\n",
    "import pandas as pd\n",
    "import os\n",
    "import sys\n",
    "module_path = os.path.abspath(os.path.join('../..'))\n",
    "sys.path.insert(1, module_path + '/src')\n",
    "\n",
    "import utility\n",
    "import sktime\n",
    "from sktime.utils.data_io import load_from_tsfile_to_dataframe\n",
    "from sklearn.model_selection import train_test_split\n",
    "\n",
    "import matplotlib.pyplot as plt\n",
    "\n",
    "from sklearn.metrics import classification_report\n",
    "from sklearn.model_selection import GridSearchCV \n",
    "from sklearn.neighbors import KNeighborsClassifier\n",
    "from sklearn.svm import SVC\n",
    "from sklearn.neural_network import MLPClassifier\n",
    "from sklearn.ensemble import RandomForestClassifier\n",
    "from sklearn.metrics import classification_report\n",
    "from sktime.transformations.panel.catch22_features import Catch22\n",
    "\n",
    "from sklearn.utils import shuffle\n",
    "\n",
    "from sklearn.metrics import confusion_matrix\n",
    "\n",
    "#from sktime.classification.compose import TimeSeriesForestClassifier\n",
    "\n",
    "import time as time"
   ]
  },
  {
   "cell_type": "code",
   "execution_count": 9,
   "metadata": {},
   "outputs": [
    {
     "name": "stdout",
     "output_type": "stream",
     "text": [
      "['exp_crackle' 'exp_wheeze' 'insp_crackle' 'insp_wheeze' 'normal'] [ 21 204 216  24 309]\n"
     ]
    }
   ],
   "source": [
    "X_train, y_train = load_from_tsfile_to_dataframe(module_path + '/data/ts_files/minimal_dataset_3class_TRAIN.ts')\n",
    "X_test, y_test = load_from_tsfile_to_dataframe(module_path + '/data/ts_files/minimal_dataset_3class_TEST.ts')\n",
    "X_val, y_val = load_from_tsfile_to_dataframe(module_path + '/data/ts_files/minimal_dataset_3class_VAL.ts')\n",
    "\n",
    "\n",
    "labels, counts = np.unique(y_train, return_counts=True)\n",
    "print(labels, counts)"
   ]
  },
  {
   "cell_type": "markdown",
   "metadata": {},
   "source": [
    "# Trying catch22 on a permutation of the dataset"
   ]
  },
  {
   "cell_type": "code",
   "execution_count": null,
   "metadata": {},
   "outputs": [],
   "source": [
    "start = time.time()\n",
    "c22f = Catch22()\n",
    "c22f.fit(X_train , y_train)\n",
    "\n",
    "X_train_t = c22f.transform(X_train)\n",
    "X_test_t = c22f.transform(X_test)\n",
    "X_val_t = c22f.transform(X_val)\n",
    "\n",
    "time_used = time.time() - start\n",
    "print(f'Time to extract features: {time_used}')"
   ]
  },
  {
   "cell_type": "code",
   "execution_count": null,
   "metadata": {},
   "outputs": [],
   "source": [
    "def get_metadata(ts_path):\n",
    "    f = open(ts_path, 'r')\n",
    "\n",
    "    number_of_lines = 15\n",
    "    metadata = []\n",
    "    for i in range(number_of_lines):\n",
    "        line = f.readline()\n",
    "        metadata.append(line)\n",
    "        if line[:5] == '@data':\n",
    "            break\n",
    "        \n",
    "    return metadata\n",
    "\n",
    "def save_catch22_transform(X_train, X_test, X_val, y_train,y_test, y_val):\n",
    "    path_original = module_path + f'/data/ts_files/UiT_5s_TEST.ts'\n",
    "    path_transformed = module_path + '/src/adil_TSC_test/transformed_datasets/UiT'\n",
    "    \n",
    "    new_file_paths = {\n",
    "        path_transformed + '_transformed_catch22_15s_TRAIN.ts' : (X_train, y_train) ,\n",
    "        path_transformed + '_transformed_catch22_15s_TEST.ts' : (X_test, y_test),\n",
    "        path_transformed + '_transformed_catch22_15s_VAL.ts' : (X_val, y_val)\n",
    "        }\n",
    "    \n",
    "    metadata = get_metadata(path_original)\n",
    "    \n",
    "    for path, data in new_file_paths.items():\n",
    "        w = open(path, 'w+')\n",
    "        for m in metadata:\n",
    "            w.write(m)\n",
    "        X, y = data[0], data[1]\n",
    "        for x , l in zip(X.values, y):\n",
    "            new_row = str(list(x))[1:-1].replace(' ', '') + ':' + l + '\\n'\n",
    "            w.write(new_row)    \n",
    "            \n",
    "    print('Catch22 dataset is saved')\n",
    "    \n",
    "save_catch22_transform(X_train_t, X_test_t, X_val_t, y_train,y_test, y_val)\n",
    "f = open(module_path + '/src/adil_TSC_test/computation_times.txt', 'a')\n",
    "f.write('Catch22 15s, ' + str(time_used) + '\\n')\n",
    "f.close()"
   ]
  },
  {
   "cell_type": "markdown",
   "metadata": {},
   "source": [
    "Comment out the last line in the code below to run the "
   ]
  },
  {
   "cell_type": "markdown",
   "metadata": {},
   "source": [
    "## Train standard classifier"
   ]
  },
  {
   "cell_type": "code",
   "execution_count": 19,
   "metadata": {},
   "outputs": [
    {
     "name": "stdout",
     "output_type": "stream",
     "text": [
      "              precision    recall  f1-score   support\n",
      "\n",
      "     crackle       0.44      0.36      0.40       861\n",
      "      normal       0.43      0.50      0.46       917\n",
      "      wheeze       0.43      0.43      0.43       939\n",
      "\n",
      "    accuracy                           0.43      2717\n",
      "   macro avg       0.43      0.43      0.43      2717\n",
      "weighted avg       0.43      0.43      0.43      2717\n",
      "\n"
     ]
    }
   ],
   "source": [
    "X_train, X_test, y_train, y_test = train_test_split(X_new, y)\n",
    "\n",
    "classifier_dict = {'random_forest': RandomForestClassifier(max_depth=8, n_estimators=300, random_state=0),\n",
    " 'SVM': SVC(C=1, gamma=0.01)}\n",
    "\n",
    "clf = classifier_dict['SVM']\n",
    "clf.fit(X_train, y_train)\n",
    "y_pred = clf.predict(X_test)\n",
    "\n",
    "print(classification_report(y_test, y_pred))\n"
   ]
  },
  {
   "cell_type": "markdown",
   "metadata": {},
   "source": [
    "## Plot results"
   ]
  },
  {
   "cell_type": "code",
   "execution_count": 21,
   "metadata": {},
   "outputs": [
    {
     "data": {
      "image/png": "[encoded data removed]",
      "text/plain": [
       "<Figure size 360x360 with 2 Axes>"
      ]
     },
     "metadata": {
      "needs_background": "light"
     },
     "output_type": "display_data"
    }
   ],
   "source": [
    "from matplotlib.font_manager import FontProperties\n",
    "from matplotlib.colors import LinearSegmentedColormap\n",
    "import seaborn as sns\n",
    "import matplotlib\n",
    "font = FontProperties(fname = module_path + '/src/visualization/CharterRegular.ttf', size = 10, weight = 1000)\n",
    "font_small = FontProperties(fname = module_path + '/src/visualization/CharterRegular.ttf', size = 7, weight = 1000)\n",
    "color_map = ['#8ECAE6', '#219EBC', '#023047', '#FFB703', '#FB8500']\n",
    "class_names = ['crackle', 'no-crackle']\n",
    "\n",
    "\n",
    "cm = confusion_matrix(y_pred, y_test)\n",
    "f, ax = plt.subplots(1,1) # 1 x 1 array , can also be any other size\n",
    "f.set_size_inches(5, 5)\n",
    "\n",
    "cm = cm.astype('float') / cm.sum(axis=1)[:, np.newaxis]\n",
    "\n",
    "colors_2 = ['#FFFFFF', color_map[4]]\n",
    "cmap_name = 'my colormap'\n",
    "cm_map = LinearSegmentedColormap.from_list(cmap_name, colors_2)\n",
    "\n",
    "ax = sns.heatmap(cm, annot=True,\n",
    "            fmt='.2%', cmap=cm_map, xticklabels=class_names,yticklabels=class_names )\n",
    "cbar = ax.collections[0].colorbar\n",
    "for label in ax.get_yticklabels() :\n",
    "    label.set_fontproperties(font_small)\n",
    "for label in ax.get_xticklabels() :\n",
    "    label.set_fontproperties(font_small)\n",
    "ax.set_ylabel('True Label', fontproperties = font)\n",
    "ax.set_xlabel('Predicted Label', fontproperties = font)\n",
    "ax.set_xticklabels(ax.get_xticklabels(), rotation = 0)\n",
    "\n",
    "for child in ax.get_children():\n",
    "    if isinstance(child, matplotlib.text.Text):\n",
    "        child.set_fontproperties(font)\n",
    "for l in cbar.ax.yaxis.get_ticklabels():\n",
    "    l.set_fontproperties(font_small)"
   ]
  },
  {
   "cell_type": "code",
   "execution_count": null,
   "metadata": {
    "scrolled": false
   },
   "outputs": [],
   "source": [
    "%%capture\n",
    "def get_KNN_grid():\n",
    "    leaf_size = list(range(1,5))\n",
    "    n_neighbors = list(range(1,3))\n",
    "    p=[1,2]\n",
    "    hyperparameters = dict(leaf_size=leaf_size, n_neighbors=n_neighbors, p=p)\n",
    "    knn= KNeighborsClassifier()\n",
    "    return GridSearchCV(knn, hyperparameters, cv=5)\n",
    "def get_SVM_grid():\n",
    "    param_grid = {'C': [0.1, 1, 10, 100, 1000],  \n",
    "              'gamma': [1, 0.1, 0.01, 0.001, 0.0001], \n",
    "              'kernel': ['rbf']}  \n",
    "    return GridSearchCV(SVC(), param_grid, refit = True, verbose = 3, cv = 5) \n",
    "def get_ANN_grid():\n",
    "    parameter_space = {\n",
    "    'hidden_layer_sizes': [(1000,500), (1000,500, 250)],\n",
    "    'activation': [ 'relu'],\n",
    "    'solver': ['adam'],\n",
    "    'alpha': [0.0001, 0.05]}\n",
    "    return GridSearchCV(MLPClassifier(), parameter_space, cv=5)\n",
    "def get_random_forest_grid():\n",
    "    parameters = {\n",
    "    'n_estimators'      : [100,200,300],\n",
    "    'max_depth'         : [8, 10, 12],\n",
    "    'random_state'      : [0]}\n",
    "    return GridSearchCV(RandomForestClassifier(), parameters, cv=5)\n",
    "\n",
    "grids = {\n",
    "    'SVM': get_SVM_grid(),\n",
    "    'KNN': get_KNN_grid(),\n",
    "    'ANN': get_ANN_grid(),\n",
    "    'random_forest': get_random_forest_grid()\n",
    "}\n",
    "\n",
    "\n",
    "def run_grid_search(classifiers, X_train, y_train):\n",
    "    classifier_dict = {}\n",
    "    for classifier in classifiers:\n",
    "        grid = grids[classifier]\n",
    "        grid.fit(X_train, y_train)\n",
    "        classifier_dict[classifier] = grid.best_estimator_\n",
    "    return classifier_dict \n",
    "\n",
    "#classifier_dict = run_grid_search(['random_forest','SVM'], X_train_c22, y_train[indices_train])"
   ]
  }
 ],
 "metadata": {
  "kernelspec": {
   "display_name": "Python 3",
   "language": "python",
   "name": "python3"
  },
  "language_info": {
   "codemirror_mode": {
    "name": "ipython",
    "version": 3
   },
   "file_extension": ".py",
   "mimetype": "text/x-python",
   "name": "python",
   "nbconvert_exporter": "python",
   "pygments_lexer": "ipython3",
   "version": "3.7.0"
  }
 },
 "nbformat": 4,
 "nbformat_minor": 5
}
