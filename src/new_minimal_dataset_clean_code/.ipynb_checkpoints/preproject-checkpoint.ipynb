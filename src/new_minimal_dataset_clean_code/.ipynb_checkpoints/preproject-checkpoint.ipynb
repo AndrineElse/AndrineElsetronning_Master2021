{
 "cells": [
  {
   "cell_type": "markdown",
   "metadata": {},
   "source": [
    "# Preproject routine "
   ]
  },
  {
   "cell_type": "code",
   "execution_count": 49,
   "metadata": {
    "scrolled": true
   },
   "outputs": [],
   "source": [
    "import numpy as np\n",
    "import pandas as pd\n",
    "import os\n",
    "import sys\n",
    "module_path = os.path.abspath(os.path.join('../..'))\n",
    "sys.path.insert(1, module_path + '/src')\n",
    "\n",
    "import utility\n",
    "\n",
    "import librosa\n",
    "import sktime\n",
    "from sktime.utils.data_io import load_from_tsfile_to_dataframe\n",
    "from sklearn.model_selection import train_test_split\n",
    "\n",
    "from math import ceil\n",
    "\n",
    "import matplotlib\n",
    "import matplotlib.pyplot as plt\n",
    "import seaborn as sns\n",
    "\n",
    "import librosa\n",
    "from scipy.stats import skew \n",
    "\n",
    "sys.path.insert(1, '/home/andrine/Desktop/tqwt_tools')\n",
    "from tqwt_tools import DualQDecomposition\n",
    "from scipy.signal import butter, lfilter\n",
    "from scipy.fft import fft\n",
    "from scipy.signal import stft\n",
    "from scipy.stats import skew, kurtosis\n",
    "from PyEMD import EEMD\n",
    "\n",
    "from time import time\n",
    "import sys\n",
    "import os\n",
    "figure_path = module_path + '/figures/'\n",
    "\n",
    "sys.path.insert(1, module_path + '/src/')\n",
    "\n",
    "from matplotlib.font_manager import FontProperties\n",
    "font = FontProperties(fname = module_path + '/src/visualization/CharterRegular.ttf', size = 10, weight = 1000)\n",
    "font_small = FontProperties(fname = module_path + '/src/visualization/CharterRegular.ttf', size = 8, weight = 1000)\n",
    "colors = ['#F94144', '#90BE6D', '#577590','#F3722C', '#F8961E', '#F9844A', '#F9C74F', '#43AA8B', '#4D908E', '#277DA1']\n",
    "colors_opa = ['#F9414466', '#90BE6D66', '#57759066','#F3722C66', '#F8961E66',\n",
    "              '#F9844A66', '#F9C74F66', '#43AA8B66', '#4D908E66', '#277DA166']\n",
    "\n",
    "sns.set_palette(sns.color_palette(colors))\n",
    "\n",
    "\n",
    "\n",
    "def znorm(timeseries):\n",
    "    mean = np.mean(timeseries)\n",
    "    sd = np.std(timeseries)\n",
    "    return (timeseries - mean)/sd\n",
    "\n",
    "target_rate = 44100\n",
    "ds_target_rate = 8000\n",
    "\n",
    "import os\n",
    "names = []\n",
    "#files_path = '/home/andrine/Desktop/dataTromso/Hasse413/'\n",
    "#files_path = '/home/andrine/Desktop/dataTromsoFiltered/allFilteres/'\n",
    "\n",
    "files_path = module_path + '/data/minimal_dataset/data/'\n",
    "info = pd.read_csv(module_path + '/data/minimal_dataset/info.csv')"
   ]
  },
  {
   "cell_type": "markdown",
   "metadata": {},
   "source": [
    "Defining some helping functions, that will be important when extracting "
   ]
  },
  {
   "cell_type": "code",
   "execution_count": 50,
   "metadata": {},
   "outputs": [],
   "source": [
    "def get_features(data, sr):\n",
    "    sr = sr\n",
    "    n_mfcc = 30\n",
    "    ft1 = librosa.feature.mfcc(data, sr = sr, n_mfcc=n_mfcc)\n",
    "    ft2 = librosa.feature.zero_crossing_rate(data)[0]\n",
    "    ft3 = librosa.feature.spectral_rolloff(data)[0]\n",
    "    ft4 = librosa.feature.spectral_centroid(data)[0]\n",
    "    ft5 = librosa.feature.spectral_contrast(data)[0]\n",
    "    ft6 = librosa.feature.spectral_bandwidth(data)[0]\n",
    "\n",
    "    ### Get HOS and simple features \n",
    "    ft0_trunc = np.hstack((np.mean(data) , np.std(data), skew(data), np.max(data), np.median(data), np.min(data), utility.get_energy(data), utility.get_entropy(data)))\n",
    "\n",
    "    ### MFCC features\n",
    "    ft1_trunc = np.hstack((np.mean(ft1, axis=1), np.std(ft1, axis=1), skew(ft1, axis = 1), np.max(ft1, axis = 1), np.median(ft1, axis = 1), np.min(ft1, axis = 1)))\n",
    "\n",
    "    ### Spectral Features \n",
    "    ft2_trunc = np.hstack((np.mean(ft2), np.std(ft2), skew(ft2), np.max(ft2), np.median(ft2), np.min(ft2)))\n",
    "    ft3_trunc = np.hstack((np.mean(ft3), np.std(ft3), skew(ft3), np.max(ft3), np.median(ft3), np.min(ft3)))\n",
    "    ft4_trunc = np.hstack((np.mean(ft4), np.std(ft4), skew(ft4), np.max(ft4), np.median(ft4), np.min(ft4)))\n",
    "    ft5_trunc = np.hstack((np.mean(ft5), np.std(ft5), skew(ft5), np.max(ft5), np.median(ft5), np.min(ft5)))\n",
    "    ft6_trunc = np.hstack((np.mean(ft6), np.std(ft6), skew(ft6), np.max(ft6), np.median(ft6), np.max(ft6)))\n",
    "    return np.hstack((ft0_trunc , ft1_trunc, ft2_trunc, ft3_trunc, ft4_trunc, ft5_trunc, ft6_trunc))"
   ]
  },
  {
   "cell_type": "markdown",
   "metadata": {},
   "source": [
    "Obtaining the data correlated with filepath, label and ID"
   ]
  },
  {
   "cell_type": "markdown",
   "metadata": {},
   "source": [
    "Cutting the dataset down to 3 classes, and balancing the dataset"
   ]
  },
  {
   "cell_type": "code",
   "execution_count": 51,
   "metadata": {},
   "outputs": [
    {
     "data": {
      "text/plain": [
       "wheeze     704\n",
       "crackle    582\n",
       "normal     554\n",
       "Name: label, dtype: int64"
      ]
     },
     "execution_count": 51,
     "metadata": {},
     "output_type": "execute_result"
    }
   ],
   "source": [
    "info['label'].value_counts()"
   ]
  },
  {
   "cell_type": "code",
   "execution_count": 57,
   "metadata": {
    "scrolled": true
   },
   "outputs": [],
   "source": [
    "'''indices = np.concatenate([np.where(info['label'] == 'normal')[0],\n",
    "                          np.where(info['label'] == 'wheeze')[0][:580],\n",
    "                          np.where(info['label'] == 'crackle')[0]])'''\n",
    "\n",
    "indices = np.concatenate([np.where(info['label'] == 'wheeze')[0][:580],\n",
    "                          np.where(info['label'] == 'crackle')[0]])\n",
    "\n",
    "\n",
    "info = info.iloc[indices]"
   ]
  },
  {
   "cell_type": "markdown",
   "metadata": {},
   "source": [
    "### Making unbiased train, test, val splits "
   ]
  },
  {
   "cell_type": "code",
   "execution_count": 58,
   "metadata": {
    "scrolled": true
   },
   "outputs": [
    {
     "name": "stdout",
     "output_type": "stream",
     "text": [
      "wheeze     441\n",
      "crackle    426\n",
      "Name: label, dtype: int64\n"
     ]
    },
    {
     "name": "stderr",
     "output_type": "stream",
     "text": [
      "/home/andrine/anaconda3/lib/python3.7/site-packages/ipykernel_launcher.py:3: SettingWithCopyWarning: \n",
      "A value is trying to be set on a copy of a slice from a DataFrame\n",
      "\n",
      "See the caveats in the documentation: https://pandas.pydata.org/pandas-docs/stable/user_guide/indexing.html#returning-a-view-versus-a-copy\n",
      "  This is separate from the ipykernel package so we can avoid doing imports until\n"
     ]
    }
   ],
   "source": [
    "from sklearn.model_selection import train_test_split\n",
    "\n",
    "info.sort_values(by=['patient_id'], inplace=True)\n",
    "\n",
    "\n",
    "id_unique = info['patient_id'].unique()\n",
    "\n",
    "id_train , id_test = train_test_split(id_unique, test_size=0.2, random_state=42)\n",
    "id_train , id_val = train_test_split(id_unique, test_size=0.25, random_state=42)\n",
    "\n",
    "def get_indices(id_list, data):\n",
    "    indices = np.array([])\n",
    "    for i in id_list:\n",
    "        idx = np.where(data['patient_id'] == i)[0]\n",
    "        indices = np.append([list(idx)] , [indices])\n",
    "        \n",
    "    return indices\n",
    "\n",
    "\n",
    "indices_train = get_indices(id_train, info).astype(int)\n",
    "indices_test = get_indices(id_test, info).astype(int)\n",
    "indices_val = get_indices(id_val, info).astype(int)\n",
    "\n",
    "print(info.iloc[indices_train]['label'].value_counts())"
   ]
  },
  {
   "cell_type": "code",
   "execution_count": 59,
   "metadata": {},
   "outputs": [
    {
     "data": {
      "text/html": [
       "<div>\n",
       "<style scoped>\n",
       "    .dataframe tbody tr th:only-of-type {\n",
       "        vertical-align: middle;\n",
       "    }\n",
       "\n",
       "    .dataframe tbody tr th {\n",
       "        vertical-align: top;\n",
       "    }\n",
       "\n",
       "    .dataframe thead th {\n",
       "        text-align: right;\n",
       "    }\n",
       "</style>\n",
       "<table border=\"1\" class=\"dataframe\">\n",
       "  <thead>\n",
       "    <tr style=\"text-align: right;\">\n",
       "      <th></th>\n",
       "      <th>filepath_orig</th>\n",
       "      <th>filepath_new</th>\n",
       "      <th>patient_id</th>\n",
       "      <th>recording_loc</th>\n",
       "      <th>label</th>\n",
       "      <th>start</th>\n",
       "    </tr>\n",
       "  </thead>\n",
       "  <tbody>\n",
       "    <tr>\n",
       "      <th>1270</th>\n",
       "      <td>/home/andrine/Desktop/dataTromsoFiltered/allFi...</td>\n",
       "      <td>/home/andrine/Desktop/AndrineElsetronning_Mast...</td>\n",
       "      <td>10014511</td>\n",
       "      <td>3</td>\n",
       "      <td>crackle</td>\n",
       "      <td>3.5</td>\n",
       "    </tr>\n",
       "    <tr>\n",
       "      <th>1272</th>\n",
       "      <td>/home/andrine/Desktop/dataTromsoFiltered/allFi...</td>\n",
       "      <td>/home/andrine/Desktop/AndrineElsetronning_Mast...</td>\n",
       "      <td>10014511</td>\n",
       "      <td>3</td>\n",
       "      <td>crackle</td>\n",
       "      <td>7.0</td>\n",
       "    </tr>\n",
       "    <tr>\n",
       "      <th>1271</th>\n",
       "      <td>/home/andrine/Desktop/dataTromsoFiltered/allFi...</td>\n",
       "      <td>/home/andrine/Desktop/AndrineElsetronning_Mast...</td>\n",
       "      <td>10014511</td>\n",
       "      <td>3</td>\n",
       "      <td>crackle</td>\n",
       "      <td>6.5</td>\n",
       "    </tr>\n",
       "    <tr>\n",
       "      <th>1173</th>\n",
       "      <td>/home/andrine/Desktop/dataTromsoFiltered/allFi...</td>\n",
       "      <td>/home/andrine/Desktop/AndrineElsetronning_Mast...</td>\n",
       "      <td>10017716</td>\n",
       "      <td>3</td>\n",
       "      <td>crackle</td>\n",
       "      <td>5.0</td>\n",
       "    </tr>\n",
       "    <tr>\n",
       "      <th>1172</th>\n",
       "      <td>/home/andrine/Desktop/dataTromsoFiltered/allFi...</td>\n",
       "      <td>/home/andrine/Desktop/AndrineElsetronning_Mast...</td>\n",
       "      <td>10017716</td>\n",
       "      <td>3</td>\n",
       "      <td>crackle</td>\n",
       "      <td>4.5</td>\n",
       "    </tr>\n",
       "    <tr>\n",
       "      <th>...</th>\n",
       "      <td>...</td>\n",
       "      <td>...</td>\n",
       "      <td>...</td>\n",
       "      <td>...</td>\n",
       "      <td>...</td>\n",
       "      <td>...</td>\n",
       "    </tr>\n",
       "    <tr>\n",
       "      <th>683</th>\n",
       "      <td>/home/andrine/Desktop/dataTromsoFiltered/allFi...</td>\n",
       "      <td>/home/andrine/Desktop/AndrineElsetronning_Mast...</td>\n",
       "      <td>40164924</td>\n",
       "      <td>4</td>\n",
       "      <td>wheeze</td>\n",
       "      <td>10.0</td>\n",
       "    </tr>\n",
       "    <tr>\n",
       "      <th>682</th>\n",
       "      <td>/home/andrine/Desktop/dataTromsoFiltered/allFi...</td>\n",
       "      <td>/home/andrine/Desktop/AndrineElsetronning_Mast...</td>\n",
       "      <td>40164924</td>\n",
       "      <td>4</td>\n",
       "      <td>wheeze</td>\n",
       "      <td>5.5</td>\n",
       "    </tr>\n",
       "    <tr>\n",
       "      <th>738</th>\n",
       "      <td>/home/andrine/Desktop/dataTromsoFiltered/allFi...</td>\n",
       "      <td>/home/andrine/Desktop/AndrineElsetronning_Mast...</td>\n",
       "      <td>40170921</td>\n",
       "      <td>1</td>\n",
       "      <td>wheeze</td>\n",
       "      <td>3.0</td>\n",
       "    </tr>\n",
       "    <tr>\n",
       "      <th>737</th>\n",
       "      <td>/home/andrine/Desktop/dataTromsoFiltered/allFi...</td>\n",
       "      <td>/home/andrine/Desktop/AndrineElsetronning_Mast...</td>\n",
       "      <td>40170921</td>\n",
       "      <td>1</td>\n",
       "      <td>wheeze</td>\n",
       "      <td>2.5</td>\n",
       "    </tr>\n",
       "    <tr>\n",
       "      <th>736</th>\n",
       "      <td>/home/andrine/Desktop/dataTromsoFiltered/allFi...</td>\n",
       "      <td>/home/andrine/Desktop/AndrineElsetronning_Mast...</td>\n",
       "      <td>40170921</td>\n",
       "      <td>1</td>\n",
       "      <td>wheeze</td>\n",
       "      <td>2.0</td>\n",
       "    </tr>\n",
       "  </tbody>\n",
       "</table>\n",
       "<p>1162 rows × 6 columns</p>\n",
       "</div>"
      ],
      "text/plain": [
       "                                          filepath_orig  \\\n",
       "1270  /home/andrine/Desktop/dataTromsoFiltered/allFi...   \n",
       "1272  /home/andrine/Desktop/dataTromsoFiltered/allFi...   \n",
       "1271  /home/andrine/Desktop/dataTromsoFiltered/allFi...   \n",
       "1173  /home/andrine/Desktop/dataTromsoFiltered/allFi...   \n",
       "1172  /home/andrine/Desktop/dataTromsoFiltered/allFi...   \n",
       "...                                                 ...   \n",
       "683   /home/andrine/Desktop/dataTromsoFiltered/allFi...   \n",
       "682   /home/andrine/Desktop/dataTromsoFiltered/allFi...   \n",
       "738   /home/andrine/Desktop/dataTromsoFiltered/allFi...   \n",
       "737   /home/andrine/Desktop/dataTromsoFiltered/allFi...   \n",
       "736   /home/andrine/Desktop/dataTromsoFiltered/allFi...   \n",
       "\n",
       "                                           filepath_new  patient_id  \\\n",
       "1270  /home/andrine/Desktop/AndrineElsetronning_Mast...    10014511   \n",
       "1272  /home/andrine/Desktop/AndrineElsetronning_Mast...    10014511   \n",
       "1271  /home/andrine/Desktop/AndrineElsetronning_Mast...    10014511   \n",
       "1173  /home/andrine/Desktop/AndrineElsetronning_Mast...    10017716   \n",
       "1172  /home/andrine/Desktop/AndrineElsetronning_Mast...    10017716   \n",
       "...                                                 ...         ...   \n",
       "683   /home/andrine/Desktop/AndrineElsetronning_Mast...    40164924   \n",
       "682   /home/andrine/Desktop/AndrineElsetronning_Mast...    40164924   \n",
       "738   /home/andrine/Desktop/AndrineElsetronning_Mast...    40170921   \n",
       "737   /home/andrine/Desktop/AndrineElsetronning_Mast...    40170921   \n",
       "736   /home/andrine/Desktop/AndrineElsetronning_Mast...    40170921   \n",
       "\n",
       "      recording_loc    label  start  \n",
       "1270              3  crackle    3.5  \n",
       "1272              3  crackle    7.0  \n",
       "1271              3  crackle    6.5  \n",
       "1173              3  crackle    5.0  \n",
       "1172              3  crackle    4.5  \n",
       "...             ...      ...    ...  \n",
       "683               4   wheeze   10.0  \n",
       "682               4   wheeze    5.5  \n",
       "738               1   wheeze    3.0  \n",
       "737               1   wheeze    2.5  \n",
       "736               1   wheeze    2.0  \n",
       "\n",
       "[1162 rows x 6 columns]"
      ]
     },
     "execution_count": 59,
     "metadata": {},
     "output_type": "execute_result"
    }
   ],
   "source": [
    "info"
   ]
  },
  {
   "cell_type": "code",
   "execution_count": 60,
   "metadata": {},
   "outputs": [],
   "source": [
    "def get_data_array(data):\n",
    "    error_in_data = {}\n",
    "    count = 0\n",
    "    \n",
    "    X = []\n",
    "    y = []\n",
    "    for row in data.iterrows():\n",
    "\n",
    "        audio_file = row[1]['filepath_new']\n",
    "        label = row[1]['label']\n",
    "\n",
    "        try:\n",
    "            sr, audio = utility.read_wav_file(audio_file, 8000)\n",
    "\n",
    "        except EOFError as error:\n",
    "            error_in_data[audio_file] = 'EOFError'\n",
    "            continue\n",
    "\n",
    "        try:\n",
    "            #audio = znorm(audio)\n",
    "            features = get_features(audio, sr)\n",
    "            X.append(features)\n",
    "            y.append(label)\n",
    "            \n",
    "\n",
    "        except ValueError as error:\n",
    "            error_in_data[audio_file] = 'ValueError'\n",
    "            continue\n",
    "    return (np.array(X), pd.Series(y))\n",
    "\n",
    "\n",
    "indices = {\n",
    "    'train' : indices_train,\n",
    "    'test' : indices_test,\n",
    "    'val' : indices_val\n",
    "    \n",
    "}\n",
    "\n",
    "result_datasets = {\n",
    "    'train' : ([], []),\n",
    "    'test' : ([], []),\n",
    "    'val' : ([], [])\n",
    "    \n",
    "}\n",
    "\n",
    "for name, i in indices.items():\n",
    "    result_datasets[name] = get_data_array(info.iloc[i])\n",
    "\n",
    "X_train, y_train = result_datasets['train']\n",
    "X_test, y_test = result_datasets['test']\n",
    "X_val, y_val = result_datasets['val']"
   ]
  },
  {
   "cell_type": "markdown",
   "metadata": {},
   "source": [
    "# Testing classification \n",
    "\n",
    "## Preproject dataset, split on scilence"
   ]
  },
  {
   "cell_type": "code",
   "execution_count": 61,
   "metadata": {},
   "outputs": [
    {
     "data": {
      "image/png": "[encoded data removed]",
      "text/plain": [
       "<Figure size 216x216 with 2 Axes>"
      ]
     },
     "metadata": {
      "needs_background": "light"
     },
     "output_type": "display_data"
    }
   ],
   "source": [
    "from sklearn.ensemble import RandomForestClassifier\n",
    "\n",
    "class_names =  list(pd.factorize(y_train)[1])\n",
    "clf = RandomForestClassifier(criterion='entropy', max_depth=8, n_estimators=500,random_state=42)\n",
    "\n",
    "clf.fit(X_train , y_train)\n",
    "y_pred = clf.predict(X_test)\n",
    "\n",
    "f, ax = utility.plot_cm(y_test, y_pred, module_path = module_path, class_names = class_names)"
   ]
  },
  {
   "cell_type": "markdown",
   "metadata": {},
   "source": [
    "# Keras Model "
   ]
  },
  {
   "cell_type": "code",
   "execution_count": null,
   "metadata": {},
   "outputs": [],
   "source": [
    "from keras.utils import np_utils\n",
    "import keras\n",
    "from keras.models import Model\n",
    "from keras.models import Sequential\n",
    "from sklearn.ensemble import RandomForestClassifier\n",
    "from keras.layers import Conv1D, ZeroPadding1D, MaxPooling1D, BatchNormalization, Activation, Dropout, Flatten, Dense\n"
   ]
  }
 ],
 "metadata": {
  "kernelspec": {
   "display_name": "Python 3",
   "language": "python",
   "name": "python3"
  },
  "language_info": {
   "codemirror_mode": {
    "name": "ipython",
    "version": 3
   },
   "file_extension": ".py",
   "mimetype": "text/x-python",
   "name": "python",
   "nbconvert_exporter": "python",
   "pygments_lexer": "ipython3",
   "version": "3.7.0"
  }
 },
 "nbformat": 4,
 "nbformat_minor": 5
}
