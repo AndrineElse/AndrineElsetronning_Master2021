{
 "cells": [
  {
   "cell_type": "markdown",
   "metadata": {},
   "source": [
    "https://medium.com/@Rehan_Sayyad/how-to-use-convolutional-neural-networks-for-time-series-classification-80575131a474\n",
    "\n",
    "https://machinelearningmastery.com/cnn-models-for-human-activity-recognition-time-series-classification/"
   ]
  },
  {
   "cell_type": "code",
   "execution_count": 2,
   "metadata": {},
   "outputs": [],
   "source": [
    "import sys\n",
    "import os\n",
    "import pandas as pd\n",
    "import numpy as np\n",
    "\n",
    "module_path = os.path.abspath(os.path.join('../..'))\n",
    "\n",
    "sys.path.insert(1, module_path + '/src')\n",
    "import audio_time_series_classification as preproject\n",
    "import utility\n",
    "\n",
    "sys.path.insert(1, module_path + '/src/models/')\n",
    "import helper\n",
    "\n",
    "from sktime.utils.data_io import load_from_tsfile_to_dataframe\n",
    "from sktime.utils.data_processing import from_nested_to_2d_array\n",
    "import matplotlib.pyplot as plt\n",
    "from sklearn import preprocessing\n",
    "\n",
    "from keras.utils import np_utils\n",
    "import keras\n",
    "from keras.models import Model\n",
    "from keras.models import Sequential\n",
    "from keras.layers import Conv1D, ZeroPadding1D, MaxPooling1D, BatchNormalization, Activation, Dropout, Flatten, Dense\n",
    "\n",
    "\n",
    "figure_path = module_path + '/figures/'"
   ]
  },
  {
   "cell_type": "code",
   "execution_count": 20,
   "metadata": {},
   "outputs": [],
   "source": [
    "X_train, y_train_ = load_from_tsfile_to_dataframe(module_path + f'/data/ts_files/UiT_5s_TRAIN.ts')\n",
    "X_test, y_test_ = load_from_tsfile_to_dataframe(module_path + f'/data/ts_files/UiT_5s_TEST.ts')\n",
    "\n",
    "X_train, X_test = from_nested_to_2d_array(X_train), from_nested_to_2d_array(X_test)\n",
    "\n",
    "cols = np.arange(len(X_test.columns))\n",
    "X_train.columns, X_test.columns = cols, cols\n",
    "\n",
    "y_train_, y_test_, = pd.Series(y_train_), pd.Series(y_test_)\n",
    "X_train = X_train.to_numpy()\n",
    "X_test = X_test.to_numpy()\n",
    "\n",
    "\n",
    "X_train = X_train.reshape(X_train.shape[0],X_train.shape[1], 1)\n",
    "X_test = X_test.reshape(X_test.shape[0],X_test.shape[1], 1)"
   ]
  },
  {
   "cell_type": "markdown",
   "metadata": {},
   "source": [
    "## Keeping the original classes"
   ]
  },
  {
   "cell_type": "code",
   "execution_count": 197,
   "metadata": {},
   "outputs": [],
   "source": [
    "indices_1 = np.where(y_train_ == 'normal')[0]\n",
    "indices_2 = np.where(y_train_ == 'exp_wheeze')[0]\n",
    "indices_3 = np.where(y_train_ == 'insp_crackle')[0]\n",
    "indices_4 = np.where(y_train_ == 'insp_wheeze')[0]\n",
    "indices_5 = np.where(y_train_ == 'exp_crackle')[0]\n",
    "#indices_train = np.concatenate((indices_1[0:25], indices_2[:25], indices_3[:25], indices_4, indices_5))\n",
    "indices_train = np.concatenate((indices_2[:25], indices_3[:25], indices_4, indices_5))\n",
    "\n",
    "indices_1 = np.where(y_test_ == 'normal')[0]\n",
    "indices_2 = np.where(y_test_ == 'exp_wheeze')[0]\n",
    "indices_3 = np.where(y_test_ == 'insp_crackle')[0]\n",
    "indices_4 = np.where(y_test_ == 'insp_wheeze')[0]\n",
    "indices_5 = np.where(y_test_ == 'exp_crackle')[0]\n",
    "#indices_test = np.concatenate((indices_1, indices_2, indices_3, indices_4, indices_5))\n",
    "indices_test = np.concatenate((indices_2, indices_3, indices_4, indices_5))"
   ]
  },
  {
   "cell_type": "code",
   "execution_count": 198,
   "metadata": {},
   "outputs": [],
   "source": [
    "le = preprocessing.LabelEncoder()\n",
    "\n",
    "le.fit(y_train_[indices_train])\n",
    "num_classes = len(le.classes_)\n",
    "y_train = le.transform(y_train_[indices_train])\n",
    "y_test = le.transform(y_test_[indices_test])\n",
    "\n",
    "y_train = np_utils.to_categorical(y_train, num_classes = num_classes)\n",
    "y_test = np_utils.to_categorical(y_test, num_classes = num_classes)"
   ]
  },
  {
   "cell_type": "markdown",
   "metadata": {},
   "source": [
    "## Creating subclasses "
   ]
  },
  {
   "cell_type": "code",
   "execution_count": 21,
   "metadata": {},
   "outputs": [],
   "source": [
    "y_train_new = y_train_.copy(deep = True)\n",
    "\n",
    "y_train_new[y_train_new == 'exp_wheeze'] = 'wheeze'\n",
    "y_train_new[y_train_new == 'insp_wheeze'] = 'wheeze'\n",
    "y_train_new[y_train_new == 'exp_crackle'] = 'crackle'\n",
    "y_train_new[y_train_new == 'insp_crackle'] = 'crackle'\n",
    "\n",
    "y_test_new = y_test_.copy(deep = True)\n",
    "\n",
    "y_test_new[y_test_new == 'exp_wheeze'] = 'wheeze'\n",
    "y_test_new[y_test_new == 'insp_wheeze'] = 'wheeze'\n",
    "y_test_new[y_test_new == 'exp_crackle'] = 'crackle'\n",
    "y_test_new[y_test_new == 'insp_crackle'] = 'crackle'"
   ]
  },
  {
   "cell_type": "code",
   "execution_count": 22,
   "metadata": {},
   "outputs": [],
   "source": [
    "indices_1 = np.where(y_train_new == 'normal')[0]\n",
    "indices_2 = np.where(y_train_new == 'wheeze')[0]\n",
    "indices_3 = np.where(y_train_new == 'crackle')[0]\n",
    "#indices_train = np.concatenate((indices_2, indices_3))\n",
    "#indices_train = np.concatenate((indices_1[:250], indices_2, indices_3))\n",
    "indices_train = np.concatenate((indices_1[:1350], indices_2, indices_3))\n",
    "\n",
    "\n",
    "indices_1 = np.where(y_test_new == 'normal')[0]\n",
    "indices_2 = np.where(y_test_new == 'wheeze')[0]\n",
    "indices_3 = np.where(y_test_new == 'crackle')[0]\n",
    "#indices_test = np.concatenate((indices_2, indices_3))\n",
    "indices_test = np.concatenate((indices_1, indices_2, indices_3))"
   ]
  },
  {
   "cell_type": "code",
   "execution_count": 23,
   "metadata": {},
   "outputs": [],
   "source": [
    "le = preprocessing.LabelEncoder()\n",
    "\n",
    "le.fit(y_train_new[indices_train])\n",
    "num_classes = len(le.classes_)\n",
    "y_train = le.transform(y_train_new[indices_train])\n",
    "y_test = le.transform(y_test_new[indices_test])\n",
    "\n",
    "y_train = np_utils.to_categorical(y_train, num_classes = num_classes)\n",
    "y_test = np_utils.to_categorical(y_test, num_classes = num_classes)"
   ]
  },
  {
   "cell_type": "markdown",
   "metadata": {},
   "source": [
    "# Models"
   ]
  },
  {
   "cell_type": "code",
   "execution_count": null,
   "metadata": {},
   "outputs": [],
   "source": [
    "model = Sequential()\n",
    "intput_shape=(x_train.shape[1], 1)\n",
    "model.add(Conv1D(128, kernel_size=3,padding = 'same',activation= 'relu', input_shape=input_shape))\n",
    "model.add(BatchNormalization())\n",
    "model.add(MaxPooling1D(pool_size=(2)))\n",
    "model.add(Conv1D(128,kernel_size=3,padding = ‘same’, activation=’relu’))\n",
    "model.add(BatchNormalization())\n",
    "model.add(MaxPooling1D(pool_size=(2)))\n",
    "model.add(Flatten())\n",
    "model.add(Dense(64, activation=’tanh’))\n",
    "model.add(Dropout(0.2))\n",
    "model.add(Dense(32, activation=’tanh’))\n",
    "model.add(Dropout(0.2))\n",
    "model.add(Dense(16, activation=’relu’))\n",
    "model.add(Dropout(0.2))\n",
    "model.add(Dense(num_classes, activation=’softmax’))\n",
    "model.summary()"
   ]
  },
  {
   "cell_type": "code",
   "execution_count": null,
   "metadata": {},
   "outputs": [],
   "source": [
    "model = Sequential()\n",
    "model.add(Conv1D(filters=64, kernel_size=20, activation='relu', input_shape=(n_timesteps,1)))\n",
    "model.add(Conv1D(filters=64, kernel_size=3, activation='relu'))\n",
    "model.add(Dropout(0.5))\n",
    "model.add(MaxPooling1D(pool_size=2))\n",
    "model.add(Flatten())\n",
    "model.add(Dense(100, activation='relu'))\n",
    "model.add(Dense(n_outputs, activation='softmax'))\n",
    "model.compile(loss='categorical_crossentropy', optimizer='adam', metrics=['accuracy'])"
   ]
  },
  {
   "cell_type": "markdown",
   "metadata": {},
   "source": [
    "# Comments\n",
    "\n",
    "* Adding batch normalization makes so that only one class is guessed always"
   ]
  },
  {
   "cell_type": "code",
   "execution_count": 24,
   "metadata": {},
   "outputs": [],
   "source": [
    "batch_size = 100\n",
    "epochs = 50\n",
    "input_shape=(X_train.shape[1], 1)"
   ]
  },
  {
   "cell_type": "code",
   "execution_count": 25,
   "metadata": {},
   "outputs": [],
   "source": [
    "model = Sequential()\n",
    "\n",
    "model.add(Conv1D(filters=10, kernel_size=3, activation='relu', input_shape=input_shape))\n",
    "#model.add(BatchNormalization()) \n",
    "model.add(MaxPooling1D(pool_size=20))\n",
    "model.add(Flatten())\n",
    "model.add(Dense(1500, activation='relu'))\n",
    "#model.add(Dropout(0.2))\n",
    "#model.add(Dense(500, activation='relu'))\n",
    "#model.add(Dropout(0.2))\n",
    "model.add(Dense(num_classes, activation='softmax'))\n",
    "model.compile(optimizer='adam', loss='mse')"
   ]
  },
  {
   "cell_type": "code",
   "execution_count": 26,
   "metadata": {
    "scrolled": true
   },
   "outputs": [
    {
     "name": "stdout",
     "output_type": "stream",
     "text": [
      "Model: \"sequential_1\"\n",
      "_________________________________________________________________\n",
      "Layer (type)                 Output Shape              Param #   \n",
      "=================================================================\n",
      "conv1d_1 (Conv1D)            (None, 19998, 10)         40        \n",
      "_________________________________________________________________\n",
      "max_pooling1d_1 (MaxPooling1 (None, 999, 10)           0         \n",
      "_________________________________________________________________\n",
      "flatten_1 (Flatten)          (None, 9990)              0         \n",
      "_________________________________________________________________\n",
      "dense_2 (Dense)              (None, 1500)              14986500  \n",
      "_________________________________________________________________\n",
      "dense_3 (Dense)              (None, 3)                 4503      \n",
      "=================================================================\n",
      "Total params: 14,991,043\n",
      "Trainable params: 14,991,043\n",
      "Non-trainable params: 0\n",
      "_________________________________________________________________\n"
     ]
    }
   ],
   "source": [
    "model.summary()"
   ]
  },
  {
   "cell_type": "code",
   "execution_count": 27,
   "metadata": {},
   "outputs": [
    {
     "data": {
      "text/plain": [
       "(4012, 20000, 1)"
      ]
     },
     "execution_count": 27,
     "metadata": {},
     "output_type": "execute_result"
    }
   ],
   "source": [
    "X_train[indices_train].shape"
   ]
  },
  {
   "cell_type": "code",
   "execution_count": 28,
   "metadata": {},
   "outputs": [
    {
     "name": "stdout",
     "output_type": "stream",
     "text": [
      "Epoch 1/50\n",
      "41/41 [==============================] - 8s 178ms/step - loss: 0.2216\n",
      "Epoch 2/50\n",
      "41/41 [==============================] - 7s 177ms/step - loss: 0.2136\n",
      "Epoch 3/50\n",
      "41/41 [==============================] - 7s 166ms/step - loss: 0.2014\n",
      "Epoch 4/50\n",
      "41/41 [==============================] - 7s 165ms/step - loss: 0.1886\n",
      "Epoch 5/50\n",
      "41/41 [==============================] - 7s 168ms/step - loss: 0.1641\n",
      "Epoch 6/50\n",
      "41/41 [==============================] - 7s 183ms/step - loss: 0.1473\n",
      "Epoch 7/50\n",
      "41/41 [==============================] - 7s 176ms/step - loss: 0.1236\n",
      "Epoch 8/50\n",
      "41/41 [==============================] - 7s 177ms/step - loss: 0.1059\n",
      "Epoch 9/50\n",
      "41/41 [==============================] - 7s 175ms/step - loss: 0.0879\n",
      "Epoch 10/50\n",
      "41/41 [==============================] - 7s 174ms/step - loss: 0.0664\n",
      "Epoch 11/50\n",
      "41/41 [==============================] - 7s 179ms/step - loss: 0.0512\n",
      "Epoch 12/50\n",
      "41/41 [==============================] - 7s 175ms/step - loss: 0.0419\n",
      "Epoch 13/50\n",
      "41/41 [==============================] - 7s 177ms/step - loss: 0.0384\n",
      "Epoch 14/50\n",
      "41/41 [==============================] - 7s 175ms/step - loss: 0.0266\n",
      "Epoch 15/50\n",
      "41/41 [==============================] - 7s 177ms/step - loss: 0.0232\n",
      "Epoch 16/50\n",
      "41/41 [==============================] - 7s 177ms/step - loss: 0.0153\n",
      "Epoch 17/50\n",
      "41/41 [==============================] - 7s 172ms/step - loss: 0.0130\n",
      "Epoch 18/50\n",
      "41/41 [==============================] - 7s 180ms/step - loss: 0.0101\n",
      "Epoch 19/50\n",
      "41/41 [==============================] - 7s 176ms/step - loss: 0.0096\n",
      "Epoch 20/50\n",
      "41/41 [==============================] - 7s 173ms/step - loss: 0.0060\n",
      "Epoch 21/50\n",
      "41/41 [==============================] - 7s 171ms/step - loss: 0.0070\n",
      "Epoch 22/50\n",
      "41/41 [==============================] - 7s 175ms/step - loss: 0.0053\n",
      "Epoch 23/50\n",
      "41/41 [==============================] - 7s 172ms/step - loss: 0.0043\n",
      "Epoch 24/50\n",
      "41/41 [==============================] - 7s 177ms/step - loss: 0.0042\n",
      "Epoch 25/50\n",
      "41/41 [==============================] - 7s 168ms/step - loss: 0.0023\n",
      "Epoch 26/50\n",
      "41/41 [==============================] - 7s 168ms/step - loss: 0.0039\n",
      "Epoch 27/50\n",
      "41/41 [==============================] - 7s 167ms/step - loss: 0.0034\n",
      "Epoch 28/50\n",
      "41/41 [==============================] - 7s 168ms/step - loss: 0.0027\n",
      "Epoch 29/50\n",
      "41/41 [==============================] - 7s 167ms/step - loss: 0.0025\n",
      "Epoch 30/50\n",
      "41/41 [==============================] - 7s 166ms/step - loss: 0.0024\n",
      "Epoch 31/50\n",
      "41/41 [==============================] - 7s 167ms/step - loss: 0.0023\n",
      "Epoch 32/50\n",
      "41/41 [==============================] - 7s 166ms/step - loss: 0.0011\n",
      "Epoch 33/50\n",
      "41/41 [==============================] - 7s 168ms/step - loss: 9.3133e-04\n",
      "Epoch 34/50\n",
      "41/41 [==============================] - 7s 173ms/step - loss: 0.0024\n",
      "Epoch 35/50\n",
      "41/41 [==============================] - 7s 175ms/step - loss: 0.0017\n",
      "Epoch 36/50\n",
      "41/41 [==============================] - 7s 166ms/step - loss: 0.0012\n",
      "Epoch 37/50\n",
      "41/41 [==============================] - 7s 168ms/step - loss: 0.0023\n",
      "Epoch 38/50\n",
      "41/41 [==============================] - 7s 171ms/step - loss: 0.0018\n",
      "Epoch 39/50\n",
      "41/41 [==============================] - 7s 170ms/step - loss: 0.0404\n",
      "Epoch 40/50\n",
      "41/41 [==============================] - 7s 169ms/step - loss: 0.0127\n",
      "Epoch 41/50\n",
      "41/41 [==============================] - 7s 169ms/step - loss: 0.0052\n",
      "Epoch 42/50\n",
      "41/41 [==============================] - 7s 169ms/step - loss: 0.0062\n",
      "Epoch 43/50\n",
      "41/41 [==============================] - 7s 168ms/step - loss: 0.0074\n",
      "Epoch 44/50\n",
      "41/41 [==============================] - 7s 171ms/step - loss: 0.0044\n",
      "Epoch 45/50\n",
      "41/41 [==============================] - 7s 171ms/step - loss: 0.0018\n",
      "Epoch 46/50\n",
      "41/41 [==============================] - 7s 171ms/step - loss: 0.0017\n",
      "Epoch 47/50\n",
      "41/41 [==============================] - 7s 171ms/step - loss: 0.0016\n",
      "Epoch 48/50\n",
      "41/41 [==============================] - 7s 172ms/step - loss: 7.8238e-04\n",
      "Epoch 49/50\n",
      "41/41 [==============================] - 7s 171ms/step - loss: 0.0018\n",
      "Epoch 50/50\n",
      "41/41 [==============================] - 7s 170ms/step - loss: 0.0015\n"
     ]
    },
    {
     "data": {
      "text/plain": [
       "<tensorflow.python.keras.callbacks.History at 0x7f9d42e5b670>"
      ]
     },
     "execution_count": 28,
     "metadata": {},
     "output_type": "execute_result"
    }
   ],
   "source": [
    "model.fit(X_train[indices_train], y_train, epochs = epochs,\n",
    "          batch_size = batch_size,\n",
    "          verbose = 1)"
   ]
  },
  {
   "cell_type": "code",
   "execution_count": 29,
   "metadata": {
    "scrolled": true
   },
   "outputs": [
    {
     "data": {
      "text/plain": [
       "'f.set_size_inches(10, 10)\\n\\nfor item in ([ax.title, ax.xaxis.label, ax.yaxis.label] +\\n             ax.get_xticklabels() + ax.get_yticklabels()):\\n    item.set_fontsize(15)'"
      ]
     },
     "execution_count": 29,
     "metadata": {},
     "output_type": "execute_result"
    },
    {
     "data": {
      "image/png": "[encoded data removed]",
      "text/plain": [
       "<Figure size 216x216 with 2 Axes>"
      ]
     },
     "metadata": {
      "needs_background": "light"
     },
     "output_type": "display_data"
    }
   ],
   "source": [
    "classes = le.classes_\n",
    "\n",
    "result = model.predict(X_test[indices_test])\n",
    "y_pred = np.argmax(result, axis = 1)\n",
    "y_true = np.argmax(y_test, axis = 1)\n",
    "\n",
    "f, ax = utility.plot_cm(y_true, y_pred, module_path = module_path, class_names = classes, color_index = 3)\n",
    "\n",
    "f.savefig(figure_path + f'TSC/cm_uit_CNN_5s.pdf', bbox_inches='tight')\n",
    "\n",
    "\n",
    "'''f.set_size_inches(10, 10)\n",
    "\n",
    "for item in ([ax.title, ax.xaxis.label, ax.yaxis.label] +\n",
    "             ax.get_xticklabels() + ax.get_yticklabels()):\n",
    "    item.set_fontsize(15)'''"
   ]
  },
  {
   "cell_type": "code",
   "execution_count": 141,
   "metadata": {
    "scrolled": true
   },
   "outputs": [
    {
     "ename": "NameError",
     "evalue": "name 'filters' is not defined",
     "output_type": "error",
     "traceback": [
      "\u001b[0;31m---------------------------------------------------------------------------\u001b[0m",
      "\u001b[0;31mNameError\u001b[0m                                 Traceback (most recent call last)",
      "\u001b[0;32m<ipython-input-141-22348d098a67>\u001b[0m in \u001b[0;36m<module>\u001b[0;34m\u001b[0m\n\u001b[1;32m      3\u001b[0m     \u001b[0;32mif\u001b[0m \u001b[0;34m'conv'\u001b[0m \u001b[0;32min\u001b[0m \u001b[0mlayer\u001b[0m\u001b[0;34m.\u001b[0m\u001b[0mname\u001b[0m\u001b[0;34m:\u001b[0m\u001b[0;34m\u001b[0m\u001b[0;34m\u001b[0m\u001b[0m\n\u001b[1;32m      4\u001b[0m         \u001b[0mweights\u001b[0m\u001b[0;34m,\u001b[0m \u001b[0mbias\u001b[0m\u001b[0;34m=\u001b[0m \u001b[0mlayer\u001b[0m\u001b[0;34m.\u001b[0m\u001b[0mget_weights\u001b[0m\u001b[0;34m(\u001b[0m\u001b[0;34m)\u001b[0m\u001b[0;34m\u001b[0m\u001b[0;34m\u001b[0m\u001b[0m\n\u001b[0;32m----> 5\u001b[0;31m         \u001b[0mprint\u001b[0m\u001b[0;34m(\u001b[0m\u001b[0mlayer\u001b[0m\u001b[0;34m.\u001b[0m\u001b[0mname\u001b[0m\u001b[0;34m,\u001b[0m \u001b[0mfilters\u001b[0m\u001b[0;34m.\u001b[0m\u001b[0mshape\u001b[0m\u001b[0;34m)\u001b[0m\u001b[0;34m\u001b[0m\u001b[0;34m\u001b[0m\u001b[0m\n\u001b[0m\u001b[1;32m      6\u001b[0m \u001b[0;34m\u001b[0m\u001b[0m\n\u001b[1;32m      7\u001b[0m         \u001b[0;31m#normalize filter values between  0 and 1 for visualization\u001b[0m\u001b[0;34m\u001b[0m\u001b[0;34m\u001b[0m\u001b[0;34m\u001b[0m\u001b[0m\n",
      "\u001b[0;31mNameError\u001b[0m: name 'filters' is not defined"
     ]
    }
   ],
   "source": [
    "#Iterate thru all the layers of the model\n",
    "for layer in model.layers:\n",
    "    if 'conv' in layer.name:\n",
    "        weights, bias= layer.get_weights()\n",
    "        print(layer.name, filters.shape)\n",
    "        \n",
    "        #normalize filter values between  0 and 1 for visualization\n",
    "        f_min, f_max = weights.min(), weights.max()\n",
    "        filters = (weights - f_min) / (f_max - f_min)  \n",
    "        print(filters.shape[3])\n",
    "        filter_cnt=1\n",
    "        \n",
    "        #plotting all the filters\n",
    "        for i in range(filters.shape[3]):\n",
    "            #get the filters\n",
    "            filt=filters[:,:,:, i]\n",
    "            #plotting each of the channel, color image RGB channels\n",
    "            for j in range(filters.shape[0]):\n",
    "                ax= plt.subplot(filters.shape[3], filters.shape[0], filter_cnt  )\n",
    "                ax.set_xticks([])\n",
    "                ax.set_yticks([])\n",
    "                plt.imshow(filt[:,:, j])\n",
    "                filter_cnt+=1\n",
    "        plt.show()"
   ]
  },
  {
   "cell_type": "code",
   "execution_count": 47,
   "metadata": {},
   "outputs": [
    {
     "data": {
      "text/plain": [
       "array([[0.],\n",
       "       [0.],\n",
       "       [0.],\n",
       "       ...,\n",
       "       [0.],\n",
       "       [0.],\n",
       "       [0.]])"
      ]
     },
     "execution_count": 47,
     "metadata": {},
     "output_type": "execute_result"
    }
   ],
   "source": [
    "X_test[0, :, :]"
   ]
  },
  {
   "cell_type": "code",
   "execution_count": 50,
   "metadata": {
    "scrolled": true
   },
   "outputs": [
    {
     "ename": "RuntimeError",
     "evalue": "tf.gradients is not supported when eager execution is enabled. Use tf.GradientTape instead.",
     "output_type": "error",
     "traceback": [
      "\u001b[0;31m---------------------------------------------------------------------------\u001b[0m",
      "\u001b[0;31mRuntimeError\u001b[0m                              Traceback (most recent call last)",
      "\u001b[0;32m<ipython-input-50-53b62a78e765>\u001b[0m in \u001b[0;36m<module>\u001b[0;34m\u001b[0m\n\u001b[1;32m      4\u001b[0m \u001b[0;34m\u001b[0m\u001b[0m\n\u001b[1;32m      5\u001b[0m     \u001b[0;31m# 20 is the imagenet index corresponding to `ouzel`\u001b[0m\u001b[0;34m\u001b[0m\u001b[0;34m\u001b[0m\u001b[0;34m\u001b[0m\u001b[0m\n\u001b[0;32m----> 6\u001b[0;31m \u001b[0mgrads\u001b[0m \u001b[0;34m=\u001b[0m \u001b[0mvisualize_saliency\u001b[0m\u001b[0;34m(\u001b[0m\u001b[0mmodel\u001b[0m\u001b[0;34m,\u001b[0m \u001b[0;36m0\u001b[0m\u001b[0;34m,\u001b[0m \u001b[0mfilter_indices\u001b[0m\u001b[0;34m=\u001b[0m\u001b[0;36m5\u001b[0m\u001b[0;34m,\u001b[0m \u001b[0mseed_input\u001b[0m\u001b[0;34m=\u001b[0m\u001b[0mX_test\u001b[0m\u001b[0;34m[\u001b[0m\u001b[0;36m0\u001b[0m\u001b[0;34m,\u001b[0m \u001b[0;34m:\u001b[0m\u001b[0;34m,\u001b[0m \u001b[0;34m:\u001b[0m\u001b[0;34m]\u001b[0m\u001b[0;34m)\u001b[0m\u001b[0;34m\u001b[0m\u001b[0;34m\u001b[0m\u001b[0m\n\u001b[0m\u001b[1;32m      7\u001b[0m \u001b[0;34m\u001b[0m\u001b[0m\n\u001b[1;32m      8\u001b[0m     \u001b[0;31m# visualize grads as heatmap\u001b[0m\u001b[0;34m\u001b[0m\u001b[0;34m\u001b[0m\u001b[0;34m\u001b[0m\u001b[0m\n",
      "\u001b[0;32m~/anaconda3/lib/python3.8/site-packages/vis/visualization/saliency.py\u001b[0m in \u001b[0;36mvisualize_saliency\u001b[0;34m(model, layer_idx, filter_indices, seed_input, backprop_modifier, grad_modifier)\u001b[0m\n\u001b[1;32m    123\u001b[0m         \u001b[0;34m(\u001b[0m\u001b[0mActivationMaximization\u001b[0m\u001b[0;34m(\u001b[0m\u001b[0mmodel\u001b[0m\u001b[0;34m.\u001b[0m\u001b[0mlayers\u001b[0m\u001b[0;34m[\u001b[0m\u001b[0mlayer_idx\u001b[0m\u001b[0;34m]\u001b[0m\u001b[0;34m,\u001b[0m \u001b[0mfilter_indices\u001b[0m\u001b[0;34m)\u001b[0m\u001b[0;34m,\u001b[0m \u001b[0;34m-\u001b[0m\u001b[0;36m1\u001b[0m\u001b[0;34m)\u001b[0m\u001b[0;34m\u001b[0m\u001b[0;34m\u001b[0m\u001b[0m\n\u001b[1;32m    124\u001b[0m     ]\n\u001b[0;32m--> 125\u001b[0;31m     \u001b[0;32mreturn\u001b[0m \u001b[0mvisualize_saliency_with_losses\u001b[0m\u001b[0;34m(\u001b[0m\u001b[0mmodel\u001b[0m\u001b[0;34m.\u001b[0m\u001b[0minput\u001b[0m\u001b[0;34m,\u001b[0m \u001b[0mlosses\u001b[0m\u001b[0;34m,\u001b[0m \u001b[0mseed_input\u001b[0m\u001b[0;34m,\u001b[0m \u001b[0mgrad_modifier\u001b[0m\u001b[0;34m)\u001b[0m\u001b[0;34m\u001b[0m\u001b[0;34m\u001b[0m\u001b[0m\n\u001b[0m\u001b[1;32m    126\u001b[0m \u001b[0;34m\u001b[0m\u001b[0m\n\u001b[1;32m    127\u001b[0m \u001b[0;34m\u001b[0m\u001b[0m\n",
      "\u001b[0;32m~/anaconda3/lib/python3.8/site-packages/vis/visualization/saliency.py\u001b[0m in \u001b[0;36mvisualize_saliency_with_losses\u001b[0;34m(input_tensor, losses, seed_input, grad_modifier)\u001b[0m\n\u001b[1;32m     70\u001b[0m         \u001b[0mweighted\u001b[0m\u001b[0;31m \u001b[0m\u001b[0;31m`\u001b[0m\u001b[0mlosses\u001b[0m\u001b[0;31m`\u001b[0m\u001b[0;34m.\u001b[0m\u001b[0;34m\u001b[0m\u001b[0;34m\u001b[0m\u001b[0m\n\u001b[1;32m     71\u001b[0m     \"\"\"\n\u001b[0;32m---> 72\u001b[0;31m     \u001b[0mopt\u001b[0m \u001b[0;34m=\u001b[0m \u001b[0mOptimizer\u001b[0m\u001b[0;34m(\u001b[0m\u001b[0minput_tensor\u001b[0m\u001b[0;34m,\u001b[0m \u001b[0mlosses\u001b[0m\u001b[0;34m,\u001b[0m \u001b[0mnorm_grads\u001b[0m\u001b[0;34m=\u001b[0m\u001b[0;32mFalse\u001b[0m\u001b[0;34m)\u001b[0m\u001b[0;34m\u001b[0m\u001b[0;34m\u001b[0m\u001b[0m\n\u001b[0m\u001b[1;32m     73\u001b[0m     \u001b[0mgrads\u001b[0m \u001b[0;34m=\u001b[0m \u001b[0mopt\u001b[0m\u001b[0;34m.\u001b[0m\u001b[0mminimize\u001b[0m\u001b[0;34m(\u001b[0m\u001b[0mseed_input\u001b[0m\u001b[0;34m=\u001b[0m\u001b[0mseed_input\u001b[0m\u001b[0;34m,\u001b[0m \u001b[0mmax_iter\u001b[0m\u001b[0;34m=\u001b[0m\u001b[0;36m1\u001b[0m\u001b[0;34m,\u001b[0m \u001b[0mgrad_modifier\u001b[0m\u001b[0;34m=\u001b[0m\u001b[0mgrad_modifier\u001b[0m\u001b[0;34m,\u001b[0m \u001b[0mverbose\u001b[0m\u001b[0;34m=\u001b[0m\u001b[0;32mFalse\u001b[0m\u001b[0;34m)\u001b[0m\u001b[0;34m[\u001b[0m\u001b[0;36m1\u001b[0m\u001b[0;34m]\u001b[0m\u001b[0;34m\u001b[0m\u001b[0;34m\u001b[0m\u001b[0m\n\u001b[1;32m     74\u001b[0m \u001b[0;34m\u001b[0m\u001b[0m\n",
      "\u001b[0;32m~/anaconda3/lib/python3.8/site-packages/vis/optimizer.py\u001b[0m in \u001b[0;36m__init__\u001b[0;34m(self, input_tensor, losses, input_range, wrt_tensor, norm_grads)\u001b[0m\n\u001b[1;32m     50\u001b[0m \u001b[0;34m\u001b[0m\u001b[0m\n\u001b[1;32m     51\u001b[0m         \u001b[0;31m# Compute gradient of overall with respect to `wrt` tensor.\u001b[0m\u001b[0;34m\u001b[0m\u001b[0;34m\u001b[0m\u001b[0;34m\u001b[0m\u001b[0m\n\u001b[0;32m---> 52\u001b[0;31m         \u001b[0mgrads\u001b[0m \u001b[0;34m=\u001b[0m \u001b[0mK\u001b[0m\u001b[0;34m.\u001b[0m\u001b[0mgradients\u001b[0m\u001b[0;34m(\u001b[0m\u001b[0moverall_loss\u001b[0m\u001b[0;34m,\u001b[0m \u001b[0mself\u001b[0m\u001b[0;34m.\u001b[0m\u001b[0mwrt_tensor\u001b[0m\u001b[0;34m)\u001b[0m\u001b[0;34m[\u001b[0m\u001b[0;36m0\u001b[0m\u001b[0;34m]\u001b[0m\u001b[0;34m\u001b[0m\u001b[0;34m\u001b[0m\u001b[0m\n\u001b[0m\u001b[1;32m     53\u001b[0m         \u001b[0;32mif\u001b[0m \u001b[0mnorm_grads\u001b[0m\u001b[0;34m:\u001b[0m\u001b[0;34m\u001b[0m\u001b[0;34m\u001b[0m\u001b[0m\n\u001b[1;32m     54\u001b[0m             \u001b[0mgrads\u001b[0m \u001b[0;34m=\u001b[0m \u001b[0mgrads\u001b[0m \u001b[0;34m/\u001b[0m \u001b[0;34m(\u001b[0m\u001b[0mK\u001b[0m\u001b[0;34m.\u001b[0m\u001b[0msqrt\u001b[0m\u001b[0;34m(\u001b[0m\u001b[0mK\u001b[0m\u001b[0;34m.\u001b[0m\u001b[0mmean\u001b[0m\u001b[0;34m(\u001b[0m\u001b[0mK\u001b[0m\u001b[0;34m.\u001b[0m\u001b[0msquare\u001b[0m\u001b[0;34m(\u001b[0m\u001b[0mgrads\u001b[0m\u001b[0;34m)\u001b[0m\u001b[0;34m)\u001b[0m\u001b[0;34m)\u001b[0m \u001b[0;34m+\u001b[0m \u001b[0mK\u001b[0m\u001b[0;34m.\u001b[0m\u001b[0mepsilon\u001b[0m\u001b[0;34m(\u001b[0m\u001b[0;34m)\u001b[0m\u001b[0;34m)\u001b[0m\u001b[0;34m\u001b[0m\u001b[0;34m\u001b[0m\u001b[0m\n",
      "\u001b[0;32m~/anaconda3/lib/python3.8/site-packages/tensorflow/python/keras/backend.py\u001b[0m in \u001b[0;36mgradients\u001b[0;34m(loss, variables)\u001b[0m\n\u001b[1;32m   4100\u001b[0m       \u001b[0mA\u001b[0m \u001b[0mgradients\u001b[0m \u001b[0mtensor\u001b[0m\u001b[0;34m.\u001b[0m\u001b[0;34m\u001b[0m\u001b[0;34m\u001b[0m\u001b[0m\n\u001b[1;32m   4101\u001b[0m   \"\"\"\n\u001b[0;32m-> 4102\u001b[0;31m   return gradients_module.gradients(\n\u001b[0m\u001b[1;32m   4103\u001b[0m       loss, variables, colocate_gradients_with_ops=True)\n\u001b[1;32m   4104\u001b[0m \u001b[0;34m\u001b[0m\u001b[0m\n",
      "\u001b[0;32m~/anaconda3/lib/python3.8/site-packages/tensorflow/python/ops/gradients_impl.py\u001b[0m in \u001b[0;36mgradients\u001b[0;34m(ys, xs, grad_ys, name, colocate_gradients_with_ops, gate_gradients, aggregation_method, stop_gradients, unconnected_gradients)\u001b[0m\n\u001b[1;32m    167\u001b[0m   \u001b[0;31m# pylint: disable=protected-access\u001b[0m\u001b[0;34m\u001b[0m\u001b[0;34m\u001b[0m\u001b[0;34m\u001b[0m\u001b[0m\n\u001b[1;32m    168\u001b[0m   \u001b[0;32mwith\u001b[0m \u001b[0mops\u001b[0m\u001b[0;34m.\u001b[0m\u001b[0mget_default_graph\u001b[0m\u001b[0;34m(\u001b[0m\u001b[0;34m)\u001b[0m\u001b[0;34m.\u001b[0m\u001b[0m_mutation_lock\u001b[0m\u001b[0;34m(\u001b[0m\u001b[0;34m)\u001b[0m\u001b[0;34m:\u001b[0m\u001b[0;34m\u001b[0m\u001b[0;34m\u001b[0m\u001b[0m\n\u001b[0;32m--> 169\u001b[0;31m     return gradients_util._GradientsHelper(\n\u001b[0m\u001b[1;32m    170\u001b[0m         \u001b[0mys\u001b[0m\u001b[0;34m,\u001b[0m \u001b[0mxs\u001b[0m\u001b[0;34m,\u001b[0m \u001b[0mgrad_ys\u001b[0m\u001b[0;34m,\u001b[0m \u001b[0mname\u001b[0m\u001b[0;34m,\u001b[0m \u001b[0mcolocate_gradients_with_ops\u001b[0m\u001b[0;34m,\u001b[0m\u001b[0;34m\u001b[0m\u001b[0;34m\u001b[0m\u001b[0m\n\u001b[1;32m    171\u001b[0m         \u001b[0mgate_gradients\u001b[0m\u001b[0;34m,\u001b[0m \u001b[0maggregation_method\u001b[0m\u001b[0;34m,\u001b[0m \u001b[0mstop_gradients\u001b[0m\u001b[0;34m,\u001b[0m\u001b[0;34m\u001b[0m\u001b[0;34m\u001b[0m\u001b[0m\n",
      "\u001b[0;32m~/anaconda3/lib/python3.8/site-packages/tensorflow/python/ops/gradients_util.py\u001b[0m in \u001b[0;36m_GradientsHelper\u001b[0;34m(ys, xs, grad_ys, name, colocate_gradients_with_ops, gate_gradients, aggregation_method, stop_gradients, unconnected_gradients, src_graph)\u001b[0m\n\u001b[1;32m    490\u001b[0m   \u001b[0;34m\"\"\"Implementation of gradients().\"\"\"\u001b[0m\u001b[0;34m\u001b[0m\u001b[0;34m\u001b[0m\u001b[0m\n\u001b[1;32m    491\u001b[0m   \u001b[0;32mif\u001b[0m \u001b[0mcontext\u001b[0m\u001b[0;34m.\u001b[0m\u001b[0mexecuting_eagerly\u001b[0m\u001b[0;34m(\u001b[0m\u001b[0;34m)\u001b[0m\u001b[0;34m:\u001b[0m\u001b[0;34m\u001b[0m\u001b[0;34m\u001b[0m\u001b[0m\n\u001b[0;32m--> 492\u001b[0;31m     raise RuntimeError(\"tf.gradients is not supported when eager execution \"\n\u001b[0m\u001b[1;32m    493\u001b[0m                        \"is enabled. Use tf.GradientTape instead.\")\n\u001b[1;32m    494\u001b[0m   \u001b[0;32mif\u001b[0m \u001b[0msrc_graph\u001b[0m \u001b[0;32mis\u001b[0m \u001b[0;32mNone\u001b[0m\u001b[0;34m:\u001b[0m\u001b[0;34m\u001b[0m\u001b[0;34m\u001b[0m\u001b[0m\n",
      "\u001b[0;31mRuntimeError\u001b[0m: tf.gradients is not supported when eager execution is enabled. Use tf.GradientTape instead."
     ]
    },
    {
     "data": {
      "image/png": "[encoded data removed]",
      "text/plain": [
       "<Figure size 432x288 with 2 Axes>"
      ]
     },
     "metadata": {
      "needs_background": "light"
     },
     "output_type": "display_data"
    }
   ],
   "source": [
    "from vis.visualization import visualize_saliency, overlay\n",
    "\n",
    "f, ax = plt.subplots(1, 2)\n",
    "  \n",
    "    # 20 is the imagenet index corresponding to `ouzel`\n",
    "grads = visualize_saliency(model, 0, filter_indices=5, seed_input=X_test[0, :, :])\n",
    "    \n",
    "    # visualize grads as heatmap\n",
    "ax.imshow(grads, cmap='jet')"
   ]
  }
 ],
 "metadata": {
  "kernelspec": {
   "display_name": "Python 3",
   "language": "python",
   "name": "python3"
  },
  "language_info": {
   "codemirror_mode": {
    "name": "ipython",
    "version": 3
   },
   "file_extension": ".py",
   "mimetype": "text/x-python",
   "name": "python",
   "nbconvert_exporter": "python",
   "pygments_lexer": "ipython3",
   "version": "3.8.5"
  }
 },
 "nbformat": 4,
 "nbformat_minor": 5
}
