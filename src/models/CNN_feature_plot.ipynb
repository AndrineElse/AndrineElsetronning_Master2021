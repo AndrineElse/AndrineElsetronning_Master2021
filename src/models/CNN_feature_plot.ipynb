{
 "cells": [
  {
   "cell_type": "markdown",
   "metadata": {},
   "source": [
    "https://medium.com/@Rehan_Sayyad/how-to-use-convolutional-neural-networks-for-time-series-classification-80575131a474\n",
    "\n",
    "https://machinelearningmastery.com/cnn-models-for-human-activity-recognition-time-series-classification/"
   ]
  },
  {
   "cell_type": "code",
   "execution_count": 2,
   "metadata": {},
   "outputs": [],
   "source": [
    "import sys\n",
    "import os\n",
    "import pandas as pd\n",
    "import numpy as np\n",
    "\n",
    "module_path = os.path.abspath(os.path.join('../..'))\n",
    "\n",
    "sys.path.insert(1, module_path + '/src')\n",
    "import audio_time_series_classification as preproject\n",
    "import utility\n",
    "\n",
    "sys.path.insert(1, module_path + '/src/models/')\n",
    "import helper\n",
    "\n",
    "from sktime.utils.data_io import load_from_tsfile_to_dataframe\n",
    "from sktime.utils.data_processing import from_nested_to_2d_array\n",
    "import matplotlib.pyplot as plt\n",
    "from sklearn import preprocessing\n",
    "\n",
    "from keras.utils import np_utils\n",
    "import keras\n",
    "from keras.models import Model\n",
    "from keras.models import Sequential\n",
    "from keras.layers import Conv1D, ZeroPadding1D, MaxPooling1D, BatchNormalization, Activation, Dropout, Flatten, Dense\n",
    "\n",
    "\n",
    "figure_path = module_path + '/figures/'"
   ]
  },
  {
   "cell_type": "code",
   "execution_count": 5,
   "metadata": {},
   "outputs": [],
   "source": [
    "X_train, y_train_ = load_from_tsfile_to_dataframe(module_path + f'/data/ts_files/UiT_15s_TRAIN.ts')\n",
    "X_test, y_test_ = load_from_tsfile_to_dataframe(module_path + f'/data/ts_files/UiT_15s_TEST.ts')\n",
    "\n",
    "X_train, X_test = from_nested_to_2d_array(X_train), from_nested_to_2d_array(X_test)\n",
    "\n",
    "cols = np.arange(len(X_test.columns))\n",
    "X_train.columns, X_test.columns = cols, cols\n",
    "\n",
    "y_train_, y_test_, = pd.Series(y_train_), pd.Series(y_test_)\n",
    "X_train = X_train.to_numpy()\n",
    "X_test = X_test.to_numpy()\n",
    "\n",
    "\n",
    "X_train = X_train.reshape(X_train.shape[0],X_train.shape[1], 1)\n",
    "X_test = X_test.reshape(X_test.shape[0],X_test.shape[1], 1)"
   ]
  },
  {
   "cell_type": "markdown",
   "metadata": {},
   "source": [
    "## Keeping the original classes"
   ]
  },
  {
   "cell_type": "code",
   "execution_count": 197,
   "metadata": {},
   "outputs": [],
   "source": [
    "indices_1 = np.where(y_train_ == 'normal')[0]\n",
    "indices_2 = np.where(y_train_ == 'exp_wheeze')[0]\n",
    "indices_3 = np.where(y_train_ == 'insp_crackle')[0]\n",
    "indices_4 = np.where(y_train_ == 'insp_wheeze')[0]\n",
    "indices_5 = np.where(y_train_ == 'exp_crackle')[0]\n",
    "#indices_train = np.concatenate((indices_1[0:25], indices_2[:25], indices_3[:25], indices_4, indices_5))\n",
    "indices_train = np.concatenate((indices_2[:25], indices_3[:25], indices_4, indices_5))\n",
    "\n",
    "indices_1 = np.where(y_test_ == 'normal')[0]\n",
    "indices_2 = np.where(y_test_ == 'exp_wheeze')[0]\n",
    "indices_3 = np.where(y_test_ == 'insp_crackle')[0]\n",
    "indices_4 = np.where(y_test_ == 'insp_wheeze')[0]\n",
    "indices_5 = np.where(y_test_ == 'exp_crackle')[0]\n",
    "#indices_test = np.concatenate((indices_1, indices_2, indices_3, indices_4, indices_5))\n",
    "indices_test = np.concatenate((indices_2, indices_3, indices_4, indices_5))"
   ]
  },
  {
   "cell_type": "code",
   "execution_count": 198,
   "metadata": {},
   "outputs": [],
   "source": [
    "le = preprocessing.LabelEncoder()\n",
    "\n",
    "le.fit(y_train_[indices_train])\n",
    "num_classes = len(le.classes_)\n",
    "y_train = le.transform(y_train_[indices_train])\n",
    "y_test = le.transform(y_test_[indices_test])\n",
    "\n",
    "y_train = np_utils.to_categorical(y_train, num_classes = num_classes)\n",
    "y_test = np_utils.to_categorical(y_test, num_classes = num_classes)"
   ]
  },
  {
   "cell_type": "markdown",
   "metadata": {},
   "source": [
    "## Creating subclasses "
   ]
  },
  {
   "cell_type": "code",
   "execution_count": 7,
   "metadata": {},
   "outputs": [],
   "source": [
    "y_train_new = y_train_.copy(deep = True)\n",
    "\n",
    "y_train_new[y_train_new == 'exp_wheeze'] = 'wheeze'\n",
    "y_train_new[y_train_new == 'insp_wheeze'] = 'wheeze'\n",
    "y_train_new[y_train_new == 'exp_crackle'] = 'crackle'\n",
    "y_train_new[y_train_new == 'insp_crackle'] = 'crackle'\n",
    "\n",
    "y_test_new = y_test_.copy(deep = True)\n",
    "\n",
    "y_test_new[y_test_new == 'exp_wheeze'] = 'wheeze'\n",
    "y_test_new[y_test_new == 'insp_wheeze'] = 'wheeze'\n",
    "y_test_new[y_test_new == 'exp_crackle'] = 'crackle'\n",
    "y_test_new[y_test_new == 'insp_crackle'] = 'crackle'"
   ]
  },
  {
   "cell_type": "code",
   "execution_count": 10,
   "metadata": {},
   "outputs": [],
   "source": [
    "indices_1 = np.where(y_train_new == 'normal')[0]\n",
    "indices_2 = np.where(y_train_new == 'wheeze')[0]\n",
    "indices_3 = np.where(y_train_new == 'crackle')[0]\n",
    "#indices_train = np.concatenate((indices_2, indices_3))\n",
    "indices_train = np.concatenate((indices_1[:250], indices_2, indices_3))\n",
    "\n",
    "indices_1 = np.where(y_test_new == 'normal')[0]\n",
    "indices_2 = np.where(y_test_new == 'wheeze')[0]\n",
    "indices_3 = np.where(y_test_new == 'crackle')[0]\n",
    "#indices_test = np.concatenate((indices_2, indices_3))\n",
    "indices_test = np.concatenate((indices_1, indices_2, indices_3))"
   ]
  },
  {
   "cell_type": "code",
   "execution_count": 11,
   "metadata": {},
   "outputs": [],
   "source": [
    "le = preprocessing.LabelEncoder()\n",
    "\n",
    "le.fit(y_train_new[indices_train])\n",
    "num_classes = len(le.classes_)\n",
    "y_train = le.transform(y_train_new[indices_train])\n",
    "y_test = le.transform(y_test_new[indices_test])\n",
    "\n",
    "y_train = np_utils.to_categorical(y_train, num_classes = num_classes)\n",
    "y_test = np_utils.to_categorical(y_test, num_classes = num_classes)"
   ]
  },
  {
   "cell_type": "markdown",
   "metadata": {},
   "source": [
    "# Models"
   ]
  },
  {
   "cell_type": "code",
   "execution_count": null,
   "metadata": {},
   "outputs": [],
   "source": [
    "model = Sequential()\n",
    "intput_shape=(x_train.shape[1], 1)\n",
    "model.add(Conv1D(128, kernel_size=3,padding = 'same',activation= 'relu', input_shape=input_shape))\n",
    "model.add(BatchNormalization())\n",
    "model.add(MaxPooling1D(pool_size=(2)))\n",
    "model.add(Conv1D(128,kernel_size=3,padding = ‘same’, activation=’relu’))\n",
    "model.add(BatchNormalization())\n",
    "model.add(MaxPooling1D(pool_size=(2)))\n",
    "model.add(Flatten())\n",
    "model.add(Dense(64, activation=’tanh’))\n",
    "model.add(Dropout(0.2))\n",
    "model.add(Dense(32, activation=’tanh’))\n",
    "model.add(Dropout(0.2))\n",
    "model.add(Dense(16, activation=’relu’))\n",
    "model.add(Dropout(0.2))\n",
    "model.add(Dense(num_classes, activation=’softmax’))\n",
    "model.summary()"
   ]
  },
  {
   "cell_type": "code",
   "execution_count": null,
   "metadata": {},
   "outputs": [],
   "source": [
    "model = Sequential()\n",
    "model.add(Conv1D(filters=64, kernel_size=20, activation='relu', input_shape=(n_timesteps,1)))\n",
    "model.add(Conv1D(filters=64, kernel_size=3, activation='relu'))\n",
    "model.add(Dropout(0.5))\n",
    "model.add(MaxPooling1D(pool_size=2))\n",
    "model.add(Flatten())\n",
    "model.add(Dense(100, activation='relu'))\n",
    "model.add(Dense(n_outputs, activation='softmax'))\n",
    "model.compile(loss='categorical_crossentropy', optimizer='adam', metrics=['accuracy'])"
   ]
  },
  {
   "cell_type": "markdown",
   "metadata": {},
   "source": [
    "# Comments\n",
    "\n",
    "* Adding batch normalization makes so that only one class is guessed always"
   ]
  },
  {
   "cell_type": "code",
   "execution_count": 12,
   "metadata": {},
   "outputs": [],
   "source": [
    "batch_size = 100\n",
    "epochs = 50\n",
    "input_shape=(X_train.shape[1], 1)"
   ]
  },
  {
   "cell_type": "code",
   "execution_count": 13,
   "metadata": {},
   "outputs": [],
   "source": [
    "model = Sequential()\n",
    "\n",
    "model.add(Conv1D(filters=10, kernel_size=3, activation='relu', input_shape=input_shape))\n",
    "#model.add(BatchNormalization()) \n",
    "model.add(MaxPooling1D(pool_size=20))\n",
    "model.add(Flatten())\n",
    "model.add(Dense(1500, activation='relu'))\n",
    "#model.add(Dropout(0.2))\n",
    "#model.add(Dense(500, activation='relu'))\n",
    "#model.add(Dropout(0.2))\n",
    "model.add(Dense(num_classes, activation='softmax'))\n",
    "model.compile(optimizer='adam', loss='mse')"
   ]
  },
  {
   "cell_type": "code",
   "execution_count": 14,
   "metadata": {
    "scrolled": true
   },
   "outputs": [
    {
     "name": "stdout",
     "output_type": "stream",
     "text": [
      "Model: \"sequential\"\n",
      "_________________________________________________________________\n",
      "Layer (type)                 Output Shape              Param #   \n",
      "=================================================================\n",
      "conv1d (Conv1D)              (None, 59998, 10)         40        \n",
      "_________________________________________________________________\n",
      "max_pooling1d (MaxPooling1D) (None, 2999, 10)          0         \n",
      "_________________________________________________________________\n",
      "flatten (Flatten)            (None, 29990)             0         \n",
      "_________________________________________________________________\n",
      "dense (Dense)                (None, 1500)              44986500  \n",
      "_________________________________________________________________\n",
      "dense_1 (Dense)              (None, 3)                 4503      \n",
      "=================================================================\n",
      "Total params: 44,991,043\n",
      "Trainable params: 44,991,043\n",
      "Non-trainable params: 0\n",
      "_________________________________________________________________\n"
     ]
    }
   ],
   "source": [
    "model.summary()"
   ]
  },
  {
   "cell_type": "code",
   "execution_count": 15,
   "metadata": {},
   "outputs": [
    {
     "data": {
      "text/plain": [
       "(747, 60000, 1)"
      ]
     },
     "execution_count": 15,
     "metadata": {},
     "output_type": "execute_result"
    }
   ],
   "source": [
    "X_train[indices_train].shape"
   ]
  },
  {
   "cell_type": "code",
   "execution_count": 17,
   "metadata": {},
   "outputs": [
    {
     "name": "stdout",
     "output_type": "stream",
     "text": [
      "Epoch 1/50\n",
      "8/8 [==============================] - 4s 486ms/step - loss: 0.2271\n",
      "Epoch 2/50\n",
      "8/8 [==============================] - 4s 476ms/step - loss: 0.2108\n",
      "Epoch 3/50\n",
      "8/8 [==============================] - 4s 474ms/step - loss: 0.1960\n",
      "Epoch 4/50\n",
      "8/8 [==============================] - 4s 486ms/step - loss: 0.1697\n",
      "Epoch 5/50\n",
      "8/8 [==============================] - 4s 479ms/step - loss: 0.1472\n",
      "Epoch 6/50\n",
      "8/8 [==============================] - 4s 480ms/step - loss: 0.1245\n",
      "Epoch 7/50\n",
      "8/8 [==============================] - 4s 480ms/step - loss: 0.1001\n",
      "Epoch 8/50\n",
      "8/8 [==============================] - 4s 482ms/step - loss: 0.0660\n",
      "Epoch 9/50\n",
      "8/8 [==============================] - 4s 491ms/step - loss: 0.0485\n",
      "Epoch 10/50\n",
      "8/8 [==============================] - 4s 489ms/step - loss: 0.0321\n",
      "Epoch 11/50\n",
      "8/8 [==============================] - 4s 518ms/step - loss: 0.0239\n",
      "Epoch 12/50\n",
      "8/8 [==============================] - 4s 502ms/step - loss: 0.0146\n",
      "Epoch 13/50\n",
      "8/8 [==============================] - 4s 484ms/step - loss: 0.0100\n",
      "Epoch 14/50\n",
      "8/8 [==============================] - 4s 506ms/step - loss: 0.0069\n",
      "Epoch 15/50\n",
      "8/8 [==============================] - 4s 499ms/step - loss: 0.0047\n",
      "Epoch 16/50\n",
      "8/8 [==============================] - 4s 510ms/step - loss: 0.0030\n",
      "Epoch 17/50\n",
      "8/8 [==============================] - 4s 488ms/step - loss: 0.0023\n",
      "Epoch 18/50\n",
      "8/8 [==============================] - 4s 489ms/step - loss: 0.0027\n",
      "Epoch 19/50\n",
      "8/8 [==============================] - 4s 518ms/step - loss: 0.0016\n",
      "Epoch 20/50\n",
      "8/8 [==============================] - 4s 548ms/step - loss: 0.0014\n",
      "Epoch 21/50\n",
      "8/8 [==============================] - 4s 493ms/step - loss: 0.0011\n",
      "Epoch 22/50\n",
      "8/8 [==============================] - 4s 522ms/step - loss: 0.0010\n",
      "Epoch 23/50\n",
      "8/8 [==============================] - 4s 494ms/step - loss: 7.6961e-04\n",
      "Epoch 24/50\n",
      "8/8 [==============================] - 4s 496ms/step - loss: 6.2977e-04\n",
      "Epoch 25/50\n",
      "8/8 [==============================] - 4s 484ms/step - loss: 5.5211e-04\n",
      "Epoch 26/50\n",
      "8/8 [==============================] - 4s 488ms/step - loss: 4.1211e-04\n",
      "Epoch 27/50\n",
      "8/8 [==============================] - 4s 478ms/step - loss: 3.9435e-04\n",
      "Epoch 28/50\n",
      "8/8 [==============================] - 4s 483ms/step - loss: 2.9233e-04\n",
      "Epoch 29/50\n",
      "8/8 [==============================] - 4s 484ms/step - loss: 2.6690e-04\n",
      "Epoch 30/50\n",
      "8/8 [==============================] - 4s 539ms/step - loss: 2.5087e-04\n",
      "Epoch 31/50\n",
      "8/8 [==============================] - 4s 510ms/step - loss: 2.4239e-04\n",
      "Epoch 32/50\n",
      "8/8 [==============================] - 4s 503ms/step - loss: 2.3199e-04\n",
      "Epoch 33/50\n",
      "8/8 [==============================] - 4s 513ms/step - loss: 1.9655e-04\n",
      "Epoch 34/50\n",
      "8/8 [==============================] - 4s 493ms/step - loss: 1.9702e-04\n",
      "Epoch 35/50\n",
      "8/8 [==============================] - 4s 482ms/step - loss: 1.8275e-04\n",
      "Epoch 36/50\n",
      "8/8 [==============================] - 4s 494ms/step - loss: 1.5027e-04\n",
      "Epoch 37/50\n",
      "8/8 [==============================] - 4s 524ms/step - loss: 1.5750e-04\n",
      "Epoch 38/50\n",
      "8/8 [==============================] - 4s 508ms/step - loss: 1.3339e-04\n",
      "Epoch 39/50\n",
      "8/8 [==============================] - 4s 508ms/step - loss: 1.3554e-04\n",
      "Epoch 40/50\n",
      "8/8 [==============================] - 4s 521ms/step - loss: 1.3398e-04\n",
      "Epoch 41/50\n",
      "8/8 [==============================] - 4s 489ms/step - loss: 1.2002e-04\n",
      "Epoch 42/50\n",
      "8/8 [==============================] - 5s 568ms/step - loss: 1.1981e-04\n",
      "Epoch 43/50\n",
      "8/8 [==============================] - 4s 483ms/step - loss: 1.1213e-04\n",
      "Epoch 44/50\n",
      "8/8 [==============================] - 4s 500ms/step - loss: 1.0128e-04\n",
      "Epoch 45/50\n",
      "8/8 [==============================] - 4s 483ms/step - loss: 9.9480e-05\n",
      "Epoch 46/50\n",
      "8/8 [==============================] - 4s 480ms/step - loss: 9.4272e-05\n",
      "Epoch 47/50\n",
      "8/8 [==============================] - 4s 483ms/step - loss: 9.4326e-05\n",
      "Epoch 48/50\n",
      "8/8 [==============================] - 4s 501ms/step - loss: 8.1470e-05\n",
      "Epoch 49/50\n",
      "8/8 [==============================] - 4s 492ms/step - loss: 7.9896e-05\n",
      "Epoch 50/50\n",
      "8/8 [==============================] - 4s 490ms/step - loss: 7.3860e-05\n"
     ]
    },
    {
     "data": {
      "text/plain": [
       "<tensorflow.python.keras.callbacks.History at 0x7f9d5a776280>"
      ]
     },
     "execution_count": 17,
     "metadata": {},
     "output_type": "execute_result"
    }
   ],
   "source": [
    "model.fit(X_train[indices_train], y_train, epochs = epochs,\n",
    "          batch_size = batch_size,\n",
    "          verbose = 1)"
   ]
  },
  {
   "cell_type": "code",
   "execution_count": 216,
   "metadata": {
    "scrolled": true
   },
   "outputs": [
    {
     "data": {
      "image/png": "[encoded data removed]",
      "text/plain": [
       "<Figure size 720x720 with 2 Axes>"
      ]
     },
     "metadata": {
      "needs_background": "light"
     },
     "output_type": "display_data"
    }
   ],
   "source": [
    "classes = le.classes_\n",
    "\n",
    "result = model.predict(X_test[indices_test])\n",
    "y_pred = np.argmax(result, axis = 1)\n",
    "y_true = np.argmax(y_test, axis = 1)\n",
    "\n",
    "f, ax = utility.plot_cm(y_true, y_pred, module_path = module_path, class_names = classes)\n",
    "\n",
    "f.savefig(figure_path + f'TSC/cm_uit_CNN_15s.pdf', bbox_inches='tight')\n",
    "\n",
    "\n",
    "'''f.set_size_inches(10, 10)\n",
    "\n",
    "for item in ([ax.title, ax.xaxis.label, ax.yaxis.label] +\n",
    "             ax.get_xticklabels() + ax.get_yticklabels()):\n",
    "    item.set_fontsize(15)'''"
   ]
  },
  {
   "cell_type": "code",
   "execution_count": 141,
   "metadata": {},
   "outputs": [
    {
     "ename": "NameError",
     "evalue": "name 'filters' is not defined",
     "output_type": "error",
     "traceback": [
      "\u001b[0;31m---------------------------------------------------------------------------\u001b[0m",
      "\u001b[0;31mNameError\u001b[0m                                 Traceback (most recent call last)",
      "\u001b[0;32m<ipython-input-141-22348d098a67>\u001b[0m in \u001b[0;36m<module>\u001b[0;34m\u001b[0m\n\u001b[1;32m      3\u001b[0m     \u001b[0;32mif\u001b[0m \u001b[0;34m'conv'\u001b[0m \u001b[0;32min\u001b[0m \u001b[0mlayer\u001b[0m\u001b[0;34m.\u001b[0m\u001b[0mname\u001b[0m\u001b[0;34m:\u001b[0m\u001b[0;34m\u001b[0m\u001b[0;34m\u001b[0m\u001b[0m\n\u001b[1;32m      4\u001b[0m         \u001b[0mweights\u001b[0m\u001b[0;34m,\u001b[0m \u001b[0mbias\u001b[0m\u001b[0;34m=\u001b[0m \u001b[0mlayer\u001b[0m\u001b[0;34m.\u001b[0m\u001b[0mget_weights\u001b[0m\u001b[0;34m(\u001b[0m\u001b[0;34m)\u001b[0m\u001b[0;34m\u001b[0m\u001b[0;34m\u001b[0m\u001b[0m\n\u001b[0;32m----> 5\u001b[0;31m         \u001b[0mprint\u001b[0m\u001b[0;34m(\u001b[0m\u001b[0mlayer\u001b[0m\u001b[0;34m.\u001b[0m\u001b[0mname\u001b[0m\u001b[0;34m,\u001b[0m \u001b[0mfilters\u001b[0m\u001b[0;34m.\u001b[0m\u001b[0mshape\u001b[0m\u001b[0;34m)\u001b[0m\u001b[0;34m\u001b[0m\u001b[0;34m\u001b[0m\u001b[0m\n\u001b[0m\u001b[1;32m      6\u001b[0m \u001b[0;34m\u001b[0m\u001b[0m\n\u001b[1;32m      7\u001b[0m         \u001b[0;31m#normalize filter values between  0 and 1 for visualization\u001b[0m\u001b[0;34m\u001b[0m\u001b[0;34m\u001b[0m\u001b[0;34m\u001b[0m\u001b[0m\n",
      "\u001b[0;31mNameError\u001b[0m: name 'filters' is not defined"
     ]
    }
   ],
   "source": [
    "#Iterate thru all the layers of the model\n",
    "for layer in model.layers:\n",
    "    if 'conv' in layer.name:\n",
    "        weights, bias= layer.get_weights()\n",
    "        print(layer.name, filters.shape)\n",
    "        \n",
    "        #normalize filter values between  0 and 1 for visualization\n",
    "        f_min, f_max = weights.min(), weights.max()\n",
    "        filters = (weights - f_min) / (f_max - f_min)  \n",
    "        print(filters.shape[3])\n",
    "        filter_cnt=1\n",
    "        \n",
    "        #plotting all the filters\n",
    "        for i in range(filters.shape[3]):\n",
    "            #get the filters\n",
    "            filt=filters[:,:,:, i]\n",
    "            #plotting each of the channel, color image RGB channels\n",
    "            for j in range(filters.shape[0]):\n",
    "                ax= plt.subplot(filters.shape[3], filters.shape[0], filter_cnt  )\n",
    "                ax.set_xticks([])\n",
    "                ax.set_yticks([])\n",
    "                plt.imshow(filt[:,:, j])\n",
    "                filter_cnt+=1\n",
    "        plt.show()"
   ]
  }
 ],
 "metadata": {
  "kernelspec": {
   "display_name": "Python 3",
   "language": "python",
   "name": "python3"
  },
  "language_info": {
   "codemirror_mode": {
    "name": "ipython",
    "version": 3
   },
   "file_extension": ".py",
   "mimetype": "text/x-python",
   "name": "python",
   "nbconvert_exporter": "python",
   "pygments_lexer": "ipython3",
   "version": "3.8.5"
  }
 },
 "nbformat": 4,
 "nbformat_minor": 5
}
