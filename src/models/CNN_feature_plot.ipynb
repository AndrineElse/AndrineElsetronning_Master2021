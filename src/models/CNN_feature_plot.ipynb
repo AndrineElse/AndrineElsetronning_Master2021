{
 "cells": [
  {
   "cell_type": "markdown",
   "metadata": {},
   "source": [
    "https://medium.com/@Rehan_Sayyad/how-to-use-convolutional-neural-networks-for-time-series-classification-80575131a474\n",
    "\n",
    "https://machinelearningmastery.com/cnn-models-for-human-activity-recognition-time-series-classification/"
   ]
  },
  {
   "cell_type": "code",
   "execution_count": 1,
   "metadata": {},
   "outputs": [],
   "source": [
    "import sys\n",
    "import os\n",
    "import pandas as pd\n",
    "import numpy as np\n",
    "from sklearn.utils import shuffle\n",
    "module_path = os.path.abspath(os.path.join('../..'))\n",
    "\n",
    "sys.path.insert(1, module_path + '/src')\n",
    "import audio_time_series_classification as preproject\n",
    "import utility\n",
    "\n",
    "sys.path.insert(1, module_path + '/src/models/')\n",
    "import helper\n",
    "\n",
    "from sktime.utils.data_io import load_from_tsfile_to_dataframe\n",
    "from sktime.utils.data_processing import from_nested_to_2d_array\n",
    "import matplotlib.pyplot as plt\n",
    "from sklearn import preprocessing\n",
    "\n",
    "from keras.utils import np_utils\n",
    "import keras\n",
    "from keras.models import Model\n",
    "from keras.models import Sequential\n",
    "from keras.layers import Conv1D, ZeroPadding1D, MaxPooling1D, BatchNormalization, Activation, Dropout, Flatten, Dense\n",
    "\n",
    "\n",
    "figure_path = module_path + '/figures/'"
   ]
  },
  {
   "cell_type": "code",
   "execution_count": 2,
   "metadata": {},
   "outputs": [],
   "source": [
    "X_train, y_train_ = load_from_tsfile_to_dataframe(module_path + f'/data/ts_files/UiT_5s_noOverlap_TRAIN.ts')\n",
    "X_test, y_test_ = load_from_tsfile_to_dataframe(module_path + f'/data/ts_files/UiT_5s_noOverlap_TEST.ts')\n",
    "X_val, y_val_ = load_from_tsfile_to_dataframe(module_path + f'/data/ts_files/UiT_5s_noOverlap_VAL.ts')\n",
    "\n",
    "X_train, y_train_= shuffle(X_train, y_train_, random_state = 42)\n",
    "\n",
    "X_train, X_test, X_val = from_nested_to_2d_array(X_train), from_nested_to_2d_array(X_test), from_nested_to_2d_array(X_val)\n",
    "\n",
    "cols = np.arange(len(X_test.columns))\n",
    "X_train.columns, X_test.columns, X_val.columns = cols, cols, cols\n",
    "\n",
    "y_train_, y_test_, y_val_ = pd.Series(y_train_), pd.Series(y_test_), pd.Series(y_val_)\n",
    "X_train = X_train.to_numpy()\n",
    "X_test = X_test.to_numpy()\n",
    "X_val = X_val.to_numpy()\n",
    "\n",
    "X_train, y_train_= shuffle(X_train, y_train_, random_state = 42)\n",
    "X_val, y_val_= shuffle(X_val, y_val_, random_state = 42)\n",
    "\n",
    "X_train = X_train.reshape(X_train.shape[0],X_train.shape[1], 1)\n",
    "X_test = X_test.reshape(X_test.shape[0],X_test.shape[1], 1)\n",
    "X_val = X_val.reshape(X_val.shape[0],X_val.shape[1], 1)"
   ]
  },
  {
   "cell_type": "markdown",
   "metadata": {},
   "source": [
    "## Keeping the original classes"
   ]
  },
  {
   "cell_type": "code",
   "execution_count": null,
   "metadata": {},
   "outputs": [],
   "source": [
    "indices_1 = np.where(y_train_ == 'normal')[0]\n",
    "indices_2 = np.where(y_train_ == 'exp_wheeze')[0]\n",
    "indices_3 = np.where(y_train_ == 'insp_crackle')[0]\n",
    "indices_4 = np.where(y_train_ == 'insp_wheeze')[0]\n",
    "indices_5 = np.where(y_train_ == 'exp_crackle')[0]\n",
    "#indices_train = np.concatenate((indices_1[0:25], indices_2[:25], indices_3[:25], indices_4, indices_5))\n",
    "indices_train = np.concatenate((indices_2[:25], indices_3[:25], indices_4, indices_5))\n",
    "\n",
    "indices_1 = np.where(y_test_ == 'normal')[0]\n",
    "indices_2 = np.where(y_test_ == 'exp_wheeze')[0]\n",
    "indices_3 = np.where(y_test_ == 'insp_crackle')[0]\n",
    "indices_4 = np.where(y_test_ == 'insp_wheeze')[0]\n",
    "indices_5 = np.where(y_test_ == 'exp_crackle')[0]\n",
    "#indices_test = np.concatenate((indices_1, indices_2, indices_3, indices_4, indices_5))\n",
    "indices_test = np.concatenate((indices_2, indices_3, indices_4, indices_5))\n",
    "\n",
    "indices_1 = np.where(y_val_ == 'normal')[0]\n",
    "indices_2 = np.where(y_val_ == 'exp_wheeze')[0]\n",
    "indices_3 = np.where(y_val_ == 'insp_crackle')[0]\n",
    "indices_4 = np.where(y_val_ == 'insp_wheeze')[0]\n",
    "indices_5 = np.where(y_val_ == 'exp_crackle')[0]\n",
    "#indices_val = np.concatenate((indices_1, indices_2, indices_3, indices_4, indices_5))\n",
    "indices_val = np.concatenate((indices_2, indices_3, indices_4, indices_5))"
   ]
  },
  {
   "cell_type": "code",
   "execution_count": null,
   "metadata": {},
   "outputs": [],
   "source": [
    "le = preprocessing.LabelEncoder()\n",
    "\n",
    "le.fit(y_train_[indices_train])\n",
    "num_classes = len(le.classes_)\n",
    "y_train = le.transform(y_train_[indices_train])\n",
    "y_test = le.transform(y_test_[indices_test])\n",
    "y_val = le.transform(y_val_[indices_test])\n",
    "\n",
    "y_train = np_utils.to_categorical(y_train, num_classes = num_classes)\n",
    "y_test = np_utils.to_categorical(y_test, num_classes = num_classes)\n",
    "y_val = np_utils.to_categorical(y_val, num_classes = num_classes)"
   ]
  },
  {
   "cell_type": "markdown",
   "metadata": {},
   "source": [
    "## Creating subclasses "
   ]
  },
  {
   "cell_type": "code",
   "execution_count": 3,
   "metadata": {},
   "outputs": [],
   "source": [
    "y_train_new = y_train_.copy(deep = True)\n",
    "\n",
    "y_train_new[y_train_new == 'exp_wheeze'] = 'wheeze'\n",
    "y_train_new[y_train_new == 'insp_wheeze'] = 'wheeze'\n",
    "y_train_new[y_train_new == 'exp_crackle'] = 'crackle'\n",
    "y_train_new[y_train_new == 'insp_crackle'] = 'crackle'\n",
    "\n",
    "y_test_new = y_test_.copy(deep = True)\n",
    "\n",
    "y_test_new[y_test_new == 'exp_wheeze'] = 'wheeze'\n",
    "y_test_new[y_test_new == 'insp_wheeze'] = 'wheeze'\n",
    "y_test_new[y_test_new == 'exp_crackle'] = 'crackle'\n",
    "y_test_new[y_test_new == 'insp_crackle'] = 'crackle'\n",
    "\n",
    "y_val_new = y_val_.copy(deep = True)\n",
    "\n",
    "y_val_new[y_val_new == 'exp_wheeze'] = 'wheeze'\n",
    "y_val_new[y_val_new == 'insp_wheeze'] = 'wheeze'\n",
    "y_val_new[y_val_new == 'exp_crackle'] = 'crackle'\n",
    "y_val_new[y_val_new == 'insp_crackle'] = 'crackle'"
   ]
  },
  {
   "cell_type": "code",
   "execution_count": 4,
   "metadata": {},
   "outputs": [
    {
     "data": {
      "text/plain": [
       "normal     927\n",
       "crackle    711\n",
       "wheeze     684\n",
       "dtype: int64"
      ]
     },
     "execution_count": 4,
     "metadata": {},
     "output_type": "execute_result"
    }
   ],
   "source": [
    "y_train_new.value_counts()"
   ]
  },
  {
   "cell_type": "code",
   "execution_count": 4,
   "metadata": {},
   "outputs": [],
   "source": [
    "indices_1 = np.where(y_train_new == 'normal')[0]\n",
    "indices_2 = np.where(y_train_new == 'wheeze')[0]\n",
    "indices_3 = np.where(y_train_new == 'crackle')[0]\n",
    "#indices_train = np.concatenate((indices_2, indices_3))\n",
    "indices_train = np.concatenate((indices_1[:711], indices_2, indices_3))\n",
    "\n",
    "\n",
    "indices_1 = np.where(y_test_new == 'normal')[0]\n",
    "indices_2 = np.where(y_test_new == 'wheeze')[0]\n",
    "indices_3 = np.where(y_test_new == 'crackle')[0]\n",
    "#indices_test = np.concatenate((indices_2, indices_3))\n",
    "indices_test = np.concatenate((indices_1, indices_2, indices_3))\n",
    "\n",
    "indices_1 = np.where(y_val_new == 'normal')[0]\n",
    "indices_2 = np.where(y_val_new == 'wheeze')[0]\n",
    "indices_3 = np.where(y_val_new == 'crackle')[0]\n",
    "#indices_test = np.concatenate((indices_2, indices_3))\n",
    "indices_val = np.concatenate((indices_1, indices_2, indices_3))"
   ]
  },
  {
   "cell_type": "code",
   "execution_count": 5,
   "metadata": {},
   "outputs": [],
   "source": [
    "le = preprocessing.LabelEncoder()\n",
    "\n",
    "le.fit(y_train_new[indices_train])\n",
    "num_classes = len(le.classes_)\n",
    "y_train = le.transform(y_train_new[indices_train])\n",
    "y_test = le.transform(y_test_new[indices_test])\n",
    "y_val = le.transform(y_val_new[indices_val])\n",
    "\n",
    "y_train = np_utils.to_categorical(y_train, num_classes = num_classes)\n",
    "y_test = np_utils.to_categorical(y_test, num_classes = num_classes)\n",
    "y_val = np_utils.to_categorical(y_val, num_classes = num_classes)"
   ]
  },
  {
   "cell_type": "markdown",
   "metadata": {},
   "source": [
    "# Models"
   ]
  },
  {
   "cell_type": "code",
   "execution_count": 9,
   "metadata": {},
   "outputs": [
    {
     "name": "stdout",
     "output_type": "stream",
     "text": [
      "Model: \"sequential_2\"\n",
      "_________________________________________________________________\n",
      "Layer (type)                 Output Shape              Param #   \n",
      "=================================================================\n",
      "conv1d (Conv1D)              (None, 25000, 128)        512       \n",
      "_________________________________________________________________\n",
      "batch_normalization (BatchNo (None, 25000, 128)        512       \n",
      "_________________________________________________________________\n",
      "max_pooling1d (MaxPooling1D) (None, 12500, 128)        0         \n",
      "_________________________________________________________________\n",
      "conv1d_1 (Conv1D)            (None, 12500, 128)        49280     \n",
      "_________________________________________________________________\n",
      "batch_normalization_1 (Batch (None, 12500, 128)        512       \n",
      "_________________________________________________________________\n",
      "max_pooling1d_1 (MaxPooling1 (None, 6250, 128)         0         \n",
      "_________________________________________________________________\n",
      "flatten (Flatten)            (None, 800000)            0         \n",
      "_________________________________________________________________\n",
      "dense (Dense)                (None, 64)                51200064  \n",
      "_________________________________________________________________\n",
      "dropout (Dropout)            (None, 64)                0         \n",
      "_________________________________________________________________\n",
      "dense_1 (Dense)              (None, 32)                2080      \n",
      "_________________________________________________________________\n",
      "dropout_1 (Dropout)          (None, 32)                0         \n",
      "_________________________________________________________________\n",
      "dense_2 (Dense)              (None, 16)                528       \n",
      "_________________________________________________________________\n",
      "dropout_2 (Dropout)          (None, 16)                0         \n",
      "_________________________________________________________________\n",
      "dense_3 (Dense)              (None, 3)                 51        \n",
      "=================================================================\n",
      "Total params: 51,253,539\n",
      "Trainable params: 51,253,027\n",
      "Non-trainable params: 512\n",
      "_________________________________________________________________\n"
     ]
    }
   ],
   "source": [
    "model = Sequential()\n",
    "batch_size = 100\n",
    "epochs = 50\n",
    "input_shape=(X_train.shape[1], 1)\n",
    "model.add(Conv1D(128, kernel_size=3,padding = 'same',activation= 'relu', input_shape=input_shape))\n",
    "model.add(BatchNormalization())\n",
    "model.add(MaxPooling1D(pool_size=(2)))\n",
    "model.add(Conv1D(128,kernel_size=3,padding = 'same', activation='relu'))\n",
    "model.add(BatchNormalization())\n",
    "model.add(MaxPooling1D(pool_size=(2)))\n",
    "model.add(Flatten())\n",
    "model.add(Dense(64, activation= 'tanh'))\n",
    "model.add(Dropout(0.2))\n",
    "model.add(Dense(32, activation='tanh'))\n",
    "model.add(Dropout(0.2))\n",
    "model.add(Dense(16, activation='relu'))\n",
    "model.add(Dropout(0.2))\n",
    "model.add(Dense(num_classes, activation='softmax'))\n",
    "model.summary()"
   ]
  },
  {
   "cell_type": "code",
   "execution_count": null,
   "metadata": {},
   "outputs": [],
   "source": [
    "model = Sequential()\n",
    "model.add(Conv1D(filters=64, kernel_size=20, activation='relu', input_shape=(n_timesteps,1)))\n",
    "model.add(Conv1D(filters=64, kernel_size=3, activation='relu'))\n",
    "model.add(Dropout(0.5))\n",
    "model.add(MaxPooling1D(pool_size=2))\n",
    "model.add(Flatten())\n",
    "model.add(Dense(100, activation='relu'))\n",
    "model.add(Dense(n_outputs, activation='softmax'))\n",
    "model.compile(loss='categorical_crossentropy', optimizer='adam', metrics=['accuracy'])"
   ]
  },
  {
   "cell_type": "markdown",
   "metadata": {},
   "source": [
    "# Comments\n",
    "\n",
    "* Adding batch normalization makes so that only one class is guessed always"
   ]
  },
  {
   "cell_type": "code",
   "execution_count": 6,
   "metadata": {},
   "outputs": [],
   "source": [
    "batch_size = 100\n",
    "epochs = 50\n",
    "input_shape=(X_train.shape[1], 1)"
   ]
  },
  {
   "cell_type": "code",
   "execution_count": 7,
   "metadata": {},
   "outputs": [],
   "source": [
    "model = Sequential()\n",
    "\n",
    "model.add(Conv1D(filters=50, kernel_size=10, activation='relu', input_shape=input_shape))\n",
    "#model.add(BatchNormalization()) \n",
    "model.add(MaxPooling1D(pool_size=50))\n",
    "model.add(Flatten())\n",
    "model.add(Dense(1500, activation='relu'))\n",
    "#model.add(Dropout(0.2))\n",
    "#model.add(Dense(500, activation='relu'))\n",
    "#model.add(Dropout(0.2))\n",
    "model.add(Dense(num_classes, activation='softmax'))\n",
    "model.compile(optimizer='adam', loss='mse')"
   ]
  },
  {
   "cell_type": "code",
   "execution_count": 9,
   "metadata": {
    "scrolled": true
   },
   "outputs": [
    {
     "name": "stdout",
     "output_type": "stream",
     "text": [
      "Model: \"sequential\"\n",
      "_________________________________________________________________\n",
      "Layer (type)                 Output Shape              Param #   \n",
      "=================================================================\n",
      "conv1d (Conv1D)              (None, 24991, 50)         550       \n",
      "_________________________________________________________________\n",
      "max_pooling1d (MaxPooling1D) (None, 499, 50)           0         \n",
      "_________________________________________________________________\n",
      "flatten (Flatten)            (None, 24950)             0         \n",
      "_________________________________________________________________\n",
      "dense (Dense)                (None, 1500)              37426500  \n",
      "_________________________________________________________________\n",
      "dense_1 (Dense)              (None, 3)                 4503      \n",
      "=================================================================\n",
      "Total params: 37,431,553\n",
      "Trainable params: 37,431,553\n",
      "Non-trainable params: 0\n",
      "_________________________________________________________________\n"
     ]
    }
   ],
   "source": [
    "model.summary()"
   ]
  },
  {
   "cell_type": "code",
   "execution_count": 27,
   "metadata": {
    "scrolled": true
   },
   "outputs": [
    {
     "data": {
      "text/plain": [
       "(4012, 20000, 1)"
      ]
     },
     "execution_count": 27,
     "metadata": {},
     "output_type": "execute_result"
    }
   ],
   "source": [
    "X_train[indices_train].shape"
   ]
  },
  {
   "cell_type": "code",
   "execution_count": 11,
   "metadata": {},
   "outputs": [
    {
     "name": "stdout",
     "output_type": "stream",
     "text": [
      "Epoch 1/50\n",
      "22/22 [==============================] - 173s 8s/step - loss: 0.2598 - val_loss: 0.3742\n",
      "Epoch 2/50\n",
      "22/22 [==============================] - 169s 8s/step - loss: 0.2373 - val_loss: 0.4212\n",
      "Epoch 3/50\n",
      "22/22 [==============================] - 171s 8s/step - loss: 0.2304 - val_loss: 0.4388\n",
      "Epoch 4/50\n",
      "22/22 [==============================] - 171s 8s/step - loss: 0.2261 - val_loss: 0.4233\n",
      "Epoch 5/50\n",
      "22/22 [==============================] - 170s 8s/step - loss: 0.2234 - val_loss: 0.4297\n",
      "Epoch 6/50\n",
      "22/22 [==============================] - 168s 8s/step - loss: 0.2277 - val_loss: 0.4326\n",
      "Epoch 7/50\n",
      "22/22 [==============================] - 169s 8s/step - loss: 0.2236 - val_loss: 0.4239\n",
      "Epoch 8/50\n",
      "22/22 [==============================] - 174s 8s/step - loss: 0.2234 - val_loss: 0.3975\n",
      "Epoch 9/50\n",
      "22/22 [==============================] - 174s 8s/step - loss: 0.2246 - val_loss: 0.3747\n",
      "Epoch 10/50\n",
      "22/22 [==============================] - 176s 8s/step - loss: 0.2224 - val_loss: 0.3828\n",
      "Epoch 11/50\n",
      "22/22 [==============================] - 174s 8s/step - loss: 0.2213 - val_loss: 0.3772\n",
      "Epoch 12/50\n",
      "22/22 [==============================] - 173s 8s/step - loss: 0.2225 - val_loss: 0.3941\n",
      "Epoch 13/50\n",
      "22/22 [==============================] - 168s 8s/step - loss: 0.2217 - val_loss: 0.3928\n",
      "Epoch 14/50\n",
      "22/22 [==============================] - 179s 8s/step - loss: 0.2211 - val_loss: 0.3707\n",
      "Epoch 15/50\n",
      "22/22 [==============================] - 172s 8s/step - loss: 0.2189 - val_loss: 0.3707\n",
      "Epoch 16/50\n",
      "22/22 [==============================] - 175s 8s/step - loss: 0.2207 - val_loss: 0.3744\n",
      "Epoch 17/50\n",
      "22/22 [==============================] - 174s 8s/step - loss: 0.2225 - val_loss: 0.3738\n",
      "Epoch 18/50\n",
      "22/22 [==============================] - 176s 8s/step - loss: 0.2200 - val_loss: 0.3571\n",
      "Epoch 19/50\n",
      "22/22 [==============================] - 173s 8s/step - loss: 0.2181 - val_loss: 0.3561\n",
      "Epoch 20/50\n",
      "22/22 [==============================] - 168s 8s/step - loss: 0.2193 - val_loss: 0.3495\n",
      "Epoch 21/50\n",
      "22/22 [==============================] - 166s 8s/step - loss: 0.2184 - val_loss: 0.3526\n",
      "Epoch 22/50\n",
      "22/22 [==============================] - 166s 8s/step - loss: 0.2197 - val_loss: 0.3391\n",
      "Epoch 23/50\n",
      "22/22 [==============================] - 168s 8s/step - loss: 0.2199 - val_loss: 0.3211\n",
      "Epoch 24/50\n",
      "22/22 [==============================] - 170s 8s/step - loss: 0.2206 - val_loss: 0.3199\n",
      "Epoch 25/50\n",
      "22/22 [==============================] - 180s 8s/step - loss: 0.2212 - val_loss: 0.2990\n",
      "Epoch 26/50\n",
      "22/22 [==============================] - 173s 8s/step - loss: 0.2209 - val_loss: 0.2558\n",
      "Epoch 27/50\n",
      "22/22 [==============================] - 176s 8s/step - loss: 0.2198 - val_loss: 0.2591\n",
      "Epoch 28/50\n",
      "22/22 [==============================] - 174s 8s/step - loss: 0.2178 - val_loss: 0.2577\n",
      "Epoch 29/50\n",
      "22/22 [==============================] - 175s 8s/step - loss: 0.2181 - val_loss: 0.2732\n",
      "Epoch 30/50\n",
      "22/22 [==============================] - 177s 8s/step - loss: 0.2195 - val_loss: 0.2679\n",
      "Epoch 31/50\n",
      "22/22 [==============================] - 178s 8s/step - loss: 0.2207 - val_loss: 0.2576\n",
      "Epoch 32/50\n",
      "22/22 [==============================] - 175s 8s/step - loss: 0.2190 - val_loss: 0.2359\n",
      "Epoch 33/50\n",
      "22/22 [==============================] - 172s 8s/step - loss: 0.2168 - val_loss: 0.2228\n",
      "Epoch 34/50\n",
      "22/22 [==============================] - 168s 8s/step - loss: 0.2198 - val_loss: 0.2218\n",
      "Epoch 35/50\n",
      "22/22 [==============================] - 174s 8s/step - loss: 0.2186 - val_loss: 0.2223\n",
      "Epoch 36/50\n",
      "22/22 [==============================] - 173s 8s/step - loss: 0.2190 - val_loss: 0.2222\n",
      "Epoch 37/50\n",
      "22/22 [==============================] - 177s 8s/step - loss: 0.2197 - val_loss: 0.2235\n",
      "Epoch 38/50\n",
      "22/22 [==============================] - 176s 8s/step - loss: 0.2191 - val_loss: 0.2230\n",
      "Epoch 39/50\n",
      "22/22 [==============================] - 173s 8s/step - loss: 0.2189 - val_loss: 0.2225\n",
      "Epoch 40/50\n",
      "22/22 [==============================] - 178s 8s/step - loss: 0.2188 - val_loss: 0.2234\n",
      "Epoch 41/50\n",
      "22/22 [==============================] - 171s 8s/step - loss: 0.2171 - val_loss: 0.2235\n",
      "Epoch 42/50\n",
      "22/22 [==============================] - 174s 8s/step - loss: 0.2193 - val_loss: 0.2310\n",
      "Epoch 43/50\n",
      "22/22 [==============================] - 165s 7s/step - loss: 0.2184 - val_loss: 0.2285\n",
      "Epoch 44/50\n",
      "22/22 [==============================] - 159s 7s/step - loss: 0.2186 - val_loss: 0.2257\n",
      "Epoch 45/50\n",
      "22/22 [==============================] - 162s 7s/step - loss: 0.2192 - val_loss: 0.2238\n",
      "Epoch 46/50\n",
      "22/22 [==============================] - 162s 7s/step - loss: 0.2196 - val_loss: 0.2244\n",
      "Epoch 47/50\n",
      "22/22 [==============================] - 163s 7s/step - loss: 0.2169 - val_loss: 0.2231\n",
      "Epoch 48/50\n",
      "22/22 [==============================] - 160s 7s/step - loss: 0.2170 - val_loss: 0.2234\n",
      "Epoch 49/50\n",
      "22/22 [==============================] - 167s 8s/step - loss: 0.2165 - val_loss: 0.2248\n",
      "Epoch 50/50\n",
      "22/22 [==============================] - 162s 7s/step - loss: 0.2179 - val_loss: 0.2245\n"
     ]
    },
    {
     "data": {
      "text/plain": [
       "<tensorflow.python.keras.callbacks.History at 0x7fabe48e4da0>"
      ]
     },
     "execution_count": 11,
     "metadata": {},
     "output_type": "execute_result"
    }
   ],
   "source": [
    "model.compile(optimizer='adam', loss='mse')\n",
    "model.fit(X_train[indices_train], y_train, epochs = epochs,\n",
    "          batch_size = batch_size,\n",
    "          verbose = 1,\n",
    "         validation_data = (X_val[indices_val], y_val))"
   ]
  },
  {
   "cell_type": "code",
   "execution_count": 12,
   "metadata": {},
   "outputs": [
    {
     "data": {
      "text/plain": [
       "'f.set_size_inches(10, 10)\\n\\nfor item in ([ax.title, ax.xaxis.label, ax.yaxis.label] +\\n             ax.get_xticklabels() + ax.get_yticklabels()):\\n    item.set_fontsize(15)'"
      ]
     },
     "execution_count": 12,
     "metadata": {},
     "output_type": "execute_result"
    },
    {
     "data": {
      "image/png": "[encoded data removed]",
      "text/plain": [
       "<Figure size 216x216 with 2 Axes>"
      ]
     },
     "metadata": {
      "needs_background": "light"
     },
     "output_type": "display_data"
    }
   ],
   "source": [
    "classes = le.classes_\n",
    "\n",
    "result = model.predict(X_test[indices_test])\n",
    "y_pred = np.argmax(result, axis = 1)\n",
    "y_true = np.argmax(y_test, axis = 1)\n",
    "\n",
    "f, ax = utility.plot_cm(y_true, y_pred, module_path = module_path, class_names = classes, color_index = 6)\n",
    "\n",
    "#f.savefig(figure_path + f'TSC/cm_uit_CNN_5s.pdf', bbox_inches='tight')\n",
    "\n",
    "\n",
    "'''f.set_size_inches(10, 10)\n",
    "\n",
    "for item in ([ax.title, ax.xaxis.label, ax.yaxis.label] +\n",
    "             ax.get_xticklabels() + ax.get_yticklabels()):\n",
    "    item.set_fontsize(15)'''"
   ]
  },
  {
   "cell_type": "code",
   "execution_count": 33,
   "metadata": {
    "scrolled": true
   },
   "outputs": [
    {
     "data": {
      "text/plain": [
       "'f.set_size_inches(10, 10)\\n\\nfor item in ([ax.title, ax.xaxis.label, ax.yaxis.label] +\\n             ax.get_xticklabels() + ax.get_yticklabels()):\\n    item.set_fontsize(15)'"
      ]
     },
     "execution_count": 33,
     "metadata": {},
     "output_type": "execute_result"
    },
    {
     "data": {
      "image/png": "[encoded data removed]",
      "text/plain": [
       "<Figure size 216x216 with 2 Axes>"
      ]
     },
     "metadata": {
      "needs_background": "light"
     },
     "output_type": "display_data"
    }
   ],
   "source": [
    "classes = le.classes_\n",
    "\n",
    "result = model.predict(X_test[indices_test])\n",
    "y_pred = np.argmax(result, axis = 1)\n",
    "y_true = np.argmax(y_test, axis = 1)\n",
    "\n",
    "f, ax = utility.plot_cm(y_true, y_pred, module_path = module_path, class_names = classes, color_index = 6)\n",
    "\n",
    "f.savefig(figure_path + f'TSC/cm_uit_CNN_5s.pdf', bbox_inches='tight')\n",
    "\n",
    "\n",
    "'''f.set_size_inches(10, 10)\n",
    "\n",
    "for item in ([ax.title, ax.xaxis.label, ax.yaxis.label] +\n",
    "             ax.get_xticklabels() + ax.get_yticklabels()):\n",
    "    item.set_fontsize(15)'''"
   ]
  },
  {
   "cell_type": "code",
   "execution_count": 141,
   "metadata": {
    "scrolled": true
   },
   "outputs": [
    {
     "ename": "NameError",
     "evalue": "name 'filters' is not defined",
     "output_type": "error",
     "traceback": [
      "\u001b[0;31m---------------------------------------------------------------------------\u001b[0m",
      "\u001b[0;31mNameError\u001b[0m                                 Traceback (most recent call last)",
      "\u001b[0;32m<ipython-input-141-22348d098a67>\u001b[0m in \u001b[0;36m<module>\u001b[0;34m\u001b[0m\n\u001b[1;32m      3\u001b[0m     \u001b[0;32mif\u001b[0m \u001b[0;34m'conv'\u001b[0m \u001b[0;32min\u001b[0m \u001b[0mlayer\u001b[0m\u001b[0;34m.\u001b[0m\u001b[0mname\u001b[0m\u001b[0;34m:\u001b[0m\u001b[0;34m\u001b[0m\u001b[0;34m\u001b[0m\u001b[0m\n\u001b[1;32m      4\u001b[0m         \u001b[0mweights\u001b[0m\u001b[0;34m,\u001b[0m \u001b[0mbias\u001b[0m\u001b[0;34m=\u001b[0m \u001b[0mlayer\u001b[0m\u001b[0;34m.\u001b[0m\u001b[0mget_weights\u001b[0m\u001b[0;34m(\u001b[0m\u001b[0;34m)\u001b[0m\u001b[0;34m\u001b[0m\u001b[0;34m\u001b[0m\u001b[0m\n\u001b[0;32m----> 5\u001b[0;31m         \u001b[0mprint\u001b[0m\u001b[0;34m(\u001b[0m\u001b[0mlayer\u001b[0m\u001b[0;34m.\u001b[0m\u001b[0mname\u001b[0m\u001b[0;34m,\u001b[0m \u001b[0mfilters\u001b[0m\u001b[0;34m.\u001b[0m\u001b[0mshape\u001b[0m\u001b[0;34m)\u001b[0m\u001b[0;34m\u001b[0m\u001b[0;34m\u001b[0m\u001b[0m\n\u001b[0m\u001b[1;32m      6\u001b[0m \u001b[0;34m\u001b[0m\u001b[0m\n\u001b[1;32m      7\u001b[0m         \u001b[0;31m#normalize filter values between  0 and 1 for visualization\u001b[0m\u001b[0;34m\u001b[0m\u001b[0;34m\u001b[0m\u001b[0;34m\u001b[0m\u001b[0m\n",
      "\u001b[0;31mNameError\u001b[0m: name 'filters' is not defined"
     ]
    }
   ],
   "source": [
    "#Iterate thru all the layers of the model\n",
    "for layer in model.layers:\n",
    "    if 'conv' in layer.name:\n",
    "        weights, bias= layer.get_weights()\n",
    "        print(layer.name, filters.shape)\n",
    "        \n",
    "        #normalize filter values between  0 and 1 for visualization\n",
    "        f_min, f_max = weights.min(), weights.max()\n",
    "        filters = (weights - f_min) / (f_max - f_min)  \n",
    "        print(filters.shape[3])\n",
    "        filter_cnt=1\n",
    "        \n",
    "        #plotting all the filters\n",
    "        for i in range(filters.shape[3]):\n",
    "            #get the filters\n",
    "            filt=filters[:,:,:, i]\n",
    "            #plotting each of the channel, color image RGB channels\n",
    "            for j in range(filters.shape[0]):\n",
    "                ax= plt.subplot(filters.shape[3], filters.shape[0], filter_cnt  )\n",
    "                ax.set_xticks([])\n",
    "                ax.set_yticks([])\n",
    "                plt.imshow(filt[:,:, j])\n",
    "                filter_cnt+=1\n",
    "        plt.show()"
   ]
  },
  {
   "cell_type": "code",
   "execution_count": 24,
   "metadata": {},
   "outputs": [
    {
     "data": {
      "text/plain": [
       "[<tensorflow.python.keras.layers.convolutional.Conv1D at 0x7f880c8f0d68>,\n",
       " <tensorflow.python.keras.layers.pooling.MaxPooling1D at 0x7f880cca17b8>,\n",
       " <tensorflow.python.keras.layers.core.Flatten at 0x7f880cca1cc0>,\n",
       " <tensorflow.python.keras.layers.core.Dense at 0x7f880cc9f860>,\n",
       " <tensorflow.python.keras.layers.core.Dense at 0x7f880cc9f5c0>]"
      ]
     },
     "execution_count": 24,
     "metadata": {},
     "output_type": "execute_result"
    }
   ],
   "source": [
    "model.layers"
   ]
  },
  {
   "cell_type": "code",
   "execution_count": 23,
   "metadata": {
    "scrolled": true
   },
   "outputs": [
    {
     "ename": "ImportError",
     "evalue": "cannot import name 'imresize' from 'scipy.misc' (/home/andrine/anaconda3/lib/python3.7/site-packages/scipy/misc/__init__.py)",
     "output_type": "error",
     "traceback": [
      "\u001b[0;31m---------------------------------------------------------------------------\u001b[0m",
      "\u001b[0;31mImportError\u001b[0m                               Traceback (most recent call last)",
      "\u001b[0;32m<ipython-input-23-b7c4e5f08da7>\u001b[0m in \u001b[0;36m<module>\u001b[0;34m\u001b[0m\n\u001b[0;32m----> 1\u001b[0;31m \u001b[0;32mfrom\u001b[0m \u001b[0mvis\u001b[0m\u001b[0;34m.\u001b[0m\u001b[0mvisualization\u001b[0m \u001b[0;32mimport\u001b[0m \u001b[0mvisualize_saliency\u001b[0m\u001b[0;34m\u001b[0m\u001b[0m\n\u001b[0m\u001b[1;32m      2\u001b[0m \u001b[0;32mfrom\u001b[0m \u001b[0mvis\u001b[0m\u001b[0;34m.\u001b[0m\u001b[0mutils\u001b[0m \u001b[0;32mimport\u001b[0m \u001b[0mutils\u001b[0m\u001b[0;34m\u001b[0m\u001b[0m\n\u001b[1;32m      3\u001b[0m \u001b[0;32mimport\u001b[0m \u001b[0mmatplotlib\u001b[0m\u001b[0;34m.\u001b[0m\u001b[0mpyplot\u001b[0m \u001b[0;32mas\u001b[0m \u001b[0mplt\u001b[0m\u001b[0;34m\u001b[0m\u001b[0m\n\u001b[1;32m      4\u001b[0m \u001b[0;32mimport\u001b[0m \u001b[0mnumpy\u001b[0m \u001b[0;32mas\u001b[0m \u001b[0mnp\u001b[0m\u001b[0;34m\u001b[0m\u001b[0m\n",
      "\u001b[0;32m~/anaconda3/lib/python3.7/site-packages/vis/visualization/__init__.py\u001b[0m in \u001b[0;36m<module>\u001b[0;34m\u001b[0m\n\u001b[1;32m      5\u001b[0m \u001b[0;32mfrom\u001b[0m \u001b[0;34m.\u001b[0m\u001b[0mactivation_maximization\u001b[0m \u001b[0;32mimport\u001b[0m \u001b[0mvisualize_activation\u001b[0m\u001b[0;34m\u001b[0m\u001b[0m\n\u001b[1;32m      6\u001b[0m \u001b[0;34m\u001b[0m\u001b[0m\n\u001b[0;32m----> 7\u001b[0;31m \u001b[0;32mfrom\u001b[0m \u001b[0;34m.\u001b[0m\u001b[0msaliency\u001b[0m \u001b[0;32mimport\u001b[0m \u001b[0mvisualize_saliency_with_losses\u001b[0m\u001b[0;34m\u001b[0m\u001b[0m\n\u001b[0m\u001b[1;32m      8\u001b[0m \u001b[0;32mfrom\u001b[0m \u001b[0;34m.\u001b[0m\u001b[0msaliency\u001b[0m \u001b[0;32mimport\u001b[0m \u001b[0mvisualize_saliency\u001b[0m\u001b[0;34m\u001b[0m\u001b[0m\n\u001b[1;32m      9\u001b[0m \u001b[0;32mfrom\u001b[0m \u001b[0;34m.\u001b[0m\u001b[0msaliency\u001b[0m \u001b[0;32mimport\u001b[0m \u001b[0mvisualize_cam_with_losses\u001b[0m\u001b[0;34m\u001b[0m\u001b[0m\n",
      "\u001b[0;32m~/anaconda3/lib/python3.7/site-packages/vis/visualization/saliency.py\u001b[0m in \u001b[0;36m<module>\u001b[0;34m\u001b[0m\n\u001b[1;32m      3\u001b[0m \u001b[0;32mimport\u001b[0m \u001b[0mnumpy\u001b[0m \u001b[0;32mas\u001b[0m \u001b[0mnp\u001b[0m\u001b[0;34m\u001b[0m\u001b[0m\n\u001b[1;32m      4\u001b[0m \u001b[0;32mimport\u001b[0m \u001b[0mmatplotlib\u001b[0m\u001b[0;34m.\u001b[0m\u001b[0mcm\u001b[0m \u001b[0;32mas\u001b[0m \u001b[0mcm\u001b[0m\u001b[0;34m\u001b[0m\u001b[0m\n\u001b[0;32m----> 5\u001b[0;31m \u001b[0;32mfrom\u001b[0m \u001b[0mscipy\u001b[0m\u001b[0;34m.\u001b[0m\u001b[0mmisc\u001b[0m \u001b[0;32mimport\u001b[0m \u001b[0mimresize\u001b[0m\u001b[0;34m\u001b[0m\u001b[0m\n\u001b[0m\u001b[1;32m      6\u001b[0m \u001b[0;34m\u001b[0m\u001b[0m\n\u001b[1;32m      7\u001b[0m \u001b[0;32mfrom\u001b[0m \u001b[0mkeras\u001b[0m\u001b[0;34m.\u001b[0m\u001b[0mlayers\u001b[0m\u001b[0;34m.\u001b[0m\u001b[0mconvolutional\u001b[0m \u001b[0;32mimport\u001b[0m \u001b[0m_Conv\u001b[0m\u001b[0;34m\u001b[0m\u001b[0m\n",
      "\u001b[0;31mImportError\u001b[0m: cannot import name 'imresize' from 'scipy.misc' (/home/andrine/anaconda3/lib/python3.7/site-packages/scipy/misc/__init__.py)"
     ]
    }
   ],
   "source": [
    "from vis.visualization import visualize_saliency\n",
    "from vis.utils import utils\n",
    "import matplotlib.pyplot as plt\n",
    "import numpy as np"
   ]
  }
 ],
 "metadata": {
  "kernelspec": {
   "display_name": "Python 3",
   "language": "python",
   "name": "python3"
  },
  "language_info": {
   "codemirror_mode": {
    "name": "ipython",
    "version": 3
   },
   "file_extension": ".py",
   "mimetype": "text/x-python",
   "name": "python",
   "nbconvert_exporter": "python",
   "pygments_lexer": "ipython3",
   "version": "3.7.0"
  }
 },
 "nbformat": 4,
 "nbformat_minor": 5
}
