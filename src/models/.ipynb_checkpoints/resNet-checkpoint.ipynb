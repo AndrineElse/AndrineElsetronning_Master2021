{
 "cells": [
  {
   "cell_type": "markdown",
   "metadata": {},
   "source": [
    "https://medium.com/@Rehan_Sayyad/how-to-use-convolutional-neural-networks-for-time-series-classification-80575131a474\n",
    "\n",
    "https://machinelearningmastery.com/cnn-models-for-human-activity-recognition-time-series-classification/"
   ]
  },
  {
   "cell_type": "code",
   "execution_count": 1,
   "metadata": {},
   "outputs": [],
   "source": [
    "import sys\n",
    "import os\n",
    "import pandas as pd\n",
    "import numpy as np\n",
    "\n",
    "module_path = os.path.abspath(os.path.join('../..'))\n",
    "\n",
    "sys.path.insert(1, module_path + '/src')\n",
    "import audio_time_series_classification as preproject\n",
    "import utility\n",
    "\n",
    "sys.path.insert(1, module_path + '/src/models/')\n",
    "import helper\n",
    "\n",
    "from sktime.utils.data_io import load_from_tsfile_to_dataframe\n",
    "from sktime.utils.data_processing import from_nested_to_2d_array\n",
    "import matplotlib.pyplot as plt\n",
    "from sklearn import preprocessing\n",
    "import keras.utils as np_utils\n",
    "from sktime_dl.deeplearning import ResNetClassifier\n",
    "import pickle\n",
    "\n",
    "figure_path = module_path + '/figures/'"
   ]
  },
  {
   "cell_type": "code",
   "execution_count": 6,
   "metadata": {},
   "outputs": [],
   "source": [
    "with open(module_path + '/src/adil_TSC_test/pickle/true_ResNet.pkl','rb') as f:\n",
    "    y_test = pickle.load(f)\n",
    "with open(module_path + '/src/adil_TSC_test/pickle/pred_ResNet.pkl','rb') as f:\n",
    "    y_pred = pickle.load(f)"
   ]
  },
  {
   "cell_type": "code",
   "execution_count": 7,
   "metadata": {
    "scrolled": true
   },
   "outputs": [
    {
     "data": {
      "text/plain": [
       "'f.set_size_inches(10, 10)\\n\\nfor item in ([ax.title, ax.xaxis.label, ax.yaxis.label] +\\n             ax.get_xticklabels() + ax.get_yticklabels()):\\n    item.set_fontsize(15)'"
      ]
     },
     "execution_count": 7,
     "metadata": {},
     "output_type": "execute_result"
    },
    {
     "data": {
      "image/png": "[encoded data removed]",
      "text/plain": [
       "<Figure size 216x216 with 2 Axes>"
      ]
     },
     "metadata": {
      "needs_background": "light"
     },
     "output_type": "display_data"
    }
   ],
   "source": [
    "classes = np.unique(y_test)\n",
    "f, ax = utility.plot_cm(y_test, y_pred, module_path = module_path, class_names = classes, color_index = 4)\n",
    "\n",
    "f.savefig(figure_path + f'TSC/cm_uit_resnet_5s.pdf', bbox_inches='tight')\n",
    "\n",
    "\n",
    "'''f.set_size_inches(10, 10)\n",
    "\n",
    "for item in ([ax.title, ax.xaxis.label, ax.yaxis.label] +\n",
    "             ax.get_xticklabels() + ax.get_yticklabels()):\n",
    "    item.set_fontsize(15)'''"
   ]
  },
  {
   "cell_type": "code",
   "execution_count": 3,
   "metadata": {},
   "outputs": [],
   "source": [
    "X_train, y_train_ = load_from_tsfile_to_dataframe(module_path + f'/data/ts_files/UiT_5s_TRAIN.ts')\n",
    "X_test, y_test_ = load_from_tsfile_to_dataframe(module_path + f'/data/ts_files/UiT_5s_TEST.ts')\n",
    "X_val, y_val_ = load_from_tsfile_to_dataframe(module_path + f'/data/ts_files/UiT_5s_VAL.ts')"
   ]
  },
  {
   "cell_type": "code",
   "execution_count": 5,
   "metadata": {},
   "outputs": [],
   "source": [
    "def change_labels(y):\n",
    "    y_new = y.copy()\n",
    "\n",
    "    y_new[y_new == 'exp_wheeze'] = 'wheeze'\n",
    "    y_new[y_new == 'insp_wheeze'] = 'wheeze'\n",
    "    \n",
    "    y_new[y_new == 'exp_crackle'] = 'crackle'\n",
    "    y_new[y_new == 'insp_crackle'] = 'crackle'\n",
    "    \n",
    "    return y_new\n",
    "\n",
    "y_train = change_labels(y_train_)\n",
    "y_test = change_labels(y_test_)\n",
    "y_val = change_labels(y_val_)"
   ]
  },
  {
   "cell_type": "code",
   "execution_count": 12,
   "metadata": {},
   "outputs": [],
   "source": [
    "X_train = np.concatenate([X_train, X_val])\n",
    "y_train = np.concatenate([y_train, y_val])"
   ]
  },
  {
   "cell_type": "code",
   "execution_count": 17,
   "metadata": {},
   "outputs": [
    {
     "data": {
      "text/plain": [
       "array(['normal', 'normal', 'normal', ..., 'crackle', 'crackle', 'crackle'],\n",
       "      dtype='<U12')"
      ]
     },
     "execution_count": 17,
     "metadata": {},
     "output_type": "execute_result"
    }
   ],
   "source": [
    "network = ResNetClassifier(nb_epochs=1, verbose=True)\n",
    "network.fit(X_train, y_train)\n",
    "y_pred = network.predict(X_test)"
   ]
  }
 ],
 "metadata": {
  "kernelspec": {
   "display_name": "Python 3",
   "language": "python",
   "name": "python3"
  },
  "language_info": {
   "codemirror_mode": {
    "name": "ipython",
    "version": 3
   },
   "file_extension": ".py",
   "mimetype": "text/x-python",
   "name": "python",
   "nbconvert_exporter": "python",
   "pygments_lexer": "ipython3",
   "version": "3.7.0"
  }
 },
 "nbformat": 4,
 "nbformat_minor": 5
}
