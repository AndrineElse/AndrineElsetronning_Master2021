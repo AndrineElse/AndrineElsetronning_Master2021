{
 "cells": [
  {
   "cell_type": "markdown",
   "metadata": {},
   "source": [
    "# Testing different kinds of models\n",
    " "
   ]
  },
  {
   "cell_type": "code",
   "execution_count": 1,
   "metadata": {},
   "outputs": [],
   "source": [
    "import sys\n",
    "import os\n",
    "\n",
    "module_path = os.path.abspath(os.path.join('..'))\n",
    "sys.path.insert(1, module_path)\n",
    "import utility\n",
    "\n",
    "import pandas as pd\n",
    "\n",
    "from sklearn.model_selection import train_test_split\n",
    "from sklearn.metrics import classification_report\n",
    "from sklearn.model_selection import GridSearchCV \n",
    "from sklearn.neighbors import KNeighborsClassifier\n",
    "from sklearn.svm import SVC\n",
    "from sklearn.neural_network import MLPClassifier\n",
    "from sklearn.ensemble import RandomForestClassifier\n",
    "from sklearn.metrics import classification_report"
   ]
  },
  {
   "cell_type": "markdown",
   "metadata": {},
   "source": [
    "## Code to run grid search on different combinations of classifiers"
   ]
  },
  {
   "cell_type": "code",
   "execution_count": 2,
   "metadata": {},
   "outputs": [],
   "source": [
    "def get_KNN_grid():\n",
    "    leaf_size = list(range(1,5))\n",
    "    n_neighbors = list(range(1,3))\n",
    "    p=[1,2]\n",
    "    hyperparameters = dict(leaf_size=leaf_size, n_neighbors=n_neighbors, p=p)\n",
    "    knn= KNeighborsClassifier()\n",
    "    return GridSearchCV(knn, hyperparameters, cv=5)\n",
    "def get_SVM_grid():\n",
    "    param_grid = {'C': [0.1, 1, 10, 100, 1000],  \n",
    "              'gamma': [1, 0.1, 0.01, 0.001, 0.0001], \n",
    "              'kernel': ['rbf']}  \n",
    "    return GridSearchCV(SVC(), param_grid, refit = True, verbose = 3, cv = 5) \n",
    "def get_ANN_grid():\n",
    "    parameter_space = {\n",
    "    'hidden_layer_sizes': [(1000,500), (1000,500, 250)],\n",
    "    'activation': [ 'relu'],\n",
    "    'solver': ['adam'],\n",
    "    'alpha': [0.0001, 0.05]}\n",
    "    return GridSearchCV(MLPClassifier(), parameter_space, cv=5)\n",
    "def get_random_forest_grid():\n",
    "    parameters = {\n",
    "    'n_estimators'      : [100,200,300],\n",
    "    'max_depth'         : [8, 10, 12],\n",
    "    'random_state'      : [0]}\n",
    "    return GridSearchCV(RandomForestClassifier(), parameters, cv=5)\n",
    "\n",
    "grids = {\n",
    "    'SVM': get_SVM_grid(),\n",
    "    'KNN': get_KNN_grid(),\n",
    "    'ANN': get_ANN_grid(),\n",
    "    'random_forest': get_random_forest_grid()\n",
    "}"
   ]
  },
  {
   "cell_type": "code",
   "execution_count": 5,
   "metadata": {},
   "outputs": [],
   "source": [
    "decomp_methods = ['noDecomp', 'EMD', 'EEMD', 'DWT',  'EMD_DWT','EEMD_DWT']\n",
    "\n",
    "def run_grid_search(classifier, decomp_methods = decomp_methods):\n",
    "    optimal_classifiers = {}\n",
    "    for decomp in decomp_methods:\n",
    "        X, y = utility.get_X_y(decomp, feature_type = 'all')\n",
    "        kwargs = dict(test_size=0.2, random_state=1)\n",
    "        X_train, X_test, y_train, y_test = train_test_split(X, y, **kwargs)\n",
    "        grid = grids[classifier]\n",
    "        grid.fit(X_train, y_train)\n",
    "        optimal_classifiers[decomp] = grid.best_estimator_\n",
    "    return optimal_classifiers"
   ]
  },
  {
   "cell_type": "code",
   "execution_count": 7,
   "metadata": {},
   "outputs": [],
   "source": [
    "classifiers = run_grid_search('random_forest', decomp_methods = ['noDecomp'])"
   ]
  },
  {
   "cell_type": "markdown",
   "metadata": {},
   "source": [
    "## Supervised learning"
   ]
  },
  {
   "cell_type": "code",
   "execution_count": null,
   "metadata": {},
   "outputs": [],
   "source": [
    "def get_predicitions(classifier, decomp = 'noDecomp', feature_type = 'all'):\n",
    "    X, y =  utility.get_X_y(decomp, feature_type, normal = True,\n",
    "            fs_filter = False,\n",
    "            fs_auto_encoder = False,\n",
    "            fs_pca = False, k = 10)\n",
    "    kwargs = dict(test_size=0.2, random_state=1)\n",
    "    X_train, X_test, y_train, y_test = train_test_split(X, y, **kwargs)\n",
    "    classifier.fit(X_train, y_train) \n",
    "    return clf.predict(X_test)\n",
    "\n",
    "y_pred = get_predictions(classifiers[])\n",
    "rep = classification_report(y_test, y_pred, output_dict=True)"
   ]
  }
 ],
 "metadata": {
  "kernelspec": {
   "display_name": "Python 3",
   "language": "python",
   "name": "python3"
  },
  "language_info": {
   "codemirror_mode": {
    "name": "ipython",
    "version": 3
   },
   "file_extension": ".py",
   "mimetype": "text/x-python",
   "name": "python",
   "nbconvert_exporter": "python",
   "pygments_lexer": "ipython3",
   "version": "3.7.8"
  }
 },
 "nbformat": 4,
 "nbformat_minor": 4
}
