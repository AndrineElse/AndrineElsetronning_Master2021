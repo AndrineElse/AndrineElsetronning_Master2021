{
 "cells": [
  {
   "cell_type": "markdown",
   "id": "wooden-cleaning",
   "metadata": {},
   "source": [
    "# Testing bootstrapped ensemble test-set filter on MiniROCKET feature-set"
   ]
  },
  {
   "cell_type": "code",
   "execution_count": 1,
   "id": "fossil-carol",
   "metadata": {},
   "outputs": [],
   "source": [
    "import numpy as np\n",
    "import pandas as pd\n",
    "import os\n",
    "import sys\n",
    "module_path = os.path.abspath(os.path.join('../..'))\n",
    "\n",
    "sys.path.insert(1, module_path + '/src')\n",
    "import utility\n",
    "\n",
    "sys.path.insert(1, module_path + '/src/models')\n",
    "import bootstrapped_ensemble_lr_filter as BE_LR_filter\n",
    "\n",
    "\n",
    "from sklearn.neighbors import KNeighborsClassifier\n",
    "from sklearn.naive_bayes import GaussianNB\n",
    "from sklearn.feature_selection import SelectKBest, chi2\n",
    "from sklearn.preprocessing import MinMaxScaler\n",
    "from time import time\n",
    "from sktime.utils.data_io import load_from_tsfile_to_dataframe\n",
    "from sktime.utils.data_processing import from_nested_to_2d_array"
   ]
  },
  {
   "cell_type": "markdown",
   "id": "muslim-investigation",
   "metadata": {},
   "source": [
    "# Load data, and select features"
   ]
  },
  {
   "cell_type": "code",
   "execution_count": 2,
   "id": "private-toner",
   "metadata": {},
   "outputs": [],
   "source": [
    "X_train, y_train = load_from_tsfile_to_dataframe(module_path + '/features/extracted_features_ts_files/lungsound_MiniROCKET_TRAIN.ts')\n",
    "\n",
    "X_test, y_test = load_from_tsfile_to_dataframe(module_path + '/features/extracted_features_ts_files/lungsound_MiniROCKET_TEST.ts')\n"
   ]
  },
  {
   "cell_type": "code",
   "execution_count": 3,
   "id": "intermediate-donor",
   "metadata": {
    "scrolled": true
   },
   "outputs": [],
   "source": [
    "from sklearn.model_selection import train_test_split\n",
    "\n",
    "X_train = from_nested_to_2d_array(X_train)\n",
    "X_test = from_nested_to_2d_array(X_test)\n",
    "\n",
    "y_test = y_test.astype(int)\n",
    "y_train = y_train.astype(int)\n",
    "\n",
    "X_train.columns = np.arange(len(X_train.columns))\n",
    "X_test.columns = np.arange(len(X_test.columns))\n",
    "\n",
    "X_train.head(10)\n",
    "\n",
    "\n",
    "y_train = pd.Series(y_train)\n",
    "y_test = pd.Series(y_test)\n",
    "\n",
    "X_train, X_val, y_train, y_val = train_test_split(X_train, y_train, test_size=0.2, random_state=42)"
   ]
  },
  {
   "cell_type": "markdown",
   "id": "unavailable-ivory",
   "metadata": {},
   "source": [
    "### Function below addes noise to the dataset--> for testing"
   ]
  },
  {
   "cell_type": "code",
   "execution_count": 97,
   "id": "indian-cycling",
   "metadata": {
    "scrolled": true
   },
   "outputs": [],
   "source": [
    "from sklearn.preprocessing import MinMaxScaler\n",
    "\n",
    "X_train, n_train = add_noise_dataset(X_train)\n",
    "X_test, n_test= add_noise_dataset(X_test)\n",
    "\n",
    "scaler = MinMaxScaler()\n",
    "scaler.fit(X_train)\n",
    "X_train = pd.DataFrame(scaler.transform(X_train))\n",
    "X_test = pd.DataFrame(scaler.transform(X_test))"
   ]
  },
  {
   "cell_type": "markdown",
   "id": "industrial-pixel",
   "metadata": {},
   "source": [
    "### feature selection based on SelectKBest"
   ]
  },
  {
   "cell_type": "code",
   "execution_count": 4,
   "id": "focal-dependence",
   "metadata": {
    "scrolled": true
   },
   "outputs": [],
   "source": [
    "k = 200\n",
    "select = SelectKBest(chi2, k=k)\n",
    "X_train_s = select.fit(X_train, y_train)\n",
    "indices = select.get_support(indices = True)\n",
    "X_test = X_test[indices]\n",
    "\n",
    "X_train = X_train[indices]\n",
    "\n",
    "X_val = X_val[indices]"
   ]
  },
  {
   "cell_type": "markdown",
   "id": "pursuant-prison",
   "metadata": {},
   "source": [
    "# Testing double classifier approach with filtering based on Logistic Regression"
   ]
  },
  {
   "cell_type": "markdown",
   "id": "every-reform",
   "metadata": {},
   "source": [
    "### Hyperparameter search for double classifier\n",
    "\n",
    "The hyperparameters are number of **folds = f** which the training dataset will be devided into, in order to make **f** ensemble classifiers. The other hyperparameter is **threshold**, which is the number of ensembles that classify an example as probably incorrect, before the sample will be removed from the testing set."
   ]
  },
  {
   "cell_type": "code",
   "execution_count": 5,
   "id": "planned-wagon",
   "metadata": {},
   "outputs": [
    {
     "name": "stdout",
     "output_type": "stream",
     "text": [
      "Testing fold = 5, and threshold = 2\n",
      "Testing fold = 7, and threshold = 2\n",
      "Testing fold = 10, and threshold = 2\n",
      "Testing fold = 5, and threshold = 4\n",
      "Testing fold = 7, and threshold = 4\n",
      "Testing fold = 10, and threshold = 4\n",
      "Testing fold = 7, and threshold = 6\n",
      "Testing fold = 10, and threshold = 6\n"
     ]
    }
   ],
   "source": [
    "k_range = list(range(1,8))\n",
    "weight_options = [\"uniform\", \"distance\"]\n",
    "grid = dict(n_neighbors = k_range, weights = weight_options)\n",
    "\n",
    "clf = KNeighborsClassifier()\n",
    "\n",
    "clf_dict = {\n",
    "    'knn': KNeighborsClassifier(leaf_size=1, n_neighbors=1, p=1),\n",
    "    'knnOptimal': clf,\n",
    "    'nb':  GaussianNB()\n",
    "}\n",
    "\n",
    "grid_dict = {\n",
    "    'knnOptimal': grid\n",
    "}\n",
    "\n",
    "thresh_list = [2,4,6]\n",
    "folds_list = [5, 7, 10]\n",
    "\n",
    "\n",
    "param_dict = BE_LR_filter.hyperparam_search(X_train,y_train, X_val, y_val, clf_dict, grid_dict = grid_dict, thresh_list = thresh_list, folds_list = folds_list)"
   ]
  },
  {
   "cell_type": "markdown",
   "id": "moderate-storage",
   "metadata": {},
   "source": [
    "## Testing with the optimal hyperparameters"
   ]
  },
  {
   "cell_type": "code",
   "execution_count": 6,
   "id": "taken-villa",
   "metadata": {
    "scrolled": true
   },
   "outputs": [
    {
     "name": "stdout",
     "output_type": "stream",
     "text": [
      "{'knn': {'threshold': 2, 'folds': 10}, 'knnOptimal': {'threshold': 2, 'folds': 10}, 'nb': {'threshold': 2, 'folds': 10}}\n",
      "{'knn': KNeighborsClassifier(leaf_size=1, n_neighbors=1, p=1), 'knnOptimal': KNeighborsClassifier(n_neighbors=6), 'nb': GaussianNB()}\n"
     ]
    }
   ],
   "source": [
    "print(param_dict)\n",
    "print(clf_dict)"
   ]
  },
  {
   "cell_type": "code",
   "execution_count": 7,
   "id": "colonial-absolute",
   "metadata": {},
   "outputs": [],
   "source": [
    "dict_results, indices = BE_LR_filter.compare_classifiers(X_train,y_train, X_test, y_test, clf_dict, param_dict = param_dict)"
   ]
  },
  {
   "cell_type": "code",
   "execution_count": 9,
   "id": "comparable-cable",
   "metadata": {},
   "outputs": [
    {
     "data": {
      "text/plain": [
       "{'knn': {'original': 0.6502699460107978, 'filtered': 0.7568058076225045},\n",
       " 'knnOptimal': {'original': 0.6796640671865627, 'filtered': 0.793400286944046},\n",
       " 'nb': {'original': 0.5716856628674265, 'filtered': 0.7595628415300546}}"
      ]
     },
     "execution_count": 9,
     "metadata": {},
     "output_type": "execute_result"
    }
   ],
   "source": [
    "dict_results"
   ]
  },
  {
   "cell_type": "code",
   "execution_count": 8,
   "id": "expensive-formation",
   "metadata": {},
   "outputs": [
    {
     "name": "stdout",
     "output_type": "stream",
     "text": [
      "Percentage deleted of the total amount: 0.6694661067786443\n",
      "Percentage deleted of the total amount: 0.5818836232753449\n",
      "Percentage deleted of the total amount: 0.5608878224355129\n"
     ]
    }
   ],
   "source": [
    "for name, i in indices.items():\n",
    "    print(f'Percentage deleted of the total amount: {1 - len(i)/len(X_test)}')"
   ]
  }
 ],
 "metadata": {
  "kernelspec": {
   "display_name": "Python 3",
   "language": "python",
   "name": "python3"
  },
  "language_info": {
   "codemirror_mode": {
    "name": "ipython",
    "version": 3
   },
   "file_extension": ".py",
   "mimetype": "text/x-python",
   "name": "python",
   "nbconvert_exporter": "python",
   "pygments_lexer": "ipython3",
   "version": "3.7.9"
  }
 },
 "nbformat": 4,
 "nbformat_minor": 5
}
