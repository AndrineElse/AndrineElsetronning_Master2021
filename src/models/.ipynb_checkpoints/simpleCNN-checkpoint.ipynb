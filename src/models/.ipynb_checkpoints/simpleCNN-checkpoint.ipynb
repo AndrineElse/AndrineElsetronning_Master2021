{
 "cells": [
  {
   "cell_type": "markdown",
   "id": "forbidden-windows",
   "metadata": {},
   "source": [
    "https://medium.com/@Rehan_Sayyad/how-to-use-convolutional-neural-networks-for-time-series-classification-80575131a474\n",
    "\n",
    "https://machinelearningmastery.com/cnn-models-for-human-activity-recognition-time-series-classification/"
   ]
  },
  {
   "cell_type": "code",
   "execution_count": null,
   "id": "amended-projector",
   "metadata": {},
   "outputs": [],
   "source": [
    "import keras\n",
    "from keras.models import Model\n",
    "from keras.models import Sequential\n",
    "from keras.layers import Convolution1D, ZeroPadding1D, MaxPooling1D, BatchNormalization, Activation, Dropout, Flatten, Dense"
   ]
  },
  {
   "cell_type": "code",
   "execution_count": null,
   "id": "lonely-romance",
   "metadata": {},
   "outputs": [],
   "source": [
    "x_train = x_train.reshape(x_train.shape[0],x_train.shape[1], 1)\n",
    "x_test = x_test.reshape(x_test.shape[0],x_test.shape[1], 1)\n",
    "\n",
    "batch_size = 256\n",
    "num_classes = 3\n",
    "epochs = 100\n",
    "input_shape=(x_train.shape[1], 1)"
   ]
  },
  {
   "cell_type": "code",
   "execution_count": null,
   "id": "republican-argument",
   "metadata": {},
   "outputs": [],
   "source": [
    "model = Sequential()\n",
    "intput_shape=(x_train.shape[1], 1)\n",
    "model.add(Conv1D(128, kernel_size=3,padding = ‘same’,activation=’relu’, input_shape=input_shape))\n",
    "model.add(BatchNormalization())\n",
    "model.add(MaxPooling1D(pool_size=(2)))\n",
    "model.add(Conv1D(128,kernel_size=3,padding = ‘same’, activation=’relu’))\n",
    "model.add(BatchNormalization())\n",
    "model.add(MaxPooling1D(pool_size=(2)))\n",
    "model.add(Flatten())\n",
    "model.add(Dense(64, activation=’tanh’))\n",
    "model.add(Dropout(0.2))\n",
    "model.add(Dense(32, activation=’tanh’))\n",
    "model.add(Dropout(0.2))\n",
    "model.add(Dense(16, activation=’relu’))\n",
    "model.add(Dropout(0.2))\n",
    "model.add(Dense(num_classes, activation=’softmax’))\n",
    "model.summary()"
   ]
  },
  {
   "cell_type": "code",
   "execution_count": null,
   "id": "accessory-pasta",
   "metadata": {},
   "outputs": [],
   "source": [
    "model = Sequential()\n",
    "model.add(Conv1D(filters=64, kernel_size=20, activation='relu', input_shape=(n_timesteps,1)))\n",
    "model.add(Conv1D(filters=64, kernel_size=3, activation='relu'))\n",
    "model.add(Dropout(0.5))\n",
    "model.add(MaxPooling1D(pool_size=2))\n",
    "model.add(Flatten())\n",
    "model.add(Dense(100, activation='relu'))\n",
    "model.add(Dense(n_outputs, activation='softmax'))\n",
    "model.compile(loss='categorical_crossentropy', optimizer='adam', metrics=['accuracy'])"
   ]
  },
  {
   "cell_type": "code",
   "execution_count": null,
   "id": "lovely-latin",
   "metadata": {},
   "outputs": [],
   "source": [
    "model.add(Conv1D(filters=64, kernel_size=2, activation='relu', input_shape=(n_steps, 1)))\n",
    "model.add(MaxPooling1D(pool_size=2))\n",
    "model.add(Flatten())\n",
    "model.add(Dense(50, activation='relu'))\n",
    "model.add(Dense(1))\n",
    "model.compile(optimizer='adam', loss='mse')"
   ]
  }
 ],
 "metadata": {
  "kernelspec": {
   "display_name": "Python 3",
   "language": "python",
   "name": "python3"
  },
  "language_info": {
   "codemirror_mode": {
    "name": "ipython",
    "version": 3
   },
   "file_extension": ".py",
   "mimetype": "text/x-python",
   "name": "python",
   "nbconvert_exporter": "python",
   "pygments_lexer": "ipython3",
   "version": "3.7.9"
  }
 },
 "nbformat": 4,
 "nbformat_minor": 5
}
