{
 "cells": [
  {
   "cell_type": "code",
   "execution_count": 34,
   "id": "automatic-asbestos",
   "metadata": {},
   "outputs": [
    {
     "name": "stdout",
     "output_type": "stream",
     "text": [
      "data  features\tsrc  Testing_state_of_the_art_timeseries_analysis.ipynb\r\n"
     ]
    }
   ],
   "source": [
    "!ls"
   ]
  },
  {
   "cell_type": "code",
   "execution_count": 10,
   "id": "norwegian-luther",
   "metadata": {},
   "outputs": [
    {
     "data": {
      "text/plain": [
       "'/home/andrine/Desktop/AndrineElsetronning_Master2021'"
      ]
     },
     "execution_count": 10,
     "metadata": {},
     "output_type": "execute_result"
    }
   ],
   "source": [
    "module_path"
   ]
  },
  {
   "cell_type": "code",
   "execution_count": 13,
   "id": "latin-elite",
   "metadata": {},
   "outputs": [],
   "source": [
    "import sys\n",
    "import os\n",
    "\n",
    "module_path = os.path.abspath(os.path.join(''))\n",
    "src_path = module_path + '/src/'\n",
    "data_path = module_path + '/data/'\n",
    "sys.path.insert(1, src_path)\n",
    "import utility\n",
    "import random"
   ]
  },
  {
   "cell_type": "code",
   "execution_count": 18,
   "id": "imposed-plant",
   "metadata": {},
   "outputs": [],
   "source": [
    "TARGET_RATE = 41000\n",
    "N_SAMPLES = 10"
   ]
  },
  {
   "cell_type": "code",
   "execution_count": 19,
   "id": "suffering-joining",
   "metadata": {},
   "outputs": [],
   "source": [
    "random.seed(20)\n",
    "filepath1 = data_path + 'crackle/'\n",
    "filepath2 = data_path + 'no-crackle/'\n",
    "# Assumes that the data beloning to a label is saved in seperate directories \n",
    "label1 = os.listdir(filepath1) \n",
    "label2 = os.listdir(filepath2)\n",
    "\n",
    "label1_idx = random.sample(range(len(label1)), N_SAMPLES)\n",
    "label2_idx = random.sample(range(len(label1)), N_SAMPLES)"
   ]
  },
  {
   "cell_type": "code",
   "execution_count": 27,
   "id": "fluid-chess",
   "metadata": {},
   "outputs": [],
   "source": [
    "sr, y = utility.read_wav_file(filepath1 + label1[0], TARGET_RATE)\n",
    "y = utility.denoise_audio(y)\n",
    "y, sr = utility.downsample(y, sr)"
   ]
  },
  {
   "cell_type": "code",
   "execution_count": 33,
   "id": "polar-calibration",
   "metadata": {},
   "outputs": [
    {
     "data": {
      "text/plain": [
       "857"
      ]
     },
     "execution_count": 33,
     "metadata": {},
     "output_type": "execute_result"
    }
   ],
   "source": [
    "len(y)//30"
   ]
  },
  {
   "cell_type": "markdown",
   "id": "athletic-ocean",
   "metadata": {},
   "source": [
    "# Testing out sktime"
   ]
  },
  {
   "cell_type": "code",
   "execution_count": 24,
   "id": "intense-marketplace",
   "metadata": {},
   "outputs": [],
   "source": [
    "from sktime.classification.all import *\n",
    "from sklearn.model_selection import train_test_split\n",
    "from sklearn.metrics import accuracy_score\n",
    "X, y = load_arrow_head(return_X_y=True)\n",
    "X_train, X_test, y_train, y_test = train_test_split(X, y)\n",
    "classifier = TimeSeriesForest()"
   ]
  },
  {
   "cell_type": "code",
   "execution_count": 25,
   "id": "defined-desert",
   "metadata": {
    "scrolled": true
   },
   "outputs": [
    {
     "data": {
      "text/html": [
       "<div>\n",
       "<style scoped>\n",
       "    .dataframe tbody tr th:only-of-type {\n",
       "        vertical-align: middle;\n",
       "    }\n",
       "\n",
       "    .dataframe tbody tr th {\n",
       "        vertical-align: top;\n",
       "    }\n",
       "\n",
       "    .dataframe thead th {\n",
       "        text-align: right;\n",
       "    }\n",
       "</style>\n",
       "<table border=\"1\" class=\"dataframe\">\n",
       "  <thead>\n",
       "    <tr style=\"text-align: right;\">\n",
       "      <th></th>\n",
       "      <th>dim_0</th>\n",
       "    </tr>\n",
       "  </thead>\n",
       "  <tbody>\n",
       "    <tr>\n",
       "      <th>0</th>\n",
       "      <td>0     -1.9630\n",
       "1     -1.9578\n",
       "2     -1.9561\n",
       "3   ...</td>\n",
       "    </tr>\n",
       "    <tr>\n",
       "      <th>1</th>\n",
       "      <td>0     -1.7746\n",
       "1     -1.7740\n",
       "2     -1.7766\n",
       "3   ...</td>\n",
       "    </tr>\n",
       "    <tr>\n",
       "      <th>2</th>\n",
       "      <td>0     -1.8660\n",
       "1     -1.8420\n",
       "2     -1.8350\n",
       "3   ...</td>\n",
       "    </tr>\n",
       "    <tr>\n",
       "      <th>3</th>\n",
       "      <td>0     -2.0738\n",
       "1     -2.0733\n",
       "2     -2.0446\n",
       "3   ...</td>\n",
       "    </tr>\n",
       "    <tr>\n",
       "      <th>4</th>\n",
       "      <td>0     -1.7463\n",
       "1     -1.7413\n",
       "2     -1.7227\n",
       "3   ...</td>\n",
       "    </tr>\n",
       "    <tr>\n",
       "      <th>...</th>\n",
       "      <td>...</td>\n",
       "    </tr>\n",
       "    <tr>\n",
       "      <th>170</th>\n",
       "      <td>0     -1.6251\n",
       "1     -1.6230\n",
       "2     -1.6261\n",
       "3   ...</td>\n",
       "    </tr>\n",
       "    <tr>\n",
       "      <th>171</th>\n",
       "      <td>0     -1.6578\n",
       "1     -1.6647\n",
       "2     -1.6326\n",
       "3   ...</td>\n",
       "    </tr>\n",
       "    <tr>\n",
       "      <th>172</th>\n",
       "      <td>0     -1.6033\n",
       "1     -1.5874\n",
       "2     -1.5774\n",
       "3   ...</td>\n",
       "    </tr>\n",
       "    <tr>\n",
       "      <th>173</th>\n",
       "      <td>0     -1.7390\n",
       "1     -1.7415\n",
       "2     -1.7329\n",
       "3   ...</td>\n",
       "    </tr>\n",
       "    <tr>\n",
       "      <th>174</th>\n",
       "      <td>0     -1.6307\n",
       "1     -1.6299\n",
       "2     -1.6206\n",
       "3   ...</td>\n",
       "    </tr>\n",
       "  </tbody>\n",
       "</table>\n",
       "<p>211 rows × 1 columns</p>\n",
       "</div>"
      ],
      "text/plain": [
       "                                                 dim_0\n",
       "0    0     -1.9630\n",
       "1     -1.9578\n",
       "2     -1.9561\n",
       "3   ...\n",
       "1    0     -1.7746\n",
       "1     -1.7740\n",
       "2     -1.7766\n",
       "3   ...\n",
       "2    0     -1.8660\n",
       "1     -1.8420\n",
       "2     -1.8350\n",
       "3   ...\n",
       "3    0     -2.0738\n",
       "1     -2.0733\n",
       "2     -2.0446\n",
       "3   ...\n",
       "4    0     -1.7463\n",
       "1     -1.7413\n",
       "2     -1.7227\n",
       "3   ...\n",
       "..                                                 ...\n",
       "170  0     -1.6251\n",
       "1     -1.6230\n",
       "2     -1.6261\n",
       "3   ...\n",
       "171  0     -1.6578\n",
       "1     -1.6647\n",
       "2     -1.6326\n",
       "3   ...\n",
       "172  0     -1.6033\n",
       "1     -1.5874\n",
       "2     -1.5774\n",
       "3   ...\n",
       "173  0     -1.7390\n",
       "1     -1.7415\n",
       "2     -1.7329\n",
       "3   ...\n",
       "174  0     -1.6307\n",
       "1     -1.6299\n",
       "2     -1.6206\n",
       "3   ...\n",
       "\n",
       "[211 rows x 1 columns]"
      ]
     },
     "execution_count": 25,
     "metadata": {},
     "output_type": "execute_result"
    }
   ],
   "source": [
    "X"
   ]
  }
 ],
 "metadata": {
  "kernelspec": {
   "display_name": "Python 3",
   "language": "python",
   "name": "python3"
  },
  "language_info": {
   "codemirror_mode": {
    "name": "ipython",
    "version": 3
   },
   "file_extension": ".py",
   "mimetype": "text/x-python",
   "name": "python",
   "nbconvert_exporter": "python",
   "pygments_lexer": "ipython3",
   "version": "3.7.9"
  }
 },
 "nbformat": 4,
 "nbformat_minor": 5
}
