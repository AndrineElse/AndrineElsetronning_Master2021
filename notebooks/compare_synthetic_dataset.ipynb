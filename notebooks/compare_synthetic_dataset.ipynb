{
 "cells": [
  {
   "cell_type": "markdown",
   "metadata": {},
   "source": [
    "# Generalized workflow for feature extraction"
   ]
  },
  {
   "cell_type": "code",
   "execution_count": 1,
   "metadata": {},
   "outputs": [],
   "source": [
    "import sys\n",
    "import os\n",
    "import pandas as pd\n",
    "import numpy as np\n",
    "\n",
    "module_path = os.path.abspath(os.path.join('..'))\n",
    "\n",
    "sys.path.insert(1, module_path + '/src')\n",
    "import audio_time_series_classification as preproject\n",
    "import utility\n",
    "\n",
    "sys.path.insert(1, module_path + '/src/models/')\n",
    "import helper\n",
    "\n",
    "from sklearn.decomposition import PCA\n",
    "from sktime.utils.data_io import load_from_tsfile_to_dataframe\n",
    "from sklearn.feature_selection import SelectKBest, chi2\n",
    "from sktime.utils.data_processing import from_nested_to_2d_array\n",
    "from sklearn.model_selection import train_test_split\n",
    "from sklearn import preprocessing\n",
    "\n",
    "import matplotlib.pyplot as plt\n",
    "from sklearn.cross_decomposition import PLSRegression\n",
    "\n",
    "from sklearn.preprocessing import MinMaxScaler\n",
    "from sklearn.model_selection import train_test_split\n",
    "\n",
    "from sklearn.neighbors import KNeighborsClassifier\n",
    "from sklearn.naive_bayes import GaussianNB\n",
    "from sklearn.model_selection import GridSearchCV\n",
    "from sklearn.gaussian_process import GaussianProcessClassifier\n",
    "from sklearn.gaussian_process.kernels import RBF\n",
    "from sklearn.svm import SVC\n",
    "from sklearn.utils import shuffle\n",
    "\n",
    "figure_path = module_path + '/figures/'"
   ]
  },
  {
   "cell_type": "code",
   "execution_count": 2,
   "metadata": {
    "scrolled": true
   },
   "outputs": [],
   "source": [
    "X_train, y_train = load_from_tsfile_to_dataframe(module_path + f'/features/extracted_ts_files/UiT_synthetic_5s_TRAIN.ts')\n",
    "X_test, y_test = load_from_tsfile_to_dataframe(module_path + f'/features/extracted_ts_files/UiT_synthetic_5s_TEST.ts')\n",
    "X_val, y_val = load_from_tsfile_to_dataframe(module_path + f'/features/extracted_ts_files/UiT_synthetic_5s_VAL.ts')\n",
    "X_train, y_train = shuffle(X_train, y_train, random_state = 42)\n",
    "\n",
    "\n",
    "X_train, X_test, X_val = from_nested_to_2d_array(X_train), from_nested_to_2d_array(X_test), from_nested_to_2d_array(X_val)\n",
    "\n",
    "cols = np.arange(len(X_test.columns))\n",
    "X_train.columns, X_test.columns, X_val.columns = cols, cols, cols\n",
    "\n",
    "y_train, y_test, y_val = pd.Series(y_train), pd.Series(y_test), pd.Series(y_val)\n",
    "\n",
    "scaler = MinMaxScaler()\n",
    "scaler.fit(X_train)\n",
    "X_train = pd.DataFrame(scaler.transform(X_train)) \n",
    "X_val = pd.DataFrame(scaler.transform(X_val)) \n",
    "X_test = pd.DataFrame(scaler.transform(X_test)) "
   ]
  },
  {
   "cell_type": "markdown",
   "metadata": {},
   "source": [
    "## Simple classification"
   ]
  },
  {
   "cell_type": "code",
   "execution_count": 7,
   "metadata": {},
   "outputs": [],
   "source": [
    "from sklearn.neighbors import KNeighborsClassifier\n",
    "\n",
    "k_range = list(range(1, 10))\n",
    "param_grid = dict(n_neighbors=k_range)\n",
    "grid = GridSearchCV(KNeighborsClassifier(), param_grid, cv=10, scoring='accuracy').fit(X_train, y_train)"
   ]
  },
  {
   "cell_type": "code",
   "execution_count": 18,
   "metadata": {},
   "outputs": [
    {
     "data": {
      "image/png": "[encoded data removed]",
      "text/plain": [
       "<Figure size 216x216 with 2 Axes>"
      ]
     },
     "metadata": {
      "needs_background": "light"
     },
     "output_type": "display_data"
    }
   ],
   "source": [
    "clf = grid.best_estimator_\n",
    "clf.fit(X_train , y_train)\n",
    "y_pred = clf.predict(X_test)\n",
    "\n",
    "f, ax = utility.plot_cm(y_test , y_pred, module_path = module_path, class_names = class_names)\n",
    "\n",
    "f.savefig(figure_path + f'synthetic_compare/synthetic_200Hz_250ms_5s.pdf', bbox_inches='tight')"
   ]
  },
  {
   "cell_type": "markdown",
   "metadata": {},
   "source": [
    "# CNN"
   ]
  },
  {
   "cell_type": "code",
   "execution_count": 3,
   "metadata": {},
   "outputs": [],
   "source": [
    "from keras.utils import np_utils\n",
    "import keras\n",
    "from keras.models import Model\n",
    "from keras.models import Sequential\n",
    "from keras.layers import Conv1D, ZeroPadding1D, MaxPooling1D, BatchNormalization, Activation, Dropout, Flatten, Dense\n"
   ]
  },
  {
   "cell_type": "code",
   "execution_count": 57,
   "metadata": {},
   "outputs": [],
   "source": [
    "X_train, y_train_ = load_from_tsfile_to_dataframe(module_path + f'/data/ts_files/UiT_synthetic_250ms_1000hz_15s_TRAIN.ts')\n",
    "X_test, y_test_ = load_from_tsfile_to_dataframe(module_path + f'/data/ts_files/UiT_synthetic_250ms_1000hz_15s_TEST.ts')\n",
    "X_val, y_val_ = load_from_tsfile_to_dataframe(module_path + f'/data/ts_files/UiT_synthetic_250ms_1000hz_15s_VAL.ts')\n",
    "X_train, y_train_ = shuffle(X_train, y_train_, random_state = 42)\n",
    "\n",
    "X_train, X_test, X_val = from_nested_to_2d_array(X_train), from_nested_to_2d_array(X_test), from_nested_to_2d_array(X_val)\n",
    "\n",
    "cols = np.arange(len(X_test.columns))\n",
    "X_train.columns, X_test.columns, X_val.columns = cols, cols, cols\n",
    "\n",
    "y_train_, y_test_, y_val_ = pd.Series(y_train_), pd.Series(y_test_), pd.Series(y_val_)\n",
    "X_train = X_train.to_numpy()\n",
    "X_test = X_test.to_numpy()\n",
    "X_val = X_val.to_numpy()\n",
    "\n",
    "X_train, y_train_= shuffle(X_train, y_train_, random_state = 42)\n",
    "X_val, y_val_= shuffle(X_val, y_val_, random_state = 42)\n",
    "\n",
    "X_train = X_train.reshape(X_train.shape[0],X_train.shape[1], 1)\n",
    "X_test = X_test.reshape(X_test.shape[0],X_test.shape[1], 1)\n",
    "X_val = X_val.reshape(X_val.shape[0],X_val.shape[1], 1)"
   ]
  },
  {
   "cell_type": "code",
   "execution_count": 58,
   "metadata": {},
   "outputs": [],
   "source": [
    "le = preprocessing.LabelEncoder()\n",
    "\n",
    "le.fit(y_train_)\n",
    "num_classes = len(le.classes_)\n",
    "y_train = le.transform(y_train_)\n",
    "y_test = le.transform(y_test_)\n",
    "y_val = le.transform(y_val_)\n",
    "\n",
    "y_train = np_utils.to_categorical(y_train, num_classes = num_classes)\n",
    "y_test = np_utils.to_categorical(y_test, num_classes = num_classes)\n",
    "y_val = np_utils.to_categorical(y_val, num_classes = num_classes)"
   ]
  },
  {
   "cell_type": "code",
   "execution_count": 63,
   "metadata": {},
   "outputs": [],
   "source": [
    "batch_size = 100\n",
    "epochs = 10\n",
    "input_shape=(X_train.shape[1], 1)\n",
    "\n",
    "\n",
    "model = Sequential()\n",
    "\n",
    "model.add(Conv1D(filters=30, kernel_size=20, activation='relu', input_shape=input_shape))\n",
    "#model.add(BatchNormalization()) \n",
    "model.add(MaxPooling1D(pool_size=50))\n",
    "model.add(Flatten())\n",
    "model.add(Dense(1500, activation='relu'))\n",
    "#model.add(Dropout(0.2))\n",
    "#model.add(Dense(500, activation='relu'))\n",
    "#model.add(Dropout(0.2))\n",
    "model.add(Dense(num_classes, activation='softmax'))\n",
    "model.compile(optimizer='adam', loss='binary_crossentropy')"
   ]
  },
  {
   "cell_type": "code",
   "execution_count": 61,
   "metadata": {
    "scrolled": true
   },
   "outputs": [
    {
     "name": "stdout",
     "output_type": "stream",
     "text": [
      "Model: \"sequential_15\"\n",
      "_________________________________________________________________\n",
      "Layer (type)                 Output Shape              Param #   \n",
      "=================================================================\n",
      "conv1d_15 (Conv1D)           (None, 74981, 30)         630       \n",
      "_________________________________________________________________\n",
      "max_pooling1d_15 (MaxPooling (None, 1499, 30)          0         \n",
      "_________________________________________________________________\n",
      "flatten_15 (Flatten)         (None, 44970)             0         \n",
      "_________________________________________________________________\n",
      "dense_34 (Dense)             (None, 1500)              67456500  \n",
      "_________________________________________________________________\n",
      "dense_35 (Dense)             (None, 2)                 3002      \n",
      "=================================================================\n",
      "Total params: 67,460,132\n",
      "Trainable params: 67,460,132\n",
      "Non-trainable params: 0\n",
      "_________________________________________________________________\n"
     ]
    }
   ],
   "source": [
    "model.summary()"
   ]
  },
  {
   "cell_type": "code",
   "execution_count": 64,
   "metadata": {},
   "outputs": [
    {
     "name": "stdout",
     "output_type": "stream",
     "text": [
      "Epoch 1/10\n",
      "38/38 [==============================] - 54s 1s/step - loss: 13.1670 - val_loss: 0.7161\n",
      "Epoch 2/10\n",
      "38/38 [==============================] - 53s 1s/step - loss: 0.6479 - val_loss: 0.7318\n",
      "Epoch 3/10\n",
      "38/38 [==============================] - 53s 1s/step - loss: 0.6162 - val_loss: 0.6969\n",
      "Epoch 4/10\n",
      "38/38 [==============================] - 53s 1s/step - loss: 0.5633 - val_loss: 0.6795\n",
      "Epoch 5/10\n",
      "38/38 [==============================] - 55s 1s/step - loss: 0.5026 - val_loss: 0.7450\n",
      "Epoch 6/10\n",
      "38/38 [==============================] - 55s 1s/step - loss: 0.4621 - val_loss: 0.7158\n",
      "Epoch 7/10\n",
      "38/38 [==============================] - 56s 1s/step - loss: 0.4199 - val_loss: 0.7115\n",
      "Epoch 8/10\n",
      "38/38 [==============================] - 54s 1s/step - loss: 0.3555 - val_loss: 0.6368\n",
      "Epoch 9/10\n",
      "38/38 [==============================] - 54s 1s/step - loss: 0.2803 - val_loss: 0.6585\n",
      "Epoch 10/10\n",
      "38/38 [==============================] - 54s 1s/step - loss: 0.2417 - val_loss: 0.5680\n"
     ]
    },
    {
     "data": {
      "text/plain": [
       "<tensorflow.python.keras.callbacks.History at 0x7f7611b48240>"
      ]
     },
     "execution_count": 64,
     "metadata": {},
     "output_type": "execute_result"
    }
   ],
   "source": [
    "model.fit(X_train, y_train, epochs = epochs,\n",
    "          batch_size = batch_size,\n",
    "          verbose = 1,\n",
    "         validation_data = (X_test, y_test))"
   ]
  },
  {
   "cell_type": "code",
   "execution_count": 40,
   "metadata": {},
   "outputs": [
    {
     "data": {
      "text/plain": [
       "synthetic    5642\n",
       "normal       5641\n",
       "dtype: int64"
      ]
     },
     "execution_count": 40,
     "metadata": {},
     "output_type": "execute_result"
    }
   ],
   "source": [
    "y_train_.value_counts()"
   ]
  },
  {
   "cell_type": "code",
   "execution_count": 68,
   "metadata": {},
   "outputs": [
    {
     "data": {
      "text/plain": [
       "(3761, 75000, 1)"
      ]
     },
     "execution_count": 68,
     "metadata": {},
     "output_type": "execute_result"
    }
   ],
   "source": [
    "X_train.shape"
   ]
  },
  {
   "cell_type": "code",
   "execution_count": 66,
   "metadata": {},
   "outputs": [
    {
     "data": {
      "image/png": "[encoded data removed]",
      "text/plain": [
       "<Figure size 216x216 with 2 Axes>"
      ]
     },
     "metadata": {
      "needs_background": "light"
     },
     "output_type": "display_data"
    }
   ],
   "source": [
    "classes = le.classes_\n",
    "\n",
    "result = model.predict(X_test)\n",
    "y_pred = np.argmax(result, axis = 1)\n",
    "y_true = np.argmax(y_test, axis = 1)\n",
    "\n",
    "f, ax = utility.plot_cm(y_true, y_pred, module_path = module_path, class_names = classes, color_index = 6)"
   ]
  },
  {
   "cell_type": "code",
   "execution_count": 55,
   "metadata": {
    "scrolled": false
   },
   "outputs": [
    {
     "data": {
      "image/png": "[encoded data removed]",
      "text/plain": [
       "<Figure size 216x216 with 2 Axes>"
      ]
     },
     "metadata": {
      "needs_background": "light"
     },
     "output_type": "display_data"
    }
   ],
   "source": [
    "classes = le.classes_\n",
    "\n",
    "result = model.predict(X_test)\n",
    "y_pred = np.argmax(result, axis = 1)\n",
    "y_true = np.argmax(y_test, axis = 1)\n",
    "\n",
    "f, ax = utility.plot_cm(y_true, y_pred, module_path = module_path, class_names = classes, color_index = 6)\n",
    "f.savefig(figure_path + f'synthetic_compare/synthetic_CNN_20ms_400hz_15s.pdf', bbox_inches='tight')"
   ]
  },
  {
   "cell_type": "code",
   "execution_count": null,
   "metadata": {},
   "outputs": [],
   "source": []
  }
 ],
 "metadata": {
  "kernelspec": {
   "display_name": "Python 3",
   "language": "python",
   "name": "python3"
  },
  "language_info": {
   "codemirror_mode": {
    "name": "ipython",
    "version": 3
   },
   "file_extension": ".py",
   "mimetype": "text/x-python",
   "name": "python",
   "nbconvert_exporter": "python",
   "pygments_lexer": "ipython3",
   "version": "3.7.0"
  }
 },
 "nbformat": 4,
 "nbformat_minor": 5
}
