{
 "cells": [
  {
   "cell_type": "markdown",
   "metadata": {},
   "source": [
    "# Notebook for testing the rocket transform \n"
   ]
  },
  {
   "cell_type": "code",
   "execution_count": 1,
   "metadata": {},
   "outputs": [],
   "source": [
    "import sys\n",
    "import os\n",
    "import pandas as pd\n",
    "import numpy as np\n",
    "\n",
    "module_path = os.path.abspath(os.path.join('..'))\n",
    "\n",
    "sys.path.insert(1, module_path + '/src')\n",
    "import audio_time_series_classification as preproject\n",
    "import utility\n",
    "\n",
    "sys.path.insert(1, module_path + '/src/models/')\n",
    "import helper\n",
    "\n",
    "from sklearn.decomposition import PCA\n",
    "from sktime.utils.data_io import load_from_tsfile_to_dataframe\n",
    "from sklearn.feature_selection import SelectKBest, chi2\n",
    "from sktime.utils.data_processing import from_nested_to_2d_array\n",
    "from sklearn.model_selection import train_test_split\n",
    "from sklearn import preprocessing\n",
    "\n",
    "import matplotlib.pyplot as plt\n",
    "from sklearn.cross_decomposition import PLSRegression\n",
    "\n",
    "from sklearn.preprocessing import MinMaxScaler\n",
    "from sklearn.model_selection import train_test_split\n",
    "\n",
    "from sklearn.neighbors import KNeighborsClassifier\n",
    "from sklearn.naive_bayes import GaussianNB\n",
    "from sklearn.model_selection import GridSearchCV\n",
    "from sklearn.gaussian_process import GaussianProcessClassifier\n",
    "from sklearn.gaussian_process.kernels import RBF\n",
    "from sklearn.svm import SVC\n",
    "\n",
    "figure_path = module_path + '/figures/'"
   ]
  },
  {
   "cell_type": "markdown",
   "metadata": {},
   "source": [
    "# Loading already extracted features"
   ]
  },
  {
   "cell_type": "markdown",
   "metadata": {},
   "source": [
    "## UIT"
   ]
  },
  {
   "cell_type": "code",
   "execution_count": 44,
   "metadata": {
    "scrolled": true
   },
   "outputs": [],
   "source": [
    "X_train, y_train_o = load_from_tsfile_to_dataframe(module_path + f'/src/adil_TSC_test/transformed_datasets/UiT_transformed_rocket_15s_TRAIN.ts')\n",
    "X_test, y_test_o = load_from_tsfile_to_dataframe(module_path + f'/src/adil_TSC_test/transformed_datasets/UiT_transformed_rocket_15s_TEST.ts')\n",
    "\n",
    "X_train, X_test = from_nested_to_2d_array(X_train), from_nested_to_2d_array(X_test)\n",
    "\n",
    "cols = np.arange(len(X_test.columns))\n",
    "X_train.columns, X_test.columns = cols, cols\n",
    "\n",
    "y_train_o, y_test_o = pd.Series(y_train_o), pd.Series(y_test_o)\n",
    "\n",
    "scaler = MinMaxScaler() \n",
    "scaler.fit(X_train)\n",
    "X_train = pd.DataFrame(scaler.transform(X_train)) \n",
    "X_test = pd.DataFrame(scaler.transform(X_test)) "
   ]
  },
  {
   "cell_type": "markdown",
   "metadata": {},
   "source": [
    "## 5 Class classification"
   ]
  },
  {
   "cell_type": "code",
   "execution_count": 22,
   "metadata": {},
   "outputs": [
    {
     "data": {
      "text/plain": [
       "normal          1775\n",
       "insp_crackle    1240\n",
       "exp_wheeze      1163\n",
       "insp_wheeze      142\n",
       "exp_crackle      117\n",
       "dtype: int64"
      ]
     },
     "execution_count": 22,
     "metadata": {},
     "output_type": "execute_result"
    }
   ],
   "source": [
    "y_train_o.value_counts()"
   ]
  },
  {
   "cell_type": "code",
   "execution_count": 23,
   "metadata": {},
   "outputs": [],
   "source": [
    "indices_1 = np.where(y_train_o == 'normal')[0]\n",
    "indices_2 = np.where(y_train_o == 'exp_wheeze')[0]\n",
    "indices_3 = np.where(y_train_o == 'insp_crackle')[0]\n",
    "indices_4 = np.where(y_train_o == 'insp_wheeze')[0]\n",
    "indices_5 = np.where(y_train_o == 'exp_crackle')[0]\n",
    "indices_train = np.concatenate((indices_1[0:150], indices_2[:150], indices_3[:150], indices_4, indices_5))\n",
    "#indices_train = np.concatenate((indices_2[:25], indices_3[:25], indices_4, indices_5))\n",
    "\n",
    "indices_1 = np.where(y_test_o == 'normal')[0]\n",
    "indices_2 = np.where(y_test_o == 'exp_wheeze')[0]\n",
    "indices_3 = np.where(y_test_o == 'insp_crackle')[0]\n",
    "indices_4 = np.where(y_test_o == 'insp_wheeze')[0]\n",
    "indices_5 = np.where(y_test_o == 'exp_crackle')[0]\n",
    "indices_test = np.concatenate((indices_1, indices_2, indices_3, indices_4, indices_5))\n",
    "#indices_test = np.concatenate((indices_2, indices_3, indices_4, indices_5))\n",
    "\n",
    "\n",
    "y_train = y_train_o[indices_train]\n",
    "y_test = y_test_o[indices_test]\n",
    "#le = preprocessing.LabelEncoder()\n",
    "\n",
    "#le.fit(y_train_o[indices_train])\n",
    "#num_classes = len(le.classes_)\n",
    "#y_train = le.transform(y_train_o[indices_train])\n",
    "#y_test = le.transform(y_test_o[indices_test])"
   ]
  },
  {
   "cell_type": "markdown",
   "metadata": {},
   "source": [
    "## Subclass classification"
   ]
  },
  {
   "cell_type": "code",
   "execution_count": 38,
   "metadata": {},
   "outputs": [
    {
     "data": {
      "text/plain": [
       "normal     1775\n",
       "crackle    1357\n",
       "wheeze     1305\n",
       "dtype: int64"
      ]
     },
     "execution_count": 38,
     "metadata": {},
     "output_type": "execute_result"
    }
   ],
   "source": [
    "y_train_new.value_counts()"
   ]
  },
  {
   "cell_type": "code",
   "execution_count": 45,
   "metadata": {},
   "outputs": [],
   "source": [
    "y_train_new = y_train_o.copy(deep = True)\n",
    "\n",
    "y_train_new[y_train_new == 'exp_wheeze'] = 'wheeze'\n",
    "y_train_new[y_train_new == 'insp_wheeze'] = 'wheeze'\n",
    "y_train_new[y_train_new == 'exp_crackle'] = 'crackle'\n",
    "y_train_new[y_train_new == 'insp_crackle'] = 'crackle'\n",
    "\n",
    "y_test_new = y_test_o.copy(deep = True)\n",
    "\n",
    "y_test_new[y_test_new == 'exp_wheeze'] = 'wheeze'\n",
    "y_test_new[y_test_new == 'insp_wheeze'] = 'wheeze'\n",
    "y_test_new[y_test_new == 'exp_crackle'] = 'crackle'\n",
    "y_test_new[y_test_new == 'insp_crackle'] = 'crackle'\n",
    "\n",
    "\n",
    "indices_1 = np.where(y_train_new == 'normal')[0]\n",
    "indices_2 = np.where(y_train_new == 'wheeze')[0]\n",
    "indices_3 = np.where(y_train_new == 'crackle')[0]\n",
    "#indices_train = np.concatenate((indices_2, indices_3))\n",
    "#indices_train = np.concatenate((indices_1[:1350], indices_2, indices_3))\n",
    "indices_train = np.concatenate((indices_1[:250], indices_2, indices_3))\n",
    "indices_1 = np.where(y_test_new == 'normal')[0]\n",
    "indices_2 = np.where(y_test_new == 'wheeze')[0]\n",
    "indices_3 = np.where(y_test_new == 'crackle')[0]\n",
    "#indices_test = np.concatenate((indices_2, indices_3))\n",
    "indices_test = np.concatenate((indices_1, indices_2, indices_3))\n",
    "\n",
    "\n",
    "\n",
    "y_train = y_train_new[indices_train]\n",
    "y_test = y_test_new[indices_test]\n",
    "\n",
    "#le = preprocessing.LabelEncoder()\n",
    "\n",
    "#le.fit(y_train_new[indices_train])\n",
    "#num_classes = len(le.classes_)\n",
    "#y_train = le.transform(y_train_new[indices_train])\n",
    "#y_test = le.transform(y_test_new[indices_test])\n",
    "#y_val = le.transform(y_val_new[indices_val])"
   ]
  },
  {
   "cell_type": "markdown",
   "metadata": {},
   "source": [
    "### Plotting PCR"
   ]
  },
  {
   "cell_type": "markdown",
   "metadata": {},
   "source": [
    "**PLSR plot of the tromsø data**"
   ]
  },
  {
   "cell_type": "code",
   "execution_count": 46,
   "metadata": {},
   "outputs": [
    {
     "data": {
      "image/png": "[encoded data removed]",
      "text/plain": [
       "<Figure size 216x216 with 1 Axes>"
      ]
     },
     "metadata": {
      "needs_background": "light"
     },
     "output_type": "display_data"
    }
   ],
   "source": [
    "y_train_f = pd.factorize(y_train)\n",
    "\n",
    "pls2 = PLSRegression(n_components=2)\n",
    "p2 = pls2.fit_transform(X_train.iloc[indices_train], y_train_f[0])\n",
    "f, ax = helper.scatterplot_with_colors(p2[0], y_train_f[0],\n",
    "                                       module_path, new_legends = list(y_train_f[1]),\n",
    "                                       x_y_labels = ['PLSR1', 'PLSR2'])\n",
    "\n",
    "plt.show()\n",
    "\n",
    "f.savefig(figure_path + f'kaggle_vs_uit/PLSR_rocket_15s.pdf', bbox_inches='tight')"
   ]
  },
  {
   "cell_type": "markdown",
   "metadata": {},
   "source": [
    "## Testing classifiers\n",
    "\n",
    "\n",
    "**Tromsø dataset**"
   ]
  },
  {
   "cell_type": "code",
   "execution_count": 28,
   "metadata": {},
   "outputs": [],
   "source": [
    "from sklearn.model_selection import GridSearchCV\n",
    "from sklearn.ensemble import RandomForestClassifier\n",
    "\n",
    "rfc=RandomForestClassifier(random_state=42)\n",
    "\n",
    "param_grid = { \n",
    "    'n_estimators': [200, 500],\n",
    "    'max_depth' : [4,6,8],\n",
    "    'criterion' :['gini', 'entropy']\n",
    "}\n",
    "\n",
    "CV_rfc = GridSearchCV(estimator=rfc, param_grid=param_grid, cv= 5).fit(X_train.iloc[indices_train] , y_train.iloc[indices_train])"
   ]
  },
  {
   "cell_type": "code",
   "execution_count": 33,
   "metadata": {},
   "outputs": [
    {
     "data": {
      "text/plain": [
       "RandomForestClassifier(criterion='entropy', max_depth=8, n_estimators=500,\n",
       "                       random_state=42)"
      ]
     },
     "execution_count": 33,
     "metadata": {},
     "output_type": "execute_result"
    }
   ],
   "source": [
    "CV_rfc.best_estimator_"
   ]
  },
  {
   "cell_type": "code",
   "execution_count": 47,
   "metadata": {},
   "outputs": [
    {
     "data": {
      "image/png": "[encoded data removed]",
      "text/plain": [
       "<Figure size 216x216 with 2 Axes>"
      ]
     },
     "metadata": {
      "needs_background": "light"
     },
     "output_type": "display_data"
    }
   ],
   "source": [
    "from sklearn.ensemble import RandomForestClassifier\n",
    "\n",
    "class_names =  list(pd.factorize(y_train)[1])\n",
    "#clf = RandomForestClassifier(criterion='entropy', max_depth=8, n_estimators=500,random_state=42)\n",
    "#clf = GaussianNB()\n",
    "clf = KNeighborsClassifier(n_neighbors=4, weights='distance')\n",
    "\n",
    "\n",
    "clf.fit(X_train.iloc[indices_train] , y_train)\n",
    "y_pred = clf.predict(X_test.iloc[indices_test])\n",
    "\n",
    "#clf.fit(X_train, y_train)\n",
    "#y_pred = clf.predict(X_test)\n",
    "\n",
    "f, ax = utility.plot_cm(y_test , y_pred, module_path = module_path, class_names = class_names, color_index = 1)\n",
    "\n",
    "f.savefig(figure_path + f'kaggle_vs_uit/cm_uit_rocket_15s.pdf', bbox_inches='tight')"
   ]
  }
 ],
 "metadata": {
  "kernelspec": {
   "display_name": "Python 3",
   "language": "python",
   "name": "python3"
  },
  "language_info": {
   "codemirror_mode": {
    "name": "ipython",
    "version": 3
   },
   "file_extension": ".py",
   "mimetype": "text/x-python",
   "name": "python",
   "nbconvert_exporter": "python",
   "pygments_lexer": "ipython3",
   "version": "3.8.5"
  }
 },
 "nbformat": 4,
 "nbformat_minor": 5
}
