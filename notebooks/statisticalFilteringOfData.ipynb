{
 "cells": [
  {
   "cell_type": "markdown",
   "id": "adolescent-scroll",
   "metadata": {},
   "source": [
    "# Statistical Filtering / p value "
   ]
  },
  {
   "cell_type": "code",
   "execution_count": 4,
   "id": "noticed-divorce",
   "metadata": {},
   "outputs": [],
   "source": [
    "from sklearn.model_selection import GridSearchCV \n",
    "from sklearn.neighbors import KNeighborsClassifier\n",
    "import sys\n",
    "import os\n",
    "import pandas as pd\n",
    "import numpy as np\n",
    "from sklearn.metrics import confusion_matrix\n",
    "from sklearn.model_selection import train_test_split\n",
    "from sklearn.metrics import classification_report\n",
    "module_path = os.path.abspath(os.path.join('..'))\n",
    "sys.path.insert(1, module_path + '/src/')\n",
    "\n",
    "import utility"
   ]
  },
  {
   "cell_type": "code",
   "execution_count": 5,
   "id": "ruled-junior",
   "metadata": {
    "scrolled": true
   },
   "outputs": [
    {
     "data": {
      "image/png": "[encoded data removed]",
      "text/plain": [
       "<Figure size 144x144 with 2 Axes>"
      ]
     },
     "metadata": {
      "needs_background": "light"
     },
     "output_type": "display_data"
    }
   ],
   "source": [
    "X, y =  utility.get_X_y('noDecomp', feature_type = 'all')\n",
    "\n",
    "kwargs = dict(test_size=0.2, random_state=1)\n",
    "X_train, X_test, y_train, y_test = train_test_split(X, y, **kwargs)\n",
    "\n",
    "\n",
    "clf = KNeighborsClassifier(leaf_size=1, n_neighbors=1, p=1)\n",
    "clf.fit(X_train, y_train) \n",
    "y_pred = clf.predict(X_test)\n",
    "cm = confusion_matrix(y_pred, y_test)\n",
    "utility.plot_cm(cm, 3)"
   ]
  },
  {
   "cell_type": "code",
   "execution_count": 6,
   "id": "established-briefs",
   "metadata": {},
   "outputs": [
    {
     "name": "stdout",
     "output_type": "stream",
     "text": [
      "Wrong classification, being significant: 88 \n",
      "Wrong classification, not being significant: 11\n",
      "\n",
      " \n",
      "\n",
      "True classification, being significant: 438 \n",
      "True classification, not being significant: 97\n"
     ]
    }
   ],
   "source": [
    "row_mean_test = X_test.mean(axis = 0)\n",
    "row_mean_train = X_train.mean(axis = 0)\n",
    "p = []\n",
    "from scipy.stats import ttest_ind\n",
    "for row in X_test.iterrows():\n",
    "    _,p_new = ttest_ind(row_mean_train, row[1].to_numpy())\n",
    "    p.append(p_new)\n",
    "\n",
    "\n",
    "d = {'True': y_test, 'Pred': y_pred, 'P-val': p}\n",
    "df = pd.DataFrame(data = d)\n",
    "#print(df.head(100))\n",
    "significant_lev = 0.10\n",
    "significant = (df['P-val'] > significant_lev)  \n",
    "insignificant = (df['P-val'] < significant_lev)  \n",
    "wrong_pred = (df['True'] != df['Pred'])\n",
    "true_pred = (df['True'] == df['Pred'])\n",
    "sig_wrong = np.logical_and(significant, wrong_pred)\n",
    "insig_wrong = np.logical_and(insignificant, wrong_pred)\n",
    "\n",
    "sig_true = np.logical_and(significant, true_pred)\n",
    "insig_true = np.logical_and(insignificant, true_pred)\n",
    "\n",
    "\n",
    "print(f'Wrong classification, being significant: {sum(sig_wrong)} ')\n",
    "print(f'Wrong classification, not being significant: {sum(insig_wrong)}')\n",
    "print('\\n \\n')\n",
    "print(f'True classification, being significant: {sum(sig_true)} ')\n",
    "print(f'True classification, not being significant: {sum(insig_true)}')"
   ]
  }
 ],
 "metadata": {
  "kernelspec": {
   "display_name": "Python 3",
   "language": "python",
   "name": "python3"
  },
  "language_info": {
   "codemirror_mode": {
    "name": "ipython",
    "version": 3
   },
   "file_extension": ".py",
   "mimetype": "text/x-python",
   "name": "python",
   "nbconvert_exporter": "python",
   "pygments_lexer": "ipython3",
   "version": "3.7.9"
  }
 },
 "nbformat": 4,
 "nbformat_minor": 5
}
