{
 "cells": [
  {
   "cell_type": "code",
   "execution_count": null,
   "id": "supposed-thread",
   "metadata": {},
   "outputs": [],
   "source": [
    "import sys\n",
    "import os\n",
    "import pandas as pd\n",
    "import numpy as np\n",
    "\n",
    "module_path = os.path.abspath(os.path.join('../..'))\n",
    "\n",
    "sys.path.insert(1, module_path + '/src')\n",
    "import audio_time_series_classification as preproject\n",
    "import utility\n",
    "\n",
    "sys.path.insert(1, module_path + '/src/models/')\n",
    "import helper\n",
    "\n",
    "from sklearn.decomposition import PCA\n",
    "from sktime.utils.data_io import load_from_tsfile_to_dataframe\n",
    "from sklearn.feature_selection import SelectKBest, chi2\n",
    "from sktime.utils.data_processing import from_nested_to_2d_array\n",
    "from sklearn.model_selection import train_test_split\n",
    "from sklearn import preprocessing\n",
    "from sklearn.gaussian_process import GaussianProcessClassifier\n",
    "from sklearn.gaussian_process.kernels import RBF\n",
    "import matplotlib.pyplot as plt\n",
    "from sklearn.cross_decomposition import PLSRegression\n",
    "\n",
    "figure_path = module_path + '/figures/'"
   ]
  },
  {
   "cell_type": "code",
   "execution_count": null,
   "id": "humanitarian-papua",
   "metadata": {},
   "outputs": [],
   "source": [
    "ts_path = module_path + '/data/ts_files/crackleNoCrackle_FULL.ts'\n",
    "#NB ! This file has already been downsampled and denoised before saving\n",
    "kwargs_ls = {\n",
    "    'ts_file_path': ts_path,\n",
    "    'sr' : 8000,\n",
    "    'UCR_file': False,\n",
    "    'n_mfcc' : 30,\n",
    "    'denoise' : False,\n",
    "    'downsample' : False,\n",
    "    'downsample_new_sr' : 8000,\n",
    "    'update' : False,\n",
    "    'name' : 'lungsound'\n",
    "}\n",
    "\n",
    "ls = preproject.overproduced_audio_time_series_features(**kwargs_ls)"
   ]
  },
  {
   "cell_type": "code",
   "execution_count": null,
   "id": "hindu-workshop",
   "metadata": {},
   "outputs": [],
   "source": [
    "X_train, X_test, y_train, y_test = ls.get_X_y_transformed(train_test_split = True)"
   ]
  },
  {
   "cell_type": "code",
   "execution_count": null,
   "id": "bibliographic-fellow",
   "metadata": {},
   "outputs": [],
   "source": [
    "pca = PCA(n_components = 10)\n",
    "\n",
    "pca.fit(X_train)\n",
    "X_train = pca.transform(X_train)\n",
    "X_test = pca.transform(X_test)"
   ]
  },
  {
   "cell_type": "code",
   "execution_count": null,
   "id": "increased-destruction",
   "metadata": {},
   "outputs": [],
   "source": [
    "import fuzzy_dempster_shafer as fds\n",
    "\n",
    "import time\n",
    "\n",
    "t0 = time.time()\n",
    "\n",
    "#temp_test = pd.DataFrame(X_test)\n",
    "fit_object = fds.fit(pd.DataFrame(X_train),pd.DataFrame(y_train))\n",
    "\n",
    "\n",
    "\n",
    "predictions = fds.predict(fit_object,pd.DataFrame(X_test))\n",
    "\n",
    "t1 = time.time()\n",
    "print('runtime: ',t1-t0)\n",
    "\n",
    "\n",
    "prediction_df = pd.DataFrame(predictions['LR_Probabilities'])\n",
    "prediction_df['LR_plus_DS_Probabilities'] = predictions['LR_plus_DS_Probabilities']\n",
    "prediction_df['LR_Classifications'] = predictions['LR_Classifications']\n",
    "prediction_df['uncertain'] = predictions['uncertain']\n",
    "prediction_df['true'] = y_test\n",
    "\n",
    "prediction_df.columns = ['LR_Probabilities','LR_plus_DS_Probabilities', 'LR_Classifications','uncertain', 'true']\n",
    "prediction_df['LR_Probabilities'] = prediction_df['LR_Probabilities'].round(3)\n",
    "\n",
    "print(prediction_df)\n",
    "\n",
    "#utility.plot_cm(prediction_df['true'],prediction_df['uncertain'], module_path = module_path)"
   ]
  }
 ],
 "metadata": {
  "kernelspec": {
   "display_name": "Python 3",
   "language": "python",
   "name": "python3"
  },
  "language_info": {
   "codemirror_mode": {
    "name": "ipython",
    "version": 3
   },
   "file_extension": ".py",
   "mimetype": "text/x-python",
   "name": "python",
   "nbconvert_exporter": "python",
   "pygments_lexer": "ipython3",
   "version": "3.7.9"
  }
 },
 "nbformat": 4,
 "nbformat_minor": 5
}
