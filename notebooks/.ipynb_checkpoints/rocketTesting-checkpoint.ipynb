{
 "cells": [
  {
   "cell_type": "code",
   "execution_count": 1,
   "id": "ranging-appliance",
   "metadata": {},
   "outputs": [],
   "source": [
    "import numpy as np\n",
    "import pandas as pd\n",
    "import os\n",
    "import sys\n",
    "import time as time\n",
    "module_path = os.path.abspath(os.path.join('..'))\n",
    "sys.path.insert(1, module_path + '/src')\n",
    "import utility\n",
    "\n",
    "import sktime\n",
    "from sktime.utils.data_io import load_from_tsfile_to_dataframe\n",
    "from sktime.classification.hybrid import HIVECOTEV1\n",
    "\n",
    "import matplotlib.pyplot as plt\n",
    "\n",
    "from sklearn.metrics import classification_report\n",
    "from sklearn.model_selection import train_test_split\n",
    "from sklearn.utils import shuffle\n",
    "from sklearn.metrics import confusion_matrix\n",
    "from sktime.classification.shapelet_based import ROCKETClassifier\n",
    "\n",
    "from matplotlib.font_manager import FontProperties\n",
    "from matplotlib.colors import LinearSegmentedColormap\n",
    "import seaborn as sns\n",
    "import matplotlib\n",
    "font = FontProperties(fname = module_path + '/src/visualization/CharterRegular.ttf', size = 10, weight = 1000)\n",
    "font_small = FontProperties(fname = module_path + '/src/visualization/CharterRegular.ttf', size = 7, weight = 1000)\n",
    "color_map = ['#8ECAE6', '#219EBC', '#023047', '#FFB703', '#FB8500']\n",
    "class_names = ['crackle', 'no-crackle']"
   ]
  },
  {
   "cell_type": "code",
   "execution_count": 4,
   "id": "arabic-robert",
   "metadata": {},
   "outputs": [
    {
     "name": "stdout",
     "output_type": "stream",
     "text": [
      "['0' '1'] [1778 3019]\n"
     ]
    }
   ],
   "source": [
    "X, y = load_from_tsfile_to_dataframe(module_path + '/data/ts_files/crackleNoCrackle_3000_same_ESSUA.ts')\n",
    "X, y = shuffle(X, y, random_state=0)\n",
    "X_train, X_test, y_train, y_test = train_test_split(X, y)\n",
    "\n",
    "labels, counts = np.unique(y_train, return_counts=True)\n",
    "print(labels, counts)"
   ]
  },
  {
   "cell_type": "code",
   "execution_count": 2,
   "id": "pacific-canada",
   "metadata": {},
   "outputs": [
    {
     "name": "stdout",
     "output_type": "stream",
     "text": [
      "['0' '1'] [2316 4080]\n",
      "['0' '1'] [ 54 448]\n"
     ]
    }
   ],
   "source": [
    "X_train, y_train = load_from_tsfile_to_dataframe(module_path + '/data/ts_files/crackleNoCrackle_3000_same_ESSUA.ts')\n",
    "X_test, y_test = load_from_tsfile_to_dataframe(module_path + '/data/ts_files/crackleNoCrackle_3000_same_AUTH.ts')\n",
    "X_train, y_train  = shuffle(X_train, y_train , random_state=0)\n",
    "X_test, y_test = shuffle(X_test, y_test, random_state=0)\n",
    "\n",
    "labels, counts = np.unique(y_train, return_counts=True)\n",
    "print(labels, counts)\n",
    "labels_test, counts_test = np.unique(y_test, return_counts=True)\n",
    "print(labels_test, counts_test)"
   ]
  },
  {
   "cell_type": "markdown",
   "id": "gorgeous-essex",
   "metadata": {},
   "source": [
    "# ROCKET"
   ]
  },
  {
   "cell_type": "code",
   "execution_count": 4,
   "id": "numeric-printer",
   "metadata": {},
   "outputs": [
    {
     "name": "stdout",
     "output_type": "stream",
     "text": [
      "train time:  239.5682017803192\n",
      "Number of mislabeled points out of a total 502 points : 91\n",
      "              precision    recall  f1-score   support\n",
      "\n",
      "           0       0.28      0.22      0.25        67\n",
      "           1       0.88      0.91      0.90       435\n",
      "\n",
      "    accuracy                           0.82       502\n",
      "   macro avg       0.58      0.57      0.57       502\n",
      "weighted avg       0.80      0.82      0.81       502\n",
      "\n",
      "Predict time:  17.934311866760254\n"
     ]
    }
   ],
   "source": [
    "start = time.time()\n",
    "rocket = ROCKETClassifier(num_kernels=1000, random_state=0)\n",
    "rocket.fit(X_train, y_train)\n",
    "end = time.time()\n",
    "print('train time: ', str(end - start))\n",
    "start = time.time()\n",
    "rocket_y_pred = rocket.predict(X_test)\n",
    "print(f'Number of mislabeled points out of a total {X_test.shape[0]} points : {(y_test != rocket_y_pred).sum()}')\n",
    "print(classification_report(rocket_y_pred, y_test))\n",
    "end = time.time()\n",
    "print('Predict time: ', str(end - start))"
   ]
  },
  {
   "cell_type": "code",
   "execution_count": 5,
   "id": "sunrise-haiti",
   "metadata": {
    "scrolled": true
   },
   "outputs": [
    {
     "data": {
      "image/png": "[encoded data removed]",
      "text/plain": [
       "<Figure size 360x360 with 2 Axes>"
      ]
     },
     "metadata": {
      "needs_background": "light"
     },
     "output_type": "display_data"
    }
   ],
   "source": [
    "from matplotlib.font_manager import FontProperties\n",
    "from matplotlib.colors import LinearSegmentedColormap\n",
    "import seaborn as sns\n",
    "import matplotlib\n",
    "import matplotlib.pyplot as plt\n",
    "font = FontProperties(fname = module_path + '/src/visualization/CharterRegular.ttf', size = 10, weight = 1000)\n",
    "font_small = FontProperties(fname = module_path + '/src/visualization/CharterRegular.ttf', size = 7, weight = 1000)\n",
    "color_map = ['#8ECAE6', '#219EBC', '#023047', '#FFB703', '#FB8500']\n",
    "class_names = ['crackle', 'no-crackle']\n",
    "\n",
    "cm = confusion_matrix(rocket_y_pred, y_test)\n",
    "f, ax = plt.subplots(1,1) # 1 x 1 array , can also be any other size\n",
    "f.set_size_inches(5, 5)\n",
    "\n",
    "cm = cm.astype('float') / cm.sum(axis=1)[:, np.newaxis]\n",
    "\n",
    "colors_2 = ['#FFFFFF', color_map[1]]\n",
    "cmap_name = 'my colormap'\n",
    "cm_map = LinearSegmentedColormap.from_list(cmap_name, colors_2)\n",
    "\n",
    "ax = sns.heatmap(cm, annot=True,\n",
    "            fmt='.2%', cmap=cm_map, xticklabels=class_names,yticklabels=class_names )\n",
    "cbar = ax.collections[0].colorbar\n",
    "for label in ax.get_yticklabels() :\n",
    "    label.set_fontproperties(font_small)\n",
    "for label in ax.get_xticklabels() :\n",
    "    label.set_fontproperties(font_small)\n",
    "ax.set_ylabel('True Label', fontproperties = font)\n",
    "ax.set_xlabel('Predicted Label', fontproperties = font)\n",
    "ax.set_xticklabels(ax.get_xticklabels(), rotation = 0)\n",
    "\n",
    "for child in ax.get_children():\n",
    "    if isinstance(child, matplotlib.text.Text):\n",
    "        child.set_fontproperties(font)\n",
    "for l in cbar.ax.yaxis.get_ticklabels():\n",
    "    l.set_fontproperties(font_small)"
   ]
  },
  {
   "cell_type": "markdown",
   "id": "instructional-adolescent",
   "metadata": {},
   "source": [
    "# Testing ROCKET transform with a different classifier"
   ]
  },
  {
   "cell_type": "code",
   "execution_count": null,
   "id": "comic-collect",
   "metadata": {},
   "outputs": [],
   "source": [
    "from sktime.transformations.panel.rocket import Rocket\n",
    "from sklearn import preprocessing\n",
    "\n",
    "min_max_scaler = preprocessing.MinMaxScaler()\n",
    "\n",
    "\n",
    "X, y = load_from_tsfile_to_dataframe(module_path + '/data/ts_files/crackleNoCrackle_no_rms.ts')\n",
    "X, y = shuffle(X, y, random_state=0)\n",
    "rocket = Rocket()  \n",
    "start = time.time()\n",
    "rocket.fit(X)\n",
    "print(f'Transform time: {time.time() - start}')\n",
    "\n",
    "X_train, X_test, y_train, y_test = train_test_split(X, y)\n",
    "X_train = min_max_scaler.fit_transform(X_train)"
   ]
  },
  {
   "cell_type": "code",
   "execution_count": 6,
   "id": "medical-north",
   "metadata": {},
   "outputs": [
    {
     "data": {
      "text/plain": [
       "RidgeClassifierCV(alphas=array([1.00000000e-03, 4.64158883e-03, 2.15443469e-02, 1.00000000e-01,\n",
       "       4.64158883e-01, 2.15443469e+00, 1.00000000e+01, 4.64158883e+01,\n",
       "       2.15443469e+02, 1.00000000e+03]),\n",
       "                  normalize=True)"
      ]
     },
     "execution_count": 6,
     "metadata": {},
     "output_type": "execute_result"
    }
   ],
   "source": [
    "from sklearn.linear_model import RidgeClassifierCV\n",
    "\n",
    "start = time.time()\n",
    "classifier = RidgeClassifierCV(alphas=np.logspace(-3, 3, 10), normalize=True)\n",
    "classifier.fit(X_train_transform, y_train)\n",
    "print(f'Training time  : {time.time() - start}')"
   ]
  },
  {
   "cell_type": "code",
   "execution_count": 9,
   "id": "legislative-dodge",
   "metadata": {},
   "outputs": [
    {
     "data": {
      "text/html": [
       "<div>\n",
       "<style scoped>\n",
       "    .dataframe tbody tr th:only-of-type {\n",
       "        vertical-align: middle;\n",
       "    }\n",
       "\n",
       "    .dataframe tbody tr th {\n",
       "        vertical-align: top;\n",
       "    }\n",
       "\n",
       "    .dataframe thead th {\n",
       "        text-align: right;\n",
       "    }\n",
       "</style>\n",
       "<table border=\"1\" class=\"dataframe\">\n",
       "  <thead>\n",
       "    <tr style=\"text-align: right;\">\n",
       "      <th></th>\n",
       "      <th>0</th>\n",
       "      <th>1</th>\n",
       "      <th>2</th>\n",
       "      <th>3</th>\n",
       "      <th>4</th>\n",
       "      <th>5</th>\n",
       "      <th>6</th>\n",
       "      <th>7</th>\n",
       "      <th>8</th>\n",
       "      <th>9</th>\n",
       "      <th>...</th>\n",
       "      <th>19990</th>\n",
       "      <th>19991</th>\n",
       "      <th>19992</th>\n",
       "      <th>19993</th>\n",
       "      <th>19994</th>\n",
       "      <th>19995</th>\n",
       "      <th>19996</th>\n",
       "      <th>19997</th>\n",
       "      <th>19998</th>\n",
       "      <th>19999</th>\n",
       "    </tr>\n",
       "  </thead>\n",
       "  <tbody>\n",
       "    <tr>\n",
       "      <th>0</th>\n",
       "      <td>0.035667</td>\n",
       "      <td>10.784041</td>\n",
       "      <td>0.00</td>\n",
       "      <td>-0.626855</td>\n",
       "      <td>1.000000</td>\n",
       "      <td>27.401126</td>\n",
       "      <td>0.056333</td>\n",
       "      <td>12.312379</td>\n",
       "      <td>0.9496</td>\n",
       "      <td>2.935943</td>\n",
       "      <td>...</td>\n",
       "      <td>0.029930</td>\n",
       "      <td>4.227192</td>\n",
       "      <td>0.015152</td>\n",
       "      <td>6.796651</td>\n",
       "      <td>0.475</td>\n",
       "      <td>0.755406</td>\n",
       "      <td>0.929876</td>\n",
       "      <td>0.269574</td>\n",
       "      <td>0.968000</td>\n",
       "      <td>16.519094</td>\n",
       "    </tr>\n",
       "    <tr>\n",
       "      <th>1</th>\n",
       "      <td>0.292667</td>\n",
       "      <td>5.907922</td>\n",
       "      <td>0.75</td>\n",
       "      <td>5.452541</td>\n",
       "      <td>0.488034</td>\n",
       "      <td>8.320895</td>\n",
       "      <td>0.335667</td>\n",
       "      <td>5.599276</td>\n",
       "      <td>0.5992</td>\n",
       "      <td>6.523843</td>\n",
       "      <td>...</td>\n",
       "      <td>0.274208</td>\n",
       "      <td>6.834840</td>\n",
       "      <td>0.250176</td>\n",
       "      <td>5.456066</td>\n",
       "      <td>0.725</td>\n",
       "      <td>1.845743</td>\n",
       "      <td>0.536515</td>\n",
       "      <td>11.106506</td>\n",
       "      <td>0.672333</td>\n",
       "      <td>6.538390</td>\n",
       "    </tr>\n",
       "    <tr>\n",
       "      <th>2</th>\n",
       "      <td>0.203667</td>\n",
       "      <td>10.597445</td>\n",
       "      <td>0.70</td>\n",
       "      <td>2.667654</td>\n",
       "      <td>0.441880</td>\n",
       "      <td>14.632096</td>\n",
       "      <td>0.240333</td>\n",
       "      <td>9.020471</td>\n",
       "      <td>0.7220</td>\n",
       "      <td>6.622461</td>\n",
       "      <td>...</td>\n",
       "      <td>0.191021</td>\n",
       "      <td>9.897286</td>\n",
       "      <td>0.181113</td>\n",
       "      <td>9.636991</td>\n",
       "      <td>1.000</td>\n",
       "      <td>2.266826</td>\n",
       "      <td>0.671784</td>\n",
       "      <td>22.266239</td>\n",
       "      <td>0.759333</td>\n",
       "      <td>13.397994</td>\n",
       "    </tr>\n",
       "    <tr>\n",
       "      <th>3</th>\n",
       "      <td>0.137000</td>\n",
       "      <td>4.424781</td>\n",
       "      <td>0.00</td>\n",
       "      <td>-3.555574</td>\n",
       "      <td>0.640171</td>\n",
       "      <td>10.864948</td>\n",
       "      <td>0.179667</td>\n",
       "      <td>5.313892</td>\n",
       "      <td>0.8016</td>\n",
       "      <td>6.197876</td>\n",
       "      <td>...</td>\n",
       "      <td>0.098592</td>\n",
       "      <td>7.246622</td>\n",
       "      <td>0.100775</td>\n",
       "      <td>6.482497</td>\n",
       "      <td>0.325</td>\n",
       "      <td>0.849922</td>\n",
       "      <td>0.787137</td>\n",
       "      <td>11.693292</td>\n",
       "      <td>0.851333</td>\n",
       "      <td>6.329436</td>\n",
       "    </tr>\n",
       "    <tr>\n",
       "      <th>4</th>\n",
       "      <td>0.239333</td>\n",
       "      <td>6.452709</td>\n",
       "      <td>0.70</td>\n",
       "      <td>3.148407</td>\n",
       "      <td>0.416239</td>\n",
       "      <td>9.547368</td>\n",
       "      <td>0.278333</td>\n",
       "      <td>8.020110</td>\n",
       "      <td>0.6584</td>\n",
       "      <td>7.183100</td>\n",
       "      <td>...</td>\n",
       "      <td>0.188820</td>\n",
       "      <td>6.377173</td>\n",
       "      <td>0.196970</td>\n",
       "      <td>12.760646</td>\n",
       "      <td>1.000</td>\n",
       "      <td>2.595442</td>\n",
       "      <td>0.645228</td>\n",
       "      <td>11.412102</td>\n",
       "      <td>0.728333</td>\n",
       "      <td>9.341413</td>\n",
       "    </tr>\n",
       "  </tbody>\n",
       "</table>\n",
       "<p>5 rows × 20000 columns</p>\n",
       "</div>"
      ],
      "text/plain": [
       "      0          1      2         3         4          5         6      \\\n",
       "0  0.035667  10.784041   0.00 -0.626855  1.000000  27.401126  0.056333   \n",
       "1  0.292667   5.907922   0.75  5.452541  0.488034   8.320895  0.335667   \n",
       "2  0.203667  10.597445   0.70  2.667654  0.441880  14.632096  0.240333   \n",
       "3  0.137000   4.424781   0.00 -3.555574  0.640171  10.864948  0.179667   \n",
       "4  0.239333   6.452709   0.70  3.148407  0.416239   9.547368  0.278333   \n",
       "\n",
       "       7       8         9      ...     19990     19991     19992      19993  \\\n",
       "0  12.312379  0.9496  2.935943  ...  0.029930  4.227192  0.015152   6.796651   \n",
       "1   5.599276  0.5992  6.523843  ...  0.274208  6.834840  0.250176   5.456066   \n",
       "2   9.020471  0.7220  6.622461  ...  0.191021  9.897286  0.181113   9.636991   \n",
       "3   5.313892  0.8016  6.197876  ...  0.098592  7.246622  0.100775   6.482497   \n",
       "4   8.020110  0.6584  7.183100  ...  0.188820  6.377173  0.196970  12.760646   \n",
       "\n",
       "   19994     19995     19996      19997     19998      19999  \n",
       "0  0.475  0.755406  0.929876   0.269574  0.968000  16.519094  \n",
       "1  0.725  1.845743  0.536515  11.106506  0.672333   6.538390  \n",
       "2  1.000  2.266826  0.671784  22.266239  0.759333  13.397994  \n",
       "3  0.325  0.849922  0.787137  11.693292  0.851333   6.329436  \n",
       "4  1.000  2.595442  0.645228  11.412102  0.728333   9.341413  \n",
       "\n",
       "[5 rows x 20000 columns]"
      ]
     },
     "execution_count": 9,
     "metadata": {},
     "output_type": "execute_result"
    }
   ],
   "source": [
    "X_test_transform.head()"
   ]
  },
  {
   "cell_type": "code",
   "execution_count": 23,
   "id": "round-spray",
   "metadata": {},
   "outputs": [],
   "source": [
    "from sklearn.feature_selection import chi2, SelectKBest, SelectFromModel\n",
    "from sklearn.ensemble import RandomForestClassifier\n",
    "from sklearn.pipeline import Pipeline\n",
    "from sklearn.svm import LinearSVC\n"
   ]
  },
  {
   "cell_type": "code",
   "execution_count": 25,
   "id": "fitting-tanzania",
   "metadata": {},
   "outputs": [
    {
     "name": "stderr",
     "output_type": "stream",
     "text": [
      "/home/andrine/anaconda3/lib/python3.7/site-packages/sklearn/svm/_base.py:977: ConvergenceWarning: Liblinear failed to converge, increase the number of iterations.\n",
      "  \"the number of iterations.\", ConvergenceWarning)\n"
     ]
    },
    {
     "data": {
      "image/png": "[encoded data removed]",
      "text/plain": [
       "<Figure size 360x360 with 2 Axes>"
      ]
     },
     "metadata": {
      "needs_background": "light"
     },
     "output_type": "display_data"
    }
   ],
   "source": [
    "clf = Pipeline([\n",
    "  ('feature_selection', SelectFromModel(LinearSVC())),\n",
    "  ('classification', RandomForestClassifier())\n",
    "])\n",
    "clf.fit(X_train_transform, y_train)\n",
    "\n",
    "\n",
    "y_pred = clf.predict(X_test_transform)\n",
    "\n",
    "\n",
    "\n",
    "cm = confusion_matrix(y_pred, y_test)\n",
    "f, ax = plt.subplots(1,1) # 1 x 1 array , can also be any other size\n",
    "f.set_size_inches(5, 5)\n",
    "\n",
    "cm = cm.astype('float') / cm.sum(axis=1)[:, np.newaxis]\n",
    "\n",
    "colors_2 = ['#FFFFFF', color_map[1]]\n",
    "cmap_name = 'my colormap'\n",
    "cm_map = LinearSegmentedColormap.from_list(cmap_name, colors_2)\n",
    "\n",
    "ax = sns.heatmap(cm, annot=True,\n",
    "            fmt='.2%', cmap=cm_map, xticklabels=class_names,yticklabels=class_names )\n",
    "cbar = ax.collections[0].colorbar\n",
    "for label in ax.get_yticklabels() :\n",
    "    label.set_fontproperties(font_small)\n",
    "for label in ax.get_xticklabels() :\n",
    "    label.set_fontproperties(font_small)\n",
    "ax.set_ylabel('True Label', fontproperties = font)\n",
    "ax.set_xlabel('Predicted Label', fontproperties = font)\n",
    "ax.set_xticklabels(ax.get_xticklabels(), rotation = 0)\n",
    "\n",
    "for child in ax.get_children():\n",
    "    if isinstance(child, matplotlib.text.Text):\n",
    "        child.set_fontproperties(font)\n",
    "for l in cbar.ax.yaxis.get_ticklabels():\n",
    "    l.set_fontproperties(font_small)"
   ]
  }
 ],
 "metadata": {
  "kernelspec": {
   "display_name": "Python 3",
   "language": "python",
   "name": "python3"
  },
  "language_info": {
   "codemirror_mode": {
    "name": "ipython",
    "version": 3
   },
   "file_extension": ".py",
   "mimetype": "text/x-python",
   "name": "python",
   "nbconvert_exporter": "python",
   "pygments_lexer": "ipython3",
   "version": "3.7.9"
  }
 },
 "nbformat": 4,
 "nbformat_minor": 5
}
