{
 "cells": [
  {
   "cell_type": "markdown",
   "id": "champion-tactics",
   "metadata": {},
   "source": [
    "# Notebook to compare the performance of interval based TSC\n",
    "\n"
   ]
  },
  {
   "cell_type": "code",
   "execution_count": 1,
   "id": "wicked-action",
   "metadata": {},
   "outputs": [],
   "source": [
    "import numpy as np\n",
    "import pandas as pd\n",
    "import os\n",
    "import sys\n",
    "import time as time\n",
    "module_path = os.path.abspath(os.path.join('..'))\n",
    "sys.path.insert(1, module_path + '/src')\n",
    "import utility\n",
    "\n",
    "import sktime\n",
    "from sktime.utils.data_io import load_from_tsfile_to_dataframe\n",
    "from sktime.classification.compose import TimeSeriesForestClassifier\n",
    "from sktime.classification.interval_based import RandomIntervalSpectralForest\n",
    "\n",
    "\n",
    "import matplotlib.pyplot as plt\n",
    "\n",
    "from sklearn.metrics import classification_report\n",
    "from sklearn.model_selection import train_test_split\n",
    "from sklearn.utils import shuffle\n",
    "from sklearn.metrics import confusion_matrix\n",
    "\n",
    "\n",
    "from matplotlib.font_manager import FontProperties\n",
    "from matplotlib.colors import LinearSegmentedColormap\n",
    "import seaborn as sns\n",
    "import matplotlib\n",
    "font = FontProperties(fname = module_path + '/src/visualization/CharterRegular.ttf', size = 10, weight = 1000)\n",
    "font_small = FontProperties(fname = module_path + '/src/visualization/CharterRegular.ttf', size = 7, weight = 1000)\n",
    "color_map = ['#8ECAE6', '#219EBC', '#023047', '#FFB703', '#FB8500']\n",
    "class_names = ['crackle', 'no-crackle']"
   ]
  },
  {
   "cell_type": "code",
   "execution_count": 2,
   "id": "statutory-problem",
   "metadata": {},
   "outputs": [
    {
     "name": "stdout",
     "output_type": "stream",
     "text": [
      "['0' '1'] [1740 3258]\n"
     ]
    }
   ],
   "source": [
    "X, y = load_from_tsfile_to_dataframe(module_path + '/data/ts_files/crackleNoCrackle_no_rms.ts')\n",
    "X, y = shuffle(X, y, random_state=0)\n",
    "X_train, X_test, y_train, y_test = train_test_split(X, y)\n",
    "\n",
    "labels, counts = np.unique(y_train, return_counts=True)\n",
    "print(labels, counts)"
   ]
  },
  {
   "cell_type": "code",
   "execution_count": null,
   "id": "honest-python",
   "metadata": {},
   "outputs": [],
   "source": [
    "X_train, y_train = load_from_tsfile_to_dataframe(module_path + '/data/ts_files/crackleNoCrackle_3000_same_ESSUA.ts')\n",
    "X_test, y_test = load_from_tsfile_to_dataframe(module_path + '/data/ts_files/crackleNoCrackle_3000_same_AUTH.ts')\n",
    "X_train, y_train  = shuffle(X_train, y_train , random_state=0)\n",
    "X_test, y_test = shuffle(X_test, y_test, random_state=0)\n",
    "\n",
    "labels, counts = np.unique(y_train, return_counts=True)\n",
    "print(labels, counts)\n",
    "labels_test, counts_test = np.unique(y_train, return_counts=True)\n",
    "print(labels, counts)"
   ]
  },
  {
   "cell_type": "markdown",
   "id": "criminal-delhi",
   "metadata": {},
   "source": [
    "## Time series forest (TSF)"
   ]
  },
  {
   "cell_type": "code",
   "execution_count": 3,
   "id": "superior-fault",
   "metadata": {
    "scrolled": true
   },
   "outputs": [
    {
     "name": "stdout",
     "output_type": "stream",
     "text": [
      "Number of mislabeled points out of a total 1667 points : 503\n",
      "              precision    recall  f1-score   support\n",
      "\n",
      "           0       0.34      0.62      0.44       319\n",
      "           1       0.89      0.72      0.79      1348\n",
      "\n",
      "    accuracy                           0.70      1667\n",
      "   macro avg       0.61      0.67      0.62      1667\n",
      "weighted avg       0.78      0.70      0.73      1667\n",
      "\n",
      "Time:  6202.181675195694\n"
     ]
    }
   ],
   "source": [
    "start = time.time()\n",
    "tsf = TimeSeriesForestClassifier()\n",
    "tsf.fit(X_train, y_train)\n",
    "tsf_y_pred = tsf.predict(X_test)\n",
    "print(f'Number of mislabeled points out of a total {X_test.shape[0]} points : {(y_test != tsf_y_pred).sum()}')\n",
    "print(classification_report(tsf_y_pred, y_test))\n",
    "end = time.time()\n",
    "print('Time: ', str(end - start))"
   ]
  },
  {
   "cell_type": "code",
   "execution_count": 4,
   "id": "likely-virtue",
   "metadata": {},
   "outputs": [
    {
     "data": {
      "image/png": "[encoded data removed]",
      "text/plain": [
       "<Figure size 360x360 with 2 Axes>"
      ]
     },
     "metadata": {
      "needs_background": "light"
     },
     "output_type": "display_data"
    }
   ],
   "source": [
    "\n",
    "cm = confusion_matrix(tsf_y_pred, y_test)\n",
    "f, ax = plt.subplots(1,1) # 1 x 1 array , can also be any other size\n",
    "f.set_size_inches(5, 5)\n",
    "\n",
    "cm = cm.astype('float') / cm.sum(axis=1)[:, np.newaxis]\n",
    "\n",
    "colors_2 = ['#FFFFFF', color_map[3]]\n",
    "cmap_name = 'my colormap'\n",
    "cm_map = LinearSegmentedColormap.from_list(cmap_name, colors_2)\n",
    "\n",
    "ax = sns.heatmap(cm, annot=True,\n",
    "            fmt='.2%', cmap=cm_map, xticklabels=class_names,yticklabels=class_names )\n",
    "cbar = ax.collections[0].colorbar\n",
    "for label in ax.get_yticklabels() :\n",
    "    label.set_fontproperties(font_small)\n",
    "for label in ax.get_xticklabels() :\n",
    "    label.set_fontproperties(font_small)\n",
    "ax.set_ylabel('True Label', fontproperties = font)\n",
    "ax.set_xlabel('Predicted Label', fontproperties = font)\n",
    "ax.set_xticklabels(ax.get_xticklabels(), rotation = 0)\n",
    "\n",
    "for child in ax.get_children():\n",
    "    if isinstance(child, matplotlib.text.Text):\n",
    "        child.set_fontproperties(font)\n",
    "for l in cbar.ax.yaxis.get_ticklabels():\n",
    "    l.set_fontproperties(font_small)"
   ]
  },
  {
   "cell_type": "markdown",
   "id": "retired-investigator",
   "metadata": {},
   "source": [
    "## RISE"
   ]
  },
  {
   "cell_type": "code",
   "execution_count": 5,
   "id": "bizarre-falls",
   "metadata": {},
   "outputs": [
    {
     "name": "stdout",
     "output_type": "stream",
     "text": [
      "Train Time:  769.0748131275177\n",
      "Number of mislabeled points out of a total 1667 points : 555\n",
      "              precision    recall  f1-score   support\n",
      "\n",
      "           0       0.21      0.55      0.31       225\n",
      "           1       0.91      0.69      0.78      1442\n",
      "\n",
      "    accuracy                           0.67      1667\n",
      "   macro avg       0.56      0.62      0.54      1667\n",
      "weighted avg       0.81      0.67      0.72      1667\n",
      "\n",
      "Predict Time:  182.956392288208\n"
     ]
    }
   ],
   "source": [
    "start = time.time()\n",
    "rise = RandomIntervalSpectralForest(n_estimators=10)\n",
    "rise.fit(X_train, y_train)\n",
    "end = time.time()\n",
    "print('Train Time: ', str(end - start))\n",
    "start = time.time()\n",
    "rise_y_pred = rise.predict(X_test)\n",
    "print(f'Number of mislabeled points out of a total {X_test.shape[0]} points : {(y_test != rise_y_pred).sum()}')\n",
    "print(classification_report(rise_y_pred, y_test))\n",
    "end = time.time()\n",
    "print('Predict Time: ', str(end - start))"
   ]
  },
  {
   "cell_type": "code",
   "execution_count": 6,
   "id": "systematic-composer",
   "metadata": {},
   "outputs": [
    {
     "data": {
      "image/png": "[encoded data removed]",
      "text/plain": [
       "<Figure size 360x360 with 2 Axes>"
      ]
     },
     "metadata": {
      "needs_background": "light"
     },
     "output_type": "display_data"
    }
   ],
   "source": [
    "cm = confusion_matrix(rise_y_pred, y_test)\n",
    "f, ax = plt.subplots(1,1) # 1 x 1 array , can also be any other size\n",
    "f.set_size_inches(5, 5)\n",
    "\n",
    "cm = cm.astype('float') / cm.sum(axis=1)[:, np.newaxis]\n",
    "\n",
    "colors_2 = ['#FFFFFF', color_map[2]]\n",
    "cmap_name = 'my colormap'\n",
    "cm_map = LinearSegmentedColormap.from_list(cmap_name, colors_2)\n",
    "\n",
    "ax = sns.heatmap(cm, annot=True,\n",
    "            fmt='.2%', cmap=cm_map, xticklabels=class_names,yticklabels=class_names )\n",
    "cbar = ax.collections[0].colorbar\n",
    "for label in ax.get_yticklabels() :\n",
    "    label.set_fontproperties(font_small)\n",
    "for label in ax.get_xticklabels() :\n",
    "    label.set_fontproperties(font_small)\n",
    "ax.set_ylabel('True Label', fontproperties = font)\n",
    "ax.set_xlabel('Predicted Label', fontproperties = font)\n",
    "ax.set_xticklabels(ax.get_xticklabels(), rotation = 0)\n",
    "\n",
    "for child in ax.get_children():\n",
    "    if isinstance(child, matplotlib.text.Text):\n",
    "        child.set_fontproperties(font)\n",
    "for l in cbar.ax.yaxis.get_ticklabels():\n",
    "    l.set_fontproperties(font_small)"
   ]
  }
 ],
 "metadata": {
  "kernelspec": {
   "display_name": "Python 3",
   "language": "python",
   "name": "python3"
  },
  "language_info": {
   "codemirror_mode": {
    "name": "ipython",
    "version": 3
   },
   "file_extension": ".py",
   "mimetype": "text/x-python",
   "name": "python",
   "nbconvert_exporter": "python",
   "pygments_lexer": "ipython3",
   "version": "3.7.9"
  }
 },
 "nbformat": 4,
 "nbformat_minor": 5
}
