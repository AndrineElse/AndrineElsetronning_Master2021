{
 "cells": [
  {
   "cell_type": "markdown",
   "id": "champion-discretion",
   "metadata": {},
   "source": [
    "# Dictionary based classification"
   ]
  },
  {
   "cell_type": "code",
   "execution_count": 2,
   "id": "silent-rebel",
   "metadata": {},
   "outputs": [],
   "source": [
    "import numpy as np\n",
    "import pandas as pd\n",
    "import os\n",
    "import sys\n",
    "import time as time\n",
    "module_path = os.path.abspath(os.path.join('..'))\n",
    "sys.path.insert(1, module_path + '/src')\n",
    "import utility\n",
    "\n",
    "import sktime\n",
    "from sktime.utils.data_io import load_from_tsfile_to_dataframe\n",
    "from sktime.classification.dictionary_based._boss import IndividualBOSS, BOSSEnsemble\n",
    "\n",
    "import matplotlib.pyplot as plt\n",
    "\n",
    "from sklearn.metrics import classification_report\n",
    "from sklearn.model_selection import train_test_split\n",
    "from sklearn.utils import shuffle\n",
    "from sklearn.metrics import confusion_matrix\n",
    "\n",
    "\n",
    "from matplotlib.font_manager import FontProperties\n",
    "from matplotlib.colors import LinearSegmentedColormap\n",
    "import seaborn as sns\n",
    "import matplotlib\n",
    "font = FontProperties(fname = module_path + '/src/visualization/CharterRegular.ttf', size = 10, weight = 1000)\n",
    "font_small = FontProperties(fname = module_path + '/src/visualization/CharterRegular.ttf', size = 7, weight = 1000)\n",
    "color_map = ['#8ECAE6', '#219EBC', '#023047', '#FFB703', '#FB8500']\n",
    "class_names = ['crackle', 'no-crackle']"
   ]
  },
  {
   "cell_type": "code",
   "execution_count": 3,
   "id": "popular-depth",
   "metadata": {},
   "outputs": [
    {
     "name": "stdout",
     "output_type": "stream",
     "text": [
      "['0' '1'] [1759 3414]\n"
     ]
    }
   ],
   "source": [
    "X, y = load_from_tsfile_to_dataframe(module_path + '/data/ts_files/crackleNoCrackleSamleLength3000.ts')\n",
    "X, y = shuffle(X, y, random_state=0)\n",
    "X_train, X_test, y_train, y_test = train_test_split(X, y)\n",
    "\n",
    "labels, counts = np.unique(y_train, return_counts=True)\n",
    "print(labels, counts)"
   ]
  },
  {
   "cell_type": "markdown",
   "id": "future-tuner",
   "metadata": {},
   "source": [
    "# Individual BOSS"
   ]
  },
  {
   "cell_type": "code",
   "execution_count": null,
   "id": "chubby-beverage",
   "metadata": {},
   "outputs": [],
   "source": [
    "start = time.time()\n",
    "boss = IndividualBOSS()\n",
    "boss.fit(X_train, y_train)\n",
    "end = time.time()\n",
    "print('Train Time: ', str(end - start))\n",
    "start = time.time()\n",
    "boss_y_pred = boss.predict(X_test)\n",
    "print(f'Number of mislabeled points out of a total {X_test.shape[0]} points : {(y_test != boss_y_pred).sum()}')\n",
    "print(classification_report(boss_y_pred, y_test))\n",
    "end = time.time()\n",
    "print('Predict Time: ', str(end - start))"
   ]
  },
  {
   "cell_type": "code",
   "execution_count": 7,
   "id": "medieval-cancellation",
   "metadata": {},
   "outputs": [
    {
     "data": {
      "image/png": "[encoded data removed]",
      "text/plain": [
       "<Figure size 360x360 with 2 Axes>"
      ]
     },
     "metadata": {
      "needs_background": "light"
     },
     "output_type": "display_data"
    }
   ],
   "source": [
    "cm = confusion_matrix(boss_y_pred, y_test)\n",
    "f, ax = plt.subplots(1,1) # 1 x 1 array , can also be any other size\n",
    "f.set_size_inches(5, 5)\n",
    "\n",
    "cm = cm.astype('float') / cm.sum(axis=1)[:, np.newaxis]\n",
    "\n",
    "colors_2 = ['#FFFFFF', color_map[0]]\n",
    "cmap_name = 'my colormap'\n",
    "cm_map = LinearSegmentedColormap.from_list(cmap_name, colors_2)\n",
    "\n",
    "ax = sns.heatmap(cm, annot=True,\n",
    "            fmt='.2%', cmap=cm_map, xticklabels=class_names,yticklabels=class_names )\n",
    "cbar = ax.collections[0].colorbar\n",
    "for label in ax.get_yticklabels() :\n",
    "    label.set_fontproperties(font_small)\n",
    "for label in ax.get_xticklabels() :\n",
    "    label.set_fontproperties(font_small)\n",
    "ax.set_ylabel('True Label', fontproperties = font)\n",
    "ax.set_xlabel('Predicted Label', fontproperties = font)\n",
    "ax.set_xticklabels(ax.get_xticklabels(), rotation = 0)\n",
    "\n",
    "for child in ax.get_children():\n",
    "    if isinstance(child, matplotlib.text.Text):\n",
    "        child.set_fontproperties(font)\n",
    "for l in cbar.ax.yaxis.get_ticklabels():\n",
    "    l.set_fontproperties(font_small)"
   ]
  },
  {
   "cell_type": "markdown",
   "id": "hazardous-enforcement",
   "metadata": {},
   "source": [
    "# BOSS ensemble "
   ]
  },
  {
   "cell_type": "markdown",
   "id": "visible-failure",
   "metadata": {},
   "source": [
    "This code will not run with default settings. \n",
    "Try: \n",
    "\n",
    "* Running code with fewer ensembles ? \n",
    "* * 5 ensembles tested, which did not finish...\n",
    "* * Also tried 2 ensembles, still not finishing \n",
    "* Setting a 95 % limit of ensembles instead of the default 92% ? "
   ]
  },
  {
   "cell_type": "code",
   "execution_count": null,
   "id": "theoretical-sample",
   "metadata": {},
   "outputs": [],
   "source": [
    "start = time.time()\n",
    "boss = BOSSEnsemble(threshold = 0.95 , max_ensemble_size  = 2)\n",
    "boss.fit(X_train, y_train)\n",
    "end = time.time()\n",
    "print('Train Time: ', str(end - start))\n",
    "start = time.time()\n",
    "boss_y_pred = boss.predict(X_test)\n",
    "print(f'Number of mislabeled points out of a total {X_test.shape[0]} points : {(y_test != boss_y_pred).sum()}')\n",
    "print(classification_report(boss_y_pred, y_test))\n",
    "end = time.time()\n",
    "print('Predict Time: ', str(end - start))"
   ]
  },
  {
   "cell_type": "code",
   "execution_count": null,
   "id": "subject-bankruptcy",
   "metadata": {},
   "outputs": [],
   "source": [
    "cm = confusion_matrix(boss_y_pred, y_test)\n",
    "f, ax = plt.subplots(1,1) # 1 x 1 array , can also be any other size\n",
    "f.set_size_inches(5, 5)\n",
    "\n",
    "cm = cm.astype('float') / cm.sum(axis=1)[:, np.newaxis]\n",
    "\n",
    "colors_2 = ['#FFFFFF', color_map[0]]\n",
    "cmap_name = 'my colormap'\n",
    "cm_map = LinearSegmentedColormap.from_list(cmap_name, colors_2)\n",
    "\n",
    "ax = sns.heatmap(cm, annot=True,\n",
    "            fmt='.2%', cmap=cm_map, xticklabels=class_names,yticklabels=class_names )\n",
    "cbar = ax.collections[0].colorbar\n",
    "for label in ax.get_yticklabels() :\n",
    "    label.set_fontproperties(font_small)\n",
    "for label in ax.get_xticklabels() :\n",
    "    label.set_fontproperties(font_small)\n",
    "ax.set_ylabel('True Label', fontproperties = font)\n",
    "ax.set_xlabel('Predicted Label', fontproperties = font)\n",
    "ax.set_xticklabels(ax.get_xticklabels(), rotation = 0)\n",
    "\n",
    "for child in ax.get_children():\n",
    "    if isinstance(child, matplotlib.text.Text):\n",
    "        child.set_fontproperties(font)\n",
    "for l in cbar.ax.yaxis.get_ticklabels():\n",
    "    l.set_fontproperties(font_small)"
   ]
  }
 ],
 "metadata": {
  "kernelspec": {
   "display_name": "Python 3",
   "language": "python",
   "name": "python3"
  },
  "language_info": {
   "codemirror_mode": {
    "name": "ipython",
    "version": 3
   },
   "file_extension": ".py",
   "mimetype": "text/x-python",
   "name": "python",
   "nbconvert_exporter": "python",
   "pygments_lexer": "ipython3",
   "version": "3.7.9"
  }
 },
 "nbformat": 4,
 "nbformat_minor": 5
}
