{
 "cells": [
  {
   "cell_type": "markdown",
   "id": "artificial-provider",
   "metadata": {},
   "source": [
    "# Testing out double classification procedure"
   ]
  },
  {
   "cell_type": "markdown",
   "id": "bronze-intermediate",
   "metadata": {},
   "source": [
    "## Arrow head dataset"
   ]
  },
  {
   "cell_type": "code",
   "execution_count": 159,
   "id": "lasting-parish",
   "metadata": {
    "scrolled": true
   },
   "outputs": [
    {
     "name": "stdout",
     "output_type": "stream",
     "text": [
      "Original train value counts =  0    63\n",
      "1    53\n",
      "2    52\n",
      "dtype: int64\n",
      "Train value counts =  0    35\n",
      "1    27\n",
      "2    22\n",
      "dtype: int64\n",
      "Validation value counts =  2    30\n",
      "0    28\n",
      "1    26\n",
      "dtype: int64\n",
      "Test value counts =  0    18\n",
      "2    13\n",
      "1    12\n",
      "dtype: int64\n"
     ]
    }
   ],
   "source": [
    "from sktime.classification.compose import TimeSeriesForestClassifier\n",
    "from sklearn.model_selection import train_test_split\n",
    "from sklearn.metrics import accuracy_score\n",
    "from sktime.datasets import load_arrow_head\n",
    "from sktime.transformations.panel.catch22_features import Catch22\n",
    "\n",
    "X, y = load_arrow_head(return_X_y=True)\n",
    "c22f = Catch22()\n",
    "c22f.fit(X, y)\n",
    "X = c22f.transform(X)\n",
    "\n",
    "X_train_og, X_test, y_train_og, y_test = train_test_split(X, y, test_size = 0.2, random_state = 1)\n",
    "X_train, X_val, y_train, y_val = train_test_split(X_train_og, y_train_og, test_size = 0.5, random_state = 1)\n",
    "\n",
    "\n",
    "print('Original train value counts = ', y_train_og.value_counts())\n",
    "print('Train value counts = ', y_train.value_counts())\n",
    "print('Validation value counts = ', y_val.value_counts())\n",
    "print('Test value counts = ', y_test.value_counts())"
   ]
  },
  {
   "cell_type": "markdown",
   "id": "limiting-mercury",
   "metadata": {},
   "source": [
    "### Initial classification without using a double classifier"
   ]
  },
  {
   "cell_type": "code",
   "execution_count": 160,
   "id": "theoretical-silicon",
   "metadata": {},
   "outputs": [],
   "source": [
    "from sklearn.model_selection import GridSearchCV\n",
    "\n",
    "grid={\"C\":np.logspace(-3,3,7), \"penalty\":[\"l1\",\"l2\"]}\n",
    "logreg=LogisticRegression()\n",
    "logreg_cv=GridSearchCV(logreg,grid,cv=10)\n",
    "logreg_cv.fit(X_train_og,y_train_og)\n",
    "clf = logreg_cv.best_estimator_"
   ]
  },
  {
   "cell_type": "code",
   "execution_count": 161,
   "id": "fluid-essex",
   "metadata": {
    "scrolled": true
   },
   "outputs": [
    {
     "data": {
      "text/plain": [
       "<sklearn.metrics._plot.confusion_matrix.ConfusionMatrixDisplay at 0x7f10f5e8a710>"
      ]
     },
     "execution_count": 161,
     "metadata": {},
     "output_type": "execute_result"
    },
    {
     "data": {
      "image/png": "[encoded data removed]",
      "text/plain": [
       "<Figure size 432x288 with 2 Axes>"
      ]
     },
     "metadata": {
      "needs_background": "light"
     },
     "output_type": "display_data"
    }
   ],
   "source": [
    "from sklearn.linear_model import LogisticRegression\n",
    "from sklearn.metrics import plot_confusion_matrix\n",
    "import matplotlib.pyplot as plt\n",
    "\n",
    "class_names = [0,1,2]\n",
    "\n",
    "\n",
    "plot_confusion_matrix(clf, X_test, y_test,\n",
    "                                 display_labels=class_names,\n",
    "                                 cmap=plt.cm.Blues,\n",
    "                                 normalize='true')"
   ]
  },
  {
   "cell_type": "markdown",
   "id": "ordinary-launch",
   "metadata": {},
   "source": [
    "### Creating the second classifier"
   ]
  },
  {
   "cell_type": "code",
   "execution_count": 162,
   "id": "advisory-cricket",
   "metadata": {
    "scrolled": true
   },
   "outputs": [],
   "source": [
    "import pandas as pd\n",
    "import numpy as np\n",
    "\n",
    "new_X = X_val\n",
    "logreg_cv.fit(X_train,y_train)\n",
    "clf = logreg_cv.best_estimator_\n",
    "y_pred = clf.predict(X_val)\n",
    "new_y = pd.Series(np.hstack([y_pred != y_val]))\n",
    "\n",
    "\n",
    "logreg_cv.fit(new_X,new_y)\n",
    "clf_2 = logreg_cv.best_estimator_\n",
    "y_pred_2 = clf_2.predict(X_test)\n",
    "to_del = np.where(y_pred_2 == True)[0]\n",
    "X_test = X_test.reset_index(drop = True)\n",
    "y_test = y_test.reset_index(drop = True)\n",
    "\n",
    "\n",
    "X_test_new = X_test[~X_test.index.isin(to_del)]\n",
    "y_test_new = y_test[~y_test.index.isin(to_del)]"
   ]
  },
  {
   "cell_type": "code",
   "execution_count": 163,
   "id": "computational-reply",
   "metadata": {
    "scrolled": true
   },
   "outputs": [
    {
     "data": {
      "text/plain": [
       "<sklearn.metrics._plot.confusion_matrix.ConfusionMatrixDisplay at 0x7f10f5d6c5d0>"
      ]
     },
     "execution_count": 163,
     "metadata": {},
     "output_type": "execute_result"
    },
    {
     "data": {
      "image/png": "[encoded data removed]",
      "text/plain": [
       "<Figure size 432x288 with 2 Axes>"
      ]
     },
     "metadata": {
      "needs_background": "light"
     },
     "output_type": "display_data"
    }
   ],
   "source": [
    "class_names = [0,1,2]\n",
    "clf = LogisticRegression(random_state=0).fit(X_train_og, y_train_og)\n",
    "\n",
    "\n",
    "plot_confusion_matrix(clf, X_test_new, y_test_new,\n",
    "                                 display_labels=class_names,\n",
    "                                 cmap=plt.cm.Blues,\n",
    "                                 normalize='true')"
   ]
  },
  {
   "cell_type": "markdown",
   "id": "honest-pride",
   "metadata": {},
   "source": [
    "## Iris"
   ]
  },
  {
   "cell_type": "code",
   "execution_count": 157,
   "id": "alleged-inflation",
   "metadata": {},
   "outputs": [],
   "source": [
    "from sklearn.datasets import load_iris\n",
    "\n",
    "data = load_iris()\n",
    "X = pd.DataFrame(data.data, columns=data.feature_names)\n",
    "y = pd.DataFrame(data.target)\n",
    "\n",
    "\n",
    "X_train_og, X_test, y_train_og, y_test = train_test_split(X, y, test_size = 0.2, random_state = 1)\n",
    "X_train, X_val, y_train, y_val = train_test_split(X_train_og, y_train_og, test_size = 0.5, random_state = 1)\n",
    "\n",
    "\n",
    "import warnings\n",
    "from sklearn.exceptions import ConvergenceWarning, DataConversionWarning, FitFailedWarning\n",
    "warnings.filterwarnings(action='ignore', category=ConvergenceWarning)\n",
    "warnings.filterwarnings(action='ignore', category=DataConversionWarning)\n",
    "warnings.filterwarnings(action='ignore', category=FitFailedWarning)"
   ]
  },
  {
   "cell_type": "code",
   "execution_count": 153,
   "id": "contemporary-editing",
   "metadata": {},
   "outputs": [
    {
     "data": {
      "text/plain": [
       "<sklearn.metrics._plot.confusion_matrix.ConfusionMatrixDisplay at 0x7f10f5fee4d0>"
      ]
     },
     "execution_count": 153,
     "metadata": {},
     "output_type": "execute_result"
    },
    {
     "data": {
      "image/png": "[encoded data removed]",
      "text/plain": [
       "<Figure size 432x288 with 2 Axes>"
      ]
     },
     "metadata": {
      "needs_background": "light"
     },
     "output_type": "display_data"
    }
   ],
   "source": [
    "logreg_cv.fit(X_train_og,y_train_og)\n",
    "clf = logreg_cv.best_estimator_\n",
    "plot_confusion_matrix(clf, X_test, y_test,\n",
    "                                 display_labels=[0,1,2],\n",
    "                                 cmap=plt.cm.Blues,\n",
    "                                 normalize='true')"
   ]
  },
  {
   "cell_type": "code",
   "execution_count": 158,
   "id": "opposed-thompson",
   "metadata": {
    "scrolled": false
   },
   "outputs": [
    {
     "name": "stderr",
     "output_type": "stream",
     "text": [
      "/home/andrine/anaconda3/lib/python3.7/site-packages/sklearn/model_selection/_split.py:672: UserWarning: The least populated class in y has only 3 members, which is less than n_splits=10.\n",
      "  % (min_groups, self.n_splits)), UserWarning)\n"
     ]
    },
    {
     "name": "stdout",
     "output_type": "stream",
     "text": [
      "(30, 4)\n"
     ]
    },
    {
     "data": {
      "text/plain": [
       "<sklearn.metrics._plot.confusion_matrix.ConfusionMatrixDisplay at 0x7f10f6363310>"
      ]
     },
     "execution_count": 158,
     "metadata": {},
     "output_type": "execute_result"
    },
    {
     "data": {
      "image/png": "[encoded data removed]",
      "text/plain": [
       "<Figure size 432x288 with 2 Axes>"
      ]
     },
     "metadata": {
      "needs_background": "light"
     },
     "output_type": "display_data"
    }
   ],
   "source": [
    "new_X = X_val\n",
    "logreg_cv.fit(X_train,y_train)\n",
    "clf = logreg_cv.best_estimator_\n",
    "y_pred = clf.predict(X_val)\n",
    "y_val = np.transpose(y_val.to_numpy())\n",
    "new_y = pd.Series(np.hstack(y_pred != y_val))\n",
    "\n",
    "logreg_cv.fit(new_X,new_y)\n",
    "clf_2 = logreg_cv.best_estimator_\n",
    "y_pred_2 = clf_2.predict(X_test)\n",
    "to_del = np.where(y_pred_2 == True)[0]\n",
    "\n",
    "X_test = X_test.reset_index(drop = True)\n",
    "y_test = y_test.reset_index(drop = True)\n",
    "\n",
    "\n",
    "X_test_new = X_test[~X_test.index.isin(to_del)]\n",
    "y_test_new = y_test[~y_test.index.isin(to_del)]\n",
    "\n",
    "print(X_test_new.shape)\n",
    "\n",
    "class_names = [0,1,2]\n",
    "clf = LogisticRegression(random_state=0).fit(X_train_og, y_train_og)\n",
    "\n",
    "\n",
    "plot_confusion_matrix(clf, X_test_new, y_test_new,\n",
    "                                 display_labels=class_names,\n",
    "                                 cmap=plt.cm.Blues,\n",
    "                                 normalize='true')"
   ]
  }
 ],
 "metadata": {
  "kernelspec": {
   "display_name": "Python 3",
   "language": "python",
   "name": "python3"
  },
  "language_info": {
   "codemirror_mode": {
    "name": "ipython",
    "version": 3
   },
   "file_extension": ".py",
   "mimetype": "text/x-python",
   "name": "python",
   "nbconvert_exporter": "python",
   "pygments_lexer": "ipython3",
   "version": "3.7.9"
  }
 },
 "nbformat": 4,
 "nbformat_minor": 5
}
